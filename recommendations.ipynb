{
 "cells": [
  {
   "cell_type": "markdown",
   "id": "f4095ae4-7294-4b28-853e-88d235002c97",
   "metadata": {},
   "source": [
    "# Инициализация"
   ]
  },
  {
   "cell_type": "markdown",
   "id": "1a055348",
   "metadata": {},
   "source": [
    "Описание: \n",
    "В Яндекс Музыке более 70 млн треков. Взаимодействие с музыкальным сервисом должно быть удобным, простым и приятным. Для этого пользователю нужно предлагать треки или подборки, основываясь на его вкусах и предпочтениях.\n",
    "Бизнес-задача: Облегчить пользовательский опыт, создав систему персональных рекомендаций."
   ]
  },
  {
   "cell_type": "markdown",
   "id": "2f2318d2-9df8-4911-915e-15b725c44f8a",
   "metadata": {},
   "source": [
    "Загружаем библиотеки необходимые для выполнения кода ноутбука."
   ]
  },
  {
   "cell_type": "code",
   "execution_count": 3,
   "id": "662d04e7-1b0b-4e4a-9ddf-4526d7fef119",
   "metadata": {},
   "outputs": [],
   "source": [
    "import logging\n",
    "import memory_profiler\n",
    "import matplotlib.pyplot as plt\n",
    "import numpy as np # type: ignore\n",
    "import pandas as pd\n",
    "\n",
    "import pickle\n",
    "import joblib"
   ]
  },
  {
   "cell_type": "code",
   "execution_count": 4,
   "id": "b6acd6a4",
   "metadata": {},
   "outputs": [],
   "source": [
    "%matplotlib inline\n",
    "%config InlineBackend.figure_format = 'png'\n",
    "%config InlineBackend.figure_format = 'retina'"
   ]
  },
  {
   "cell_type": "markdown",
   "id": "bf80fbc5-b660-4fac-8fbb-a5cae77313b3",
   "metadata": {},
   "source": [
    "# === ЭТАП 1 ==="
   ]
  },
  {
   "cell_type": "markdown",
   "id": "5263a8b3-fe99-4204-8a2e-105182792c11",
   "metadata": {},
   "source": [
    "# Загрузка первичных данных"
   ]
  },
  {
   "cell_type": "markdown",
   "id": "1b54a6a5-1656-4e3c-99d1-49dc39451d33",
   "metadata": {},
   "source": [
    "Загружаем первичные данные из файлов:\n",
    "- tracks.parquet\n",
    "- catalog_names.parquet\n",
    "- interactions.parquet"
   ]
  },
  {
   "cell_type": "code",
   "execution_count": 5,
   "id": "5d4b8961-3f35-4e58-9d6b-3e2dbd2c4224",
   "metadata": {},
   "outputs": [],
   "source": [
    "#данные о треках\n",
    "tracks = pd.read_parquet(\"./tracks.parquet\")\n",
    "#имена артистов, названия альбомов, треков и жанров \n",
    "catalog = pd.read_parquet(\"./catalog_names.parquet\")\n",
    "#данные о том, какие пользователи прослушали трек\n",
    "interactions = pd.read_parquet(\"./interactions.parquet\")"
   ]
  },
  {
   "cell_type": "markdown",
   "id": "e8f2a1f7-a05f-4f39-af90-5f4018aa6f9d",
   "metadata": {},
   "source": [
    "# Обзор данных"
   ]
  },
  {
   "cell_type": "markdown",
   "id": "46a85307-896c-4fac-9fcf-f0dffa90889e",
   "metadata": {},
   "source": [
    "Проверяем данные, есть ли с ними явные проблемы."
   ]
  },
  {
   "cell_type": "code",
   "execution_count": 5,
   "id": "9bf09a28",
   "metadata": {},
   "outputs": [
    {
     "name": "stdout",
     "output_type": "stream",
     "text": [
      "<class 'pandas.core.frame.DataFrame'>\n",
      "RangeIndex: 1000000 entries, 0 to 999999\n",
      "Data columns (total 4 columns):\n",
      " #   Column    Non-Null Count    Dtype \n",
      "---  ------    --------------    ----- \n",
      " 0   track_id  1000000 non-null  int64 \n",
      " 1   albums    1000000 non-null  object\n",
      " 2   artists   1000000 non-null  object\n",
      " 3   genres    1000000 non-null  object\n",
      "dtypes: int64(1), object(3)\n",
      "memory usage: 30.5+ MB\n"
     ]
    }
   ],
   "source": [
    "tracks.info()"
   ]
  },
  {
   "cell_type": "code",
   "execution_count": 6,
   "id": "d662d5b9",
   "metadata": {},
   "outputs": [
    {
     "data": {
      "text/html": [
       "<div>\n",
       "<style scoped>\n",
       "    .dataframe tbody tr th:only-of-type {\n",
       "        vertical-align: middle;\n",
       "    }\n",
       "\n",
       "    .dataframe tbody tr th {\n",
       "        vertical-align: top;\n",
       "    }\n",
       "\n",
       "    .dataframe thead th {\n",
       "        text-align: right;\n",
       "    }\n",
       "</style>\n",
       "<table border=\"1\" class=\"dataframe\">\n",
       "  <thead>\n",
       "    <tr style=\"text-align: right;\">\n",
       "      <th></th>\n",
       "      <th>843149</th>\n",
       "      <th>813220</th>\n",
       "      <th>167165</th>\n",
       "      <th>448498</th>\n",
       "      <th>495650</th>\n",
       "    </tr>\n",
       "  </thead>\n",
       "  <tbody>\n",
       "    <tr>\n",
       "      <th>track_id</th>\n",
       "      <td>67751203</td>\n",
       "      <td>64025415</td>\n",
       "      <td>4364431</td>\n",
       "      <td>31308274</td>\n",
       "      <td>34221447</td>\n",
       "    </tr>\n",
       "    <tr>\n",
       "      <th>albums</th>\n",
       "      <td>[11161279, 12091735]</td>\n",
       "      <td>[10239529]</td>\n",
       "      <td>[495194, 523370]</td>\n",
       "      <td>[3793554]</td>\n",
       "      <td>[61521]</td>\n",
       "    </tr>\n",
       "    <tr>\n",
       "      <th>artists</th>\n",
       "      <td>[637979, 2356023]</td>\n",
       "      <td>[7625508, 6885650]</td>\n",
       "      <td>[422735, 314361]</td>\n",
       "      <td>[150722, 3298171, 3768644]</td>\n",
       "      <td>[164408]</td>\n",
       "    </tr>\n",
       "    <tr>\n",
       "      <th>genres</th>\n",
       "      <td>[11]</td>\n",
       "      <td>[16]</td>\n",
       "      <td>[44, 75]</td>\n",
       "      <td>[16]</td>\n",
       "      <td>[3, 75]</td>\n",
       "    </tr>\n",
       "  </tbody>\n",
       "</table>\n",
       "</div>"
      ],
      "text/plain": [
       "                        843149              813220            167165  \\\n",
       "track_id              67751203            64025415           4364431   \n",
       "albums    [11161279, 12091735]          [10239529]  [495194, 523370]   \n",
       "artists      [637979, 2356023]  [7625508, 6885650]  [422735, 314361]   \n",
       "genres                    [11]                [16]          [44, 75]   \n",
       "\n",
       "                              448498    495650  \n",
       "track_id                    31308274  34221447  \n",
       "albums                     [3793554]   [61521]  \n",
       "artists   [150722, 3298171, 3768644]  [164408]  \n",
       "genres                          [16]   [3, 75]  "
      ]
     },
     "execution_count": 6,
     "metadata": {},
     "output_type": "execute_result"
    }
   ],
   "source": [
    "tracks.sample(5).T"
   ]
  },
  {
   "cell_type": "code",
   "execution_count": 7,
   "id": "91979daa",
   "metadata": {},
   "outputs": [
    {
     "name": "stdout",
     "output_type": "stream",
     "text": [
      "<class 'pandas.core.frame.DataFrame'>\n",
      "RangeIndex: 1812471 entries, 0 to 1812470\n",
      "Data columns (total 3 columns):\n",
      " #   Column  Dtype \n",
      "---  ------  ----- \n",
      " 0   id      int64 \n",
      " 1   type    object\n",
      " 2   name    object\n",
      "dtypes: int64(1), object(2)\n",
      "memory usage: 41.5+ MB\n"
     ]
    }
   ],
   "source": [
    "catalog.info()"
   ]
  },
  {
   "cell_type": "code",
   "execution_count": 8,
   "id": "15ddfad4",
   "metadata": {},
   "outputs": [
    {
     "data": {
      "text/html": [
       "<div>\n",
       "<style scoped>\n",
       "    .dataframe tbody tr th:only-of-type {\n",
       "        vertical-align: middle;\n",
       "    }\n",
       "\n",
       "    .dataframe tbody tr th {\n",
       "        vertical-align: top;\n",
       "    }\n",
       "\n",
       "    .dataframe thead th {\n",
       "        text-align: right;\n",
       "    }\n",
       "</style>\n",
       "<table border=\"1\" class=\"dataframe\">\n",
       "  <thead>\n",
       "    <tr style=\"text-align: right;\">\n",
       "      <th></th>\n",
       "      <th>1766993</th>\n",
       "      <th>774095</th>\n",
       "      <th>1749239</th>\n",
       "      <th>174335</th>\n",
       "      <th>1005904</th>\n",
       "    </tr>\n",
       "  </thead>\n",
       "  <tbody>\n",
       "    <tr>\n",
       "      <th>id</th>\n",
       "      <td>86442450</td>\n",
       "      <td>6159778</td>\n",
       "      <td>82045939</td>\n",
       "      <td>2811105</td>\n",
       "      <td>6341391</td>\n",
       "    </tr>\n",
       "    <tr>\n",
       "      <th>type</th>\n",
       "      <td>track</td>\n",
       "      <td>artist</td>\n",
       "      <td>track</td>\n",
       "      <td>album</td>\n",
       "      <td>track</td>\n",
       "    </tr>\n",
       "    <tr>\n",
       "      <th>name</th>\n",
       "      <td>They Speak (Ow)</td>\n",
       "      <td>k1k1</td>\n",
       "      <td>Rome Total War</td>\n",
       "      <td>Deep Zen Meditation</td>\n",
       "      <td>Sway</td>\n",
       "    </tr>\n",
       "  </tbody>\n",
       "</table>\n",
       "</div>"
      ],
      "text/plain": [
       "              1766993  774095          1749239              174335   1005904\n",
       "id           86442450  6159778        82045939              2811105  6341391\n",
       "type            track   artist           track                album    track\n",
       "name  They Speak (Ow)     k1k1  Rome Total War  Deep Zen Meditation     Sway"
      ]
     },
     "execution_count": 8,
     "metadata": {},
     "output_type": "execute_result"
    }
   ],
   "source": [
    "catalog.sample(5).T"
   ]
  },
  {
   "cell_type": "code",
   "execution_count": 9,
   "id": "647a6756",
   "metadata": {},
   "outputs": [
    {
     "data": {
      "text/plain": [
       "1776697"
      ]
     },
     "execution_count": 9,
     "metadata": {},
     "output_type": "execute_result"
    }
   ],
   "source": [
    "catalog.id.nunique()"
   ]
  },
  {
   "cell_type": "code",
   "execution_count": 10,
   "id": "c9f8f17e-9b56-4f5a-a463-f694a993effb",
   "metadata": {},
   "outputs": [
    {
     "name": "stdout",
     "output_type": "stream",
     "text": [
      "<class 'pandas.core.frame.DataFrame'>\n",
      "Index: 222629898 entries, 0 to 291\n",
      "Data columns (total 4 columns):\n",
      " #   Column      Dtype         \n",
      "---  ------      -----         \n",
      " 0   user_id     int32         \n",
      " 1   track_id    int32         \n",
      " 2   track_seq   int16         \n",
      " 3   started_at  datetime64[ns]\n",
      "dtypes: datetime64[ns](1), int16(1), int32(2)\n",
      "memory usage: 5.4 GB\n"
     ]
    }
   ],
   "source": [
    "interactions.info()"
   ]
  },
  {
   "cell_type": "code",
   "execution_count": 11,
   "id": "a26df973",
   "metadata": {},
   "outputs": [
    {
     "data": {
      "text/html": [
       "<div>\n",
       "<style scoped>\n",
       "    .dataframe tbody tr th:only-of-type {\n",
       "        vertical-align: middle;\n",
       "    }\n",
       "\n",
       "    .dataframe tbody tr th {\n",
       "        vertical-align: top;\n",
       "    }\n",
       "\n",
       "    .dataframe thead th {\n",
       "        text-align: right;\n",
       "    }\n",
       "</style>\n",
       "<table border=\"1\" class=\"dataframe\">\n",
       "  <thead>\n",
       "    <tr style=\"text-align: right;\">\n",
       "      <th></th>\n",
       "      <th>802</th>\n",
       "      <th>690</th>\n",
       "      <th>301</th>\n",
       "      <th>394</th>\n",
       "      <th>349</th>\n",
       "    </tr>\n",
       "  </thead>\n",
       "  <tbody>\n",
       "    <tr>\n",
       "      <th>user_id</th>\n",
       "      <td>567600</td>\n",
       "      <td>936638</td>\n",
       "      <td>1128086</td>\n",
       "      <td>143906</td>\n",
       "      <td>527698</td>\n",
       "    </tr>\n",
       "    <tr>\n",
       "      <th>track_id</th>\n",
       "      <td>78085045</td>\n",
       "      <td>26398023</td>\n",
       "      <td>37874820</td>\n",
       "      <td>38917102</td>\n",
       "      <td>62100197</td>\n",
       "    </tr>\n",
       "    <tr>\n",
       "      <th>track_seq</th>\n",
       "      <td>803</td>\n",
       "      <td>691</td>\n",
       "      <td>302</td>\n",
       "      <td>395</td>\n",
       "      <td>350</td>\n",
       "    </tr>\n",
       "    <tr>\n",
       "      <th>started_at</th>\n",
       "      <td>2022-10-27 00:00:00</td>\n",
       "      <td>2022-08-28 00:00:00</td>\n",
       "      <td>2022-11-10 00:00:00</td>\n",
       "      <td>2022-08-11 00:00:00</td>\n",
       "      <td>2022-07-13 00:00:00</td>\n",
       "    </tr>\n",
       "  </tbody>\n",
       "</table>\n",
       "</div>"
      ],
      "text/plain": [
       "                            802                  690                  301  \\\n",
       "user_id                  567600               936638              1128086   \n",
       "track_id               78085045             26398023             37874820   \n",
       "track_seq                   803                  691                  302   \n",
       "started_at  2022-10-27 00:00:00  2022-08-28 00:00:00  2022-11-10 00:00:00   \n",
       "\n",
       "                            394                  349  \n",
       "user_id                  143906               527698  \n",
       "track_id               38917102             62100197  \n",
       "track_seq                   395                  350  \n",
       "started_at  2022-08-11 00:00:00  2022-07-13 00:00:00  "
      ]
     },
     "execution_count": 11,
     "metadata": {},
     "output_type": "execute_result"
    }
   ],
   "source": [
    "interactions.sample(5).T"
   ]
  },
  {
   "cell_type": "code",
   "execution_count": 12,
   "id": "beb9abd2",
   "metadata": {},
   "outputs": [
    {
     "data": {
      "text/plain": [
       "1000000"
      ]
     },
     "execution_count": 12,
     "metadata": {},
     "output_type": "execute_result"
    }
   ],
   "source": [
    "interactions.track_id.nunique()"
   ]
  },
  {
   "cell_type": "code",
   "execution_count": 13,
   "id": "46ce783d",
   "metadata": {},
   "outputs": [
    {
     "data": {
      "text/plain": [
       "1373221"
      ]
     },
     "execution_count": 13,
     "metadata": {},
     "output_type": "execute_result"
    }
   ],
   "source": [
    "interactions.user_id.nunique()"
   ]
  },
  {
   "cell_type": "code",
   "execution_count": 14,
   "id": "f0184caf",
   "metadata": {},
   "outputs": [],
   "source": [
    "#создаем рейтинг на основе номера трека в истории пользователя\n",
    "interactions[\"rating\"] = interactions[\"track_seq\"].rank(method='dense', ascending=False).astype(\"int\")"
   ]
  },
  {
   "cell_type": "code",
   "execution_count": 15,
   "id": "8bd504d8",
   "metadata": {},
   "outputs": [
    {
     "data": {
      "text/html": [
       "<div>\n",
       "<style scoped>\n",
       "    .dataframe tbody tr th:only-of-type {\n",
       "        vertical-align: middle;\n",
       "    }\n",
       "\n",
       "    .dataframe tbody tr th {\n",
       "        vertical-align: top;\n",
       "    }\n",
       "\n",
       "    .dataframe thead th {\n",
       "        text-align: right;\n",
       "    }\n",
       "</style>\n",
       "<table border=\"1\" class=\"dataframe\">\n",
       "  <thead>\n",
       "    <tr style=\"text-align: right;\">\n",
       "      <th></th>\n",
       "      <th>user_id</th>\n",
       "      <th>track_id</th>\n",
       "      <th>track_seq</th>\n",
       "      <th>started_at</th>\n",
       "      <th>rating</th>\n",
       "    </tr>\n",
       "  </thead>\n",
       "  <tbody>\n",
       "    <tr>\n",
       "      <th>0</th>\n",
       "      <td>0</td>\n",
       "      <td>99262</td>\n",
       "      <td>1</td>\n",
       "      <td>2022-07-17</td>\n",
       "      <td>16637</td>\n",
       "    </tr>\n",
       "    <tr>\n",
       "      <th>0</th>\n",
       "      <td>1</td>\n",
       "      <td>24417</td>\n",
       "      <td>1</td>\n",
       "      <td>2022-06-11</td>\n",
       "      <td>16637</td>\n",
       "    </tr>\n",
       "    <tr>\n",
       "      <th>0</th>\n",
       "      <td>2</td>\n",
       "      <td>264937</td>\n",
       "      <td>1</td>\n",
       "      <td>2022-04-15</td>\n",
       "      <td>16637</td>\n",
       "    </tr>\n",
       "    <tr>\n",
       "      <th>0</th>\n",
       "      <td>3</td>\n",
       "      <td>6006252</td>\n",
       "      <td>1</td>\n",
       "      <td>2022-02-05</td>\n",
       "      <td>16637</td>\n",
       "    </tr>\n",
       "    <tr>\n",
       "      <th>0</th>\n",
       "      <td>4</td>\n",
       "      <td>966</td>\n",
       "      <td>1</td>\n",
       "      <td>2022-03-29</td>\n",
       "      <td>16637</td>\n",
       "    </tr>\n",
       "    <tr>\n",
       "      <th>0</th>\n",
       "      <td>5</td>\n",
       "      <td>975</td>\n",
       "      <td>1</td>\n",
       "      <td>2022-05-12</td>\n",
       "      <td>16637</td>\n",
       "    </tr>\n",
       "    <tr>\n",
       "      <th>0</th>\n",
       "      <td>6</td>\n",
       "      <td>17309</td>\n",
       "      <td>1</td>\n",
       "      <td>2022-07-16</td>\n",
       "      <td>16637</td>\n",
       "    </tr>\n",
       "    <tr>\n",
       "      <th>0</th>\n",
       "      <td>7</td>\n",
       "      <td>89484</td>\n",
       "      <td>1</td>\n",
       "      <td>2022-04-07</td>\n",
       "      <td>16637</td>\n",
       "    </tr>\n",
       "    <tr>\n",
       "      <th>0</th>\n",
       "      <td>8</td>\n",
       "      <td>10867987</td>\n",
       "      <td>1</td>\n",
       "      <td>2022-02-06</td>\n",
       "      <td>16637</td>\n",
       "    </tr>\n",
       "    <tr>\n",
       "      <th>0</th>\n",
       "      <td>9</td>\n",
       "      <td>1197558</td>\n",
       "      <td>1</td>\n",
       "      <td>2022-11-22</td>\n",
       "      <td>16637</td>\n",
       "    </tr>\n",
       "  </tbody>\n",
       "</table>\n",
       "</div>"
      ],
      "text/plain": [
       "   user_id  track_id  track_seq started_at  rating\n",
       "0        0     99262          1 2022-07-17   16637\n",
       "0        1     24417          1 2022-06-11   16637\n",
       "0        2    264937          1 2022-04-15   16637\n",
       "0        3   6006252          1 2022-02-05   16637\n",
       "0        4       966          1 2022-03-29   16637\n",
       "0        5       975          1 2022-05-12   16637\n",
       "0        6     17309          1 2022-07-16   16637\n",
       "0        7     89484          1 2022-04-07   16637\n",
       "0        8  10867987          1 2022-02-06   16637\n",
       "0        9   1197558          1 2022-11-22   16637"
      ]
     },
     "execution_count": 15,
     "metadata": {},
     "output_type": "execute_result"
    }
   ],
   "source": [
    "interactions.nlargest(10, 'rating')"
   ]
  },
  {
   "cell_type": "markdown",
   "id": "318b573a-9e2d-4808-95db-60cfb8bbdb73",
   "metadata": {
    "editable": true,
    "slideshow": {
     "slide_type": ""
    },
    "tags": []
   },
   "source": [
    "# Выводы"
   ]
  },
  {
   "cell_type": "markdown",
   "id": "caa96e12-36a8-4401-8f11-98627a49ae9d",
   "metadata": {},
   "source": [
    "Приведём выводы по первому знакомству с данными:\n",
    "- есть ли с данными явные проблемы,\n",
    "- какие корректирующие действия (в целом) были предприняты."
   ]
  },
  {
   "cell_type": "markdown",
   "id": "1fc5b76f",
   "metadata": {},
   "source": [
    "Данные имеют правильный тип. Пропусков нет. Уникальных треков 1000000, пользователей 1373221. По номеру трека в истории пользователя, создаем рейтинг трека"
   ]
  },
  {
   "cell_type": "markdown",
   "id": "7bc3296b-eba6-4333-a78d-b9304aa87e3d",
   "metadata": {},
   "source": [
    "# === ЭТАП 2 ==="
   ]
  },
  {
   "cell_type": "markdown",
   "id": "68e73960-fd38-4e15-8db0-9a25c35dfd25",
   "metadata": {},
   "source": [
    "# EDA"
   ]
  },
  {
   "cell_type": "markdown",
   "id": "a30e823e-8e0f-4a76-a02e-8d1ba8bf0f8a",
   "metadata": {},
   "source": [
    "Распределение количества прослушанных треков."
   ]
  },
  {
   "cell_type": "code",
   "execution_count": 6,
   "id": "5ffafe84",
   "metadata": {},
   "outputs": [
    {
     "data": {
      "text/html": [
       "<div>\n",
       "<style scoped>\n",
       "    .dataframe tbody tr th:only-of-type {\n",
       "        vertical-align: middle;\n",
       "    }\n",
       "\n",
       "    .dataframe tbody tr th {\n",
       "        vertical-align: top;\n",
       "    }\n",
       "\n",
       "    .dataframe thead th {\n",
       "        text-align: right;\n",
       "    }\n",
       "</style>\n",
       "<table border=\"1\" class=\"dataframe\">\n",
       "  <thead>\n",
       "    <tr style=\"text-align: right;\">\n",
       "      <th></th>\n",
       "      <th>user</th>\n",
       "      <th>track_nunique</th>\n",
       "      <th>track_count</th>\n",
       "    </tr>\n",
       "    <tr>\n",
       "      <th>started_at</th>\n",
       "      <th></th>\n",
       "      <th></th>\n",
       "      <th></th>\n",
       "    </tr>\n",
       "  </thead>\n",
       "  <tbody>\n",
       "    <tr>\n",
       "      <th>2022-01-01</th>\n",
       "      <td>5835</td>\n",
       "      <td>4767</td>\n",
       "      <td>35487</td>\n",
       "    </tr>\n",
       "    <tr>\n",
       "      <th>2022-01-02</th>\n",
       "      <td>7165</td>\n",
       "      <td>6524</td>\n",
       "      <td>37053</td>\n",
       "    </tr>\n",
       "    <tr>\n",
       "      <th>2022-01-03</th>\n",
       "      <td>8357</td>\n",
       "      <td>7871</td>\n",
       "      <td>39895</td>\n",
       "    </tr>\n",
       "    <tr>\n",
       "      <th>2022-01-04</th>\n",
       "      <td>9403</td>\n",
       "      <td>9271</td>\n",
       "      <td>43047</td>\n",
       "    </tr>\n",
       "    <tr>\n",
       "      <th>2022-01-05</th>\n",
       "      <td>10861</td>\n",
       "      <td>10429</td>\n",
       "      <td>46365</td>\n",
       "    </tr>\n",
       "    <tr>\n",
       "      <th>...</th>\n",
       "      <td>...</td>\n",
       "      <td>...</td>\n",
       "      <td>...</td>\n",
       "    </tr>\n",
       "    <tr>\n",
       "      <th>2022-12-27</th>\n",
       "      <td>266882</td>\n",
       "      <td>159038</td>\n",
       "      <td>806317</td>\n",
       "    </tr>\n",
       "    <tr>\n",
       "      <th>2022-12-28</th>\n",
       "      <td>247031</td>\n",
       "      <td>147529</td>\n",
       "      <td>735637</td>\n",
       "    </tr>\n",
       "    <tr>\n",
       "      <th>2022-12-29</th>\n",
       "      <td>223515</td>\n",
       "      <td>131721</td>\n",
       "      <td>641531</td>\n",
       "    </tr>\n",
       "    <tr>\n",
       "      <th>2022-12-30</th>\n",
       "      <td>194936</td>\n",
       "      <td>106737</td>\n",
       "      <td>499698</td>\n",
       "    </tr>\n",
       "    <tr>\n",
       "      <th>2022-12-31</th>\n",
       "      <td>160681</td>\n",
       "      <td>50169</td>\n",
       "      <td>160681</td>\n",
       "    </tr>\n",
       "  </tbody>\n",
       "</table>\n",
       "<p>365 rows × 3 columns</p>\n",
       "</div>"
      ],
      "text/plain": [
       "              user  track_nunique  track_count\n",
       "started_at                                    \n",
       "2022-01-01    5835           4767        35487\n",
       "2022-01-02    7165           6524        37053\n",
       "2022-01-03    8357           7871        39895\n",
       "2022-01-04    9403           9271        43047\n",
       "2022-01-05   10861          10429        46365\n",
       "...            ...            ...          ...\n",
       "2022-12-27  266882         159038       806317\n",
       "2022-12-28  247031         147529       735637\n",
       "2022-12-29  223515         131721       641531\n",
       "2022-12-30  194936         106737       499698\n",
       "2022-12-31  160681          50169       160681\n",
       "\n",
       "[365 rows x 3 columns]"
      ]
     },
     "execution_count": 6,
     "metadata": {},
     "output_type": "execute_result"
    }
   ],
   "source": [
    "#группируем по дате прослушивания: количество пользователей и прослушанных треков\n",
    "date_track = interactions.groupby(\"started_at\").agg(user=(\"user_id\", \"nunique\"), track_nunique=(\"track_id\", \"nunique\"), track_count=(\"track_id\", \"count\"))\n",
    "date_track"
   ]
  },
  {
   "cell_type": "code",
   "execution_count": 5,
   "id": "168b9f06",
   "metadata": {},
   "outputs": [
    {
     "data": {
      "image/png": "[encoded data removed]",
      "text/plain": [
       "<Figure size 640x480 with 1 Axes>"
      ]
     },
     "metadata": {
      "image/png": {
       "height": 464,
       "width": 547
      }
     },
     "output_type": "display_data"
    }
   ],
   "source": [
    "date_track[['user', 'track_count', 'track_nunique']].plot();"
   ]
  },
  {
   "cell_type": "markdown",
   "id": "78ed0c87",
   "metadata": {},
   "source": [
    "Вывод: В начале года музыку слушают меньше, в течении года растет, пик по количеству прослушанных треков и количеству пользователей приходится на ноябрь-декабрь, 31 декабря резко падает. К концу года больше пользователей слушают одинаковую музыку."
   ]
  },
  {
   "cell_type": "code",
   "execution_count": 6,
   "id": "d4abfba1",
   "metadata": {},
   "outputs": [
    {
     "data": {
      "text/html": [
       "<div>\n",
       "<style scoped>\n",
       "    .dataframe tbody tr th:only-of-type {\n",
       "        vertical-align: middle;\n",
       "    }\n",
       "\n",
       "    .dataframe tbody tr th {\n",
       "        vertical-align: top;\n",
       "    }\n",
       "\n",
       "    .dataframe thead th {\n",
       "        text-align: right;\n",
       "    }\n",
       "</style>\n",
       "<table border=\"1\" class=\"dataframe\">\n",
       "  <thead>\n",
       "    <tr style=\"text-align: right;\">\n",
       "      <th></th>\n",
       "      <th>track</th>\n",
       "    </tr>\n",
       "    <tr>\n",
       "      <th>user_id</th>\n",
       "      <th></th>\n",
       "    </tr>\n",
       "  </thead>\n",
       "  <tbody>\n",
       "    <tr>\n",
       "      <th>398979</th>\n",
       "      <td>16637</td>\n",
       "    </tr>\n",
       "    <tr>\n",
       "      <th>1200889</th>\n",
       "      <td>15392</td>\n",
       "    </tr>\n",
       "    <tr>\n",
       "      <th>590868</th>\n",
       "      <td>15136</td>\n",
       "    </tr>\n",
       "    <tr>\n",
       "      <th>731216</th>\n",
       "      <td>13223</td>\n",
       "    </tr>\n",
       "    <tr>\n",
       "      <th>339714</th>\n",
       "      <td>12768</td>\n",
       "    </tr>\n",
       "    <tr>\n",
       "      <th>...</th>\n",
       "      <td>...</td>\n",
       "    </tr>\n",
       "    <tr>\n",
       "      <th>1330396</th>\n",
       "      <td>1</td>\n",
       "    </tr>\n",
       "    <tr>\n",
       "      <th>1330365</th>\n",
       "      <td>1</td>\n",
       "    </tr>\n",
       "    <tr>\n",
       "      <th>258536</th>\n",
       "      <td>1</td>\n",
       "    </tr>\n",
       "    <tr>\n",
       "      <th>808373</th>\n",
       "      <td>1</td>\n",
       "    </tr>\n",
       "    <tr>\n",
       "      <th>1297777</th>\n",
       "      <td>1</td>\n",
       "    </tr>\n",
       "  </tbody>\n",
       "</table>\n",
       "<p>1373221 rows × 1 columns</p>\n",
       "</div>"
      ],
      "text/plain": [
       "         track\n",
       "user_id       \n",
       "398979   16637\n",
       "1200889  15392\n",
       "590868   15136\n",
       "731216   13223\n",
       "339714   12768\n",
       "...        ...\n",
       "1330396      1\n",
       "1330365      1\n",
       "258536       1\n",
       "808373       1\n",
       "1297777      1\n",
       "\n",
       "[1373221 rows x 1 columns]"
      ]
     },
     "execution_count": 6,
     "metadata": {},
     "output_type": "execute_result"
    }
   ],
   "source": [
    "#группируем по пользователям: количество, прослушанных уникальных треков\n",
    "user_gr = interactions.groupby(\"user_id\").agg(track=(\"track_id\", \"nunique\")).sort_values(by='track', ascending=False).reset_index()\n",
    "user_gr"
   ]
  },
  {
   "cell_type": "code",
   "execution_count": 43,
   "id": "7cf39a89",
   "metadata": {},
   "outputs": [
    {
     "data": {
      "text/html": [
       "<div>\n",
       "<style scoped>\n",
       "    .dataframe tbody tr th:only-of-type {\n",
       "        vertical-align: middle;\n",
       "    }\n",
       "\n",
       "    .dataframe tbody tr th {\n",
       "        vertical-align: top;\n",
       "    }\n",
       "\n",
       "    .dataframe thead th {\n",
       "        text-align: right;\n",
       "    }\n",
       "</style>\n",
       "<table border=\"1\" class=\"dataframe\">\n",
       "  <thead>\n",
       "    <tr style=\"text-align: right;\">\n",
       "      <th></th>\n",
       "      <th>track</th>\n",
       "    </tr>\n",
       "  </thead>\n",
       "  <tbody>\n",
       "    <tr>\n",
       "      <th>count</th>\n",
       "      <td>8198.000000</td>\n",
       "    </tr>\n",
       "    <tr>\n",
       "      <th>mean</th>\n",
       "      <td>3177.654428</td>\n",
       "    </tr>\n",
       "    <tr>\n",
       "      <th>std</th>\n",
       "      <td>1463.748493</td>\n",
       "    </tr>\n",
       "    <tr>\n",
       "      <th>min</th>\n",
       "      <td>2001.000000</td>\n",
       "    </tr>\n",
       "    <tr>\n",
       "      <th>25%</th>\n",
       "      <td>2259.250000</td>\n",
       "    </tr>\n",
       "    <tr>\n",
       "      <th>50%</th>\n",
       "      <td>2656.000000</td>\n",
       "    </tr>\n",
       "    <tr>\n",
       "      <th>75%</th>\n",
       "      <td>3490.000000</td>\n",
       "    </tr>\n",
       "    <tr>\n",
       "      <th>max</th>\n",
       "      <td>16637.000000</td>\n",
       "    </tr>\n",
       "  </tbody>\n",
       "</table>\n",
       "</div>"
      ],
      "text/plain": [
       "              track\n",
       "count   8198.000000\n",
       "mean    3177.654428\n",
       "std     1463.748493\n",
       "min     2001.000000\n",
       "25%     2259.250000\n",
       "50%     2656.000000\n",
       "75%     3490.000000\n",
       "max    16637.000000"
      ]
     },
     "execution_count": 43,
     "metadata": {},
     "output_type": "execute_result"
    }
   ],
   "source": [
    "#оставляем выборку из пользователей, которые прослушали не менее 2000 треков, выведем характеристики\n",
    "us = user_gr.query(\"track>2000\")\n",
    "us.describe()"
   ]
  },
  {
   "cell_type": "markdown",
   "id": "d765519a-18dd-4d30-9e29-cc2d84cacd79",
   "metadata": {},
   "source": [
    "Наиболее популярные треки"
   ]
  },
  {
   "cell_type": "code",
   "execution_count": 6,
   "id": "aecaf630-fde0-4860-b84a-42c933a9606e",
   "metadata": {},
   "outputs": [
    {
     "data": {
      "text/html": [
       "<div>\n",
       "<style scoped>\n",
       "    .dataframe tbody tr th:only-of-type {\n",
       "        vertical-align: middle;\n",
       "    }\n",
       "\n",
       "    .dataframe tbody tr th {\n",
       "        vertical-align: top;\n",
       "    }\n",
       "\n",
       "    .dataframe thead th {\n",
       "        text-align: right;\n",
       "    }\n",
       "</style>\n",
       "<table border=\"1\" class=\"dataframe\">\n",
       "  <thead>\n",
       "    <tr style=\"text-align: right;\">\n",
       "      <th></th>\n",
       "      <th>user</th>\n",
       "    </tr>\n",
       "    <tr>\n",
       "      <th>track_id</th>\n",
       "      <th></th>\n",
       "    </tr>\n",
       "  </thead>\n",
       "  <tbody>\n",
       "    <tr>\n",
       "      <th>53404</th>\n",
       "      <td>111062</td>\n",
       "    </tr>\n",
       "    <tr>\n",
       "      <th>33311009</th>\n",
       "      <td>106921</td>\n",
       "    </tr>\n",
       "    <tr>\n",
       "      <th>178529</th>\n",
       "      <td>101924</td>\n",
       "    </tr>\n",
       "    <tr>\n",
       "      <th>35505245</th>\n",
       "      <td>99490</td>\n",
       "    </tr>\n",
       "    <tr>\n",
       "      <th>65851540</th>\n",
       "      <td>86670</td>\n",
       "    </tr>\n",
       "    <tr>\n",
       "      <th>...</th>\n",
       "      <td>...</td>\n",
       "    </tr>\n",
       "    <tr>\n",
       "      <th>44207632</th>\n",
       "      <td>5</td>\n",
       "    </tr>\n",
       "    <tr>\n",
       "      <th>44204233</th>\n",
       "      <td>5</td>\n",
       "    </tr>\n",
       "    <tr>\n",
       "      <th>44203558</th>\n",
       "      <td>5</td>\n",
       "    </tr>\n",
       "    <tr>\n",
       "      <th>44201169</th>\n",
       "      <td>5</td>\n",
       "    </tr>\n",
       "    <tr>\n",
       "      <th>34550746</th>\n",
       "      <td>5</td>\n",
       "    </tr>\n",
       "  </tbody>\n",
       "</table>\n",
       "<p>1000000 rows × 1 columns</p>\n",
       "</div>"
      ],
      "text/plain": [
       "            user\n",
       "track_id        \n",
       "53404     111062\n",
       "33311009  106921\n",
       "178529    101924\n",
       "35505245   99490\n",
       "65851540   86670\n",
       "...          ...\n",
       "44207632       5\n",
       "44204233       5\n",
       "44203558       5\n",
       "44201169       5\n",
       "34550746       5\n",
       "\n",
       "[1000000 rows x 1 columns]"
      ]
     },
     "execution_count": 6,
     "metadata": {},
     "output_type": "execute_result"
    }
   ],
   "source": [
    "#группируем по трекам: сколько пользователей их прослушало\n",
    "track_pop = interactions.groupby(\"track_id\").agg(user=(\"user_id\", \"nunique\")).sort_values(by=\"user\", ascending=False)\n",
    "track_pop"
   ]
  },
  {
   "cell_type": "code",
   "execution_count": 21,
   "id": "cce5a54e",
   "metadata": {},
   "outputs": [],
   "source": [
    "#возьмем треки, прослушанные более 5000 раз\n",
    "tr = track_pop.query('user > 5000')\n",
    "#посмотрим статистику данной выборки\n",
    "tr.describe()"
   ]
  },
  {
   "cell_type": "markdown",
   "id": "b1c32a5a-d3be-4f96-8dd9-f7860951020c",
   "metadata": {},
   "source": [
    "Наиболее популярные жанры"
   ]
  },
  {
   "cell_type": "code",
   "execution_count": 43,
   "id": "1bc50491-9235-4d3c-a6c2-297f7c05a959",
   "metadata": {},
   "outputs": [],
   "source": [
    "#составим список жанров\n",
    "list = []\n",
    "for row in tracks[\"genres\"]:\n",
    "    for genre in row:\n",
    "        list.append(genre)\n",
    "\n",
    "#посчитаем сколько раз повторяется\n",
    "from collections import defaultdict\n",
    "counter = defaultdict(int)\n",
    "for elem in list:\n",
    "    counter[elem] += 1\n",
    "\n",
    "#отсортируем по убыванию\n",
    "genre = sorted(counter.items(), key=lambda item: item[1], reverse=True)\n"
   ]
  },
  {
   "cell_type": "code",
   "execution_count": 44,
   "id": "5fa1f2f2",
   "metadata": {},
   "outputs": [
    {
     "data": {
      "text/html": [
       "<div>\n",
       "<style scoped>\n",
       "    .dataframe tbody tr th:only-of-type {\n",
       "        vertical-align: middle;\n",
       "    }\n",
       "\n",
       "    .dataframe tbody tr th {\n",
       "        vertical-align: top;\n",
       "    }\n",
       "\n",
       "    .dataframe thead th {\n",
       "        text-align: right;\n",
       "    }\n",
       "</style>\n",
       "<table border=\"1\" class=\"dataframe\">\n",
       "  <thead>\n",
       "    <tr style=\"text-align: right;\">\n",
       "      <th></th>\n",
       "      <th>id</th>\n",
       "      <th>genre_count</th>\n",
       "      <th>name</th>\n",
       "    </tr>\n",
       "  </thead>\n",
       "  <tbody>\n",
       "    <tr>\n",
       "      <th>0</th>\n",
       "      <td>11</td>\n",
       "      <td>166285</td>\n",
       "      <td>pop</td>\n",
       "    </tr>\n",
       "    <tr>\n",
       "      <th>1</th>\n",
       "      <td>75</td>\n",
       "      <td>128212</td>\n",
       "      <td>rap</td>\n",
       "    </tr>\n",
       "    <tr>\n",
       "      <th>2</th>\n",
       "      <td>102</td>\n",
       "      <td>118509</td>\n",
       "      <td>allrock</td>\n",
       "    </tr>\n",
       "    <tr>\n",
       "      <th>3</th>\n",
       "      <td>68</td>\n",
       "      <td>114245</td>\n",
       "      <td>electronics</td>\n",
       "    </tr>\n",
       "    <tr>\n",
       "      <th>4</th>\n",
       "      <td>47</td>\n",
       "      <td>72311</td>\n",
       "      <td>metal</td>\n",
       "    </tr>\n",
       "    <tr>\n",
       "      <th>5</th>\n",
       "      <td>3</td>\n",
       "      <td>65958</td>\n",
       "      <td>rusrap</td>\n",
       "    </tr>\n",
       "    <tr>\n",
       "      <th>6</th>\n",
       "      <td>44</td>\n",
       "      <td>59778</td>\n",
       "      <td>foreignrap</td>\n",
       "    </tr>\n",
       "    <tr>\n",
       "      <th>7</th>\n",
       "      <td>14</td>\n",
       "      <td>55177</td>\n",
       "      <td>rock</td>\n",
       "    </tr>\n",
       "    <tr>\n",
       "      <th>8</th>\n",
       "      <td>16</td>\n",
       "      <td>51631</td>\n",
       "      <td>dance</td>\n",
       "    </tr>\n",
       "    <tr>\n",
       "      <th>9</th>\n",
       "      <td>20</td>\n",
       "      <td>46707</td>\n",
       "      <td>ruspop</td>\n",
       "    </tr>\n",
       "    <tr>\n",
       "      <th>10</th>\n",
       "      <td>13</td>\n",
       "      <td>42902</td>\n",
       "      <td>alternative</td>\n",
       "    </tr>\n",
       "    <tr>\n",
       "      <th>11</th>\n",
       "      <td>25</td>\n",
       "      <td>41254</td>\n",
       "      <td>soundtrack</td>\n",
       "    </tr>\n",
       "    <tr>\n",
       "      <th>12</th>\n",
       "      <td>325</td>\n",
       "      <td>38544</td>\n",
       "      <td>estrada</td>\n",
       "    </tr>\n",
       "    <tr>\n",
       "      <th>13</th>\n",
       "      <td>21</td>\n",
       "      <td>37547</td>\n",
       "      <td>folk</td>\n",
       "    </tr>\n",
       "    <tr>\n",
       "      <th>14</th>\n",
       "      <td>2</td>\n",
       "      <td>36649</td>\n",
       "      <td>rusrock</td>\n",
       "    </tr>\n",
       "    <tr>\n",
       "      <th>15</th>\n",
       "      <td>70</td>\n",
       "      <td>34825</td>\n",
       "      <td>indie</td>\n",
       "    </tr>\n",
       "    <tr>\n",
       "      <th>16</th>\n",
       "      <td>19</td>\n",
       "      <td>28676</td>\n",
       "      <td>rusestrada</td>\n",
       "    </tr>\n",
       "    <tr>\n",
       "      <th>17</th>\n",
       "      <td>335</td>\n",
       "      <td>21241</td>\n",
       "      <td>relax</td>\n",
       "    </tr>\n",
       "    <tr>\n",
       "      <th>18</th>\n",
       "      <td>69</td>\n",
       "      <td>21234</td>\n",
       "      <td>classicalmusic</td>\n",
       "    </tr>\n",
       "    <tr>\n",
       "      <th>19</th>\n",
       "      <td>28</td>\n",
       "      <td>19947</td>\n",
       "      <td>jazz</td>\n",
       "    </tr>\n",
       "    <tr>\n",
       "      <th>20</th>\n",
       "      <td>12</td>\n",
       "      <td>18366</td>\n",
       "      <td>shanson</td>\n",
       "    </tr>\n",
       "    <tr>\n",
       "      <th>21</th>\n",
       "      <td>62</td>\n",
       "      <td>15977</td>\n",
       "      <td>podcasts</td>\n",
       "    </tr>\n",
       "    <tr>\n",
       "      <th>22</th>\n",
       "      <td>74</td>\n",
       "      <td>15854</td>\n",
       "      <td>rnb</td>\n",
       "    </tr>\n",
       "    <tr>\n",
       "      <th>23</th>\n",
       "      <td>50</td>\n",
       "      <td>15678</td>\n",
       "      <td>punk</td>\n",
       "    </tr>\n",
       "    <tr>\n",
       "      <th>24</th>\n",
       "      <td>6</td>\n",
       "      <td>14459</td>\n",
       "      <td>local-indie</td>\n",
       "    </tr>\n",
       "    <tr>\n",
       "      <th>25</th>\n",
       "      <td>101</td>\n",
       "      <td>14409</td>\n",
       "      <td>house</td>\n",
       "    </tr>\n",
       "    <tr>\n",
       "      <th>26</th>\n",
       "      <td>86</td>\n",
       "      <td>12997</td>\n",
       "      <td>trance</td>\n",
       "    </tr>\n",
       "    <tr>\n",
       "      <th>27</th>\n",
       "      <td>112</td>\n",
       "      <td>12908</td>\n",
       "      <td>bard</td>\n",
       "    </tr>\n",
       "    <tr>\n",
       "      <th>28</th>\n",
       "      <td>23</td>\n",
       "      <td>12575</td>\n",
       "      <td>classical</td>\n",
       "    </tr>\n",
       "    <tr>\n",
       "      <th>29</th>\n",
       "      <td>59</td>\n",
       "      <td>10916</td>\n",
       "      <td>hardrock</td>\n",
       "    </tr>\n",
       "  </tbody>\n",
       "</table>\n",
       "</div>"
      ],
      "text/plain": [
       "     id  genre_count            name\n",
       "0    11       166285             pop\n",
       "1    75       128212             rap\n",
       "2   102       118509         allrock\n",
       "3    68       114245     electronics\n",
       "4    47        72311           metal\n",
       "5     3        65958          rusrap\n",
       "6    44        59778      foreignrap\n",
       "7    14        55177            rock\n",
       "8    16        51631           dance\n",
       "9    20        46707          ruspop\n",
       "10   13        42902     alternative\n",
       "11   25        41254      soundtrack\n",
       "12  325        38544         estrada\n",
       "13   21        37547            folk\n",
       "14    2        36649         rusrock\n",
       "15   70        34825           indie\n",
       "16   19        28676      rusestrada\n",
       "17  335        21241           relax\n",
       "18   69        21234  classicalmusic\n",
       "19   28        19947            jazz\n",
       "20   12        18366         shanson\n",
       "21   62        15977        podcasts\n",
       "22   74        15854             rnb\n",
       "23   50        15678            punk\n",
       "24    6        14459     local-indie\n",
       "25  101        14409           house\n",
       "26   86        12997          trance\n",
       "27  112        12908            bard\n",
       "28   23        12575       classical\n",
       "29   59        10916        hardrock"
      ]
     },
     "execution_count": 44,
     "metadata": {},
     "output_type": "execute_result"
    }
   ],
   "source": [
    "#переводим в датафрейм\n",
    "genre = pd.DataFrame(genre)\n",
    "#переименовавываем смтолбцы\n",
    "genre = genre.rename(columns={0: \"id\", 1: \"genre_count\"})\n",
    "#соедняем с названиями\n",
    "popular_genre = genre.merge(catalog[[\"name\", \"id\"]], on = \"id\", how = \"left\")\n",
    "#удаляем дубликаты индексов артистов\n",
    "popular_genre.drop_duplicates(subset=\"id\", keep='last', inplace=True)\n",
    "popular_genre.reset_index(drop=True, inplace=True)\n",
    "#оставляем 30 самых популярных\n",
    "pop_genre = popular_genre.head(30)\n",
    "pop_genre"
   ]
  },
  {
   "cell_type": "code",
   "execution_count": 45,
   "id": "da8bfadf",
   "metadata": {},
   "outputs": [],
   "source": [
    "#pop_genre.to_parquet(\"pop_genre.parquet\")"
   ]
  },
  {
   "cell_type": "markdown",
   "id": "15254e66-e80e-473b-ba24-abebea5ccac7",
   "metadata": {},
   "source": [
    "Треки, которые никто не прослушал"
   ]
  },
  {
   "cell_type": "code",
   "execution_count": 7,
   "id": "77a24c10",
   "metadata": {},
   "outputs": [],
   "source": [
    "#отсортируем группировку по трекам по возрастанию\n",
    "track_min = track_pop.sort_values(by=\"user\")"
   ]
  },
  {
   "cell_type": "code",
   "execution_count": 8,
   "id": "672fc0ff",
   "metadata": {},
   "outputs": [
    {
     "data": {
      "text/html": [
       "<div>\n",
       "<style scoped>\n",
       "    .dataframe tbody tr th:only-of-type {\n",
       "        vertical-align: middle;\n",
       "    }\n",
       "\n",
       "    .dataframe tbody tr th {\n",
       "        vertical-align: top;\n",
       "    }\n",
       "\n",
       "    .dataframe thead th {\n",
       "        text-align: right;\n",
       "    }\n",
       "</style>\n",
       "<table border=\"1\" class=\"dataframe\">\n",
       "  <thead>\n",
       "    <tr style=\"text-align: right;\">\n",
       "      <th></th>\n",
       "      <th>user</th>\n",
       "    </tr>\n",
       "    <tr>\n",
       "      <th>track_id</th>\n",
       "      <th></th>\n",
       "    </tr>\n",
       "  </thead>\n",
       "  <tbody>\n",
       "    <tr>\n",
       "      <th>34550746</th>\n",
       "      <td>5</td>\n",
       "    </tr>\n",
       "    <tr>\n",
       "      <th>2374525</th>\n",
       "      <td>5</td>\n",
       "    </tr>\n",
       "    <tr>\n",
       "      <th>2374732</th>\n",
       "      <td>5</td>\n",
       "    </tr>\n",
       "    <tr>\n",
       "      <th>2374764</th>\n",
       "      <td>5</td>\n",
       "    </tr>\n",
       "    <tr>\n",
       "      <th>2375512</th>\n",
       "      <td>5</td>\n",
       "    </tr>\n",
       "    <tr>\n",
       "      <th>...</th>\n",
       "      <td>...</td>\n",
       "    </tr>\n",
       "    <tr>\n",
       "      <th>6914775</th>\n",
       "      <td>19</td>\n",
       "    </tr>\n",
       "    <tr>\n",
       "      <th>42774868</th>\n",
       "      <td>19</td>\n",
       "    </tr>\n",
       "    <tr>\n",
       "      <th>61228397</th>\n",
       "      <td>19</td>\n",
       "    </tr>\n",
       "    <tr>\n",
       "      <th>27161788</th>\n",
       "      <td>19</td>\n",
       "    </tr>\n",
       "    <tr>\n",
       "      <th>33165436</th>\n",
       "      <td>19</td>\n",
       "    </tr>\n",
       "  </tbody>\n",
       "</table>\n",
       "<p>509610 rows × 1 columns</p>\n",
       "</div>"
      ],
      "text/plain": [
       "          user\n",
       "track_id      \n",
       "34550746     5\n",
       "2374525      5\n",
       "2374732      5\n",
       "2374764      5\n",
       "2375512      5\n",
       "...        ...\n",
       "6914775     19\n",
       "42774868    19\n",
       "61228397    19\n",
       "27161788    19\n",
       "33165436    19\n",
       "\n",
       "[509610 rows x 1 columns]"
      ]
     },
     "execution_count": 8,
     "metadata": {},
     "output_type": "execute_result"
    }
   ],
   "source": [
    "#треки, которые прослушало меньше 20 пользователей\n",
    "track_min.query(\"user < 20\")"
   ]
  },
  {
   "cell_type": "markdown",
   "id": "0d850a07-ef1e-462f-891a-1cf89f2e24ef",
   "metadata": {},
   "source": [
    "# Преобразование данных"
   ]
  },
  {
   "cell_type": "markdown",
   "id": "fabcf8d2-1192-4df5-b20b-fbb84689f57a",
   "metadata": {},
   "source": [
    "Преобразуем данные в формат, более пригодный для дальнейшего использования в расчётах рекомендаций."
   ]
  },
  {
   "cell_type": "markdown",
   "id": "caeb2aca",
   "metadata": {},
   "source": [
    "Соединяем данные о музыкальных треках:"
   ]
  },
  {
   "cell_type": "code",
   "execution_count": 27,
   "id": "1e83d66d",
   "metadata": {},
   "outputs": [
    {
     "name": "stdout",
     "output_type": "stream",
     "text": [
      "<class 'pandas.core.frame.DataFrame'>\n",
      "RangeIndex: 1025340 entries, 0 to 1025339\n",
      "Data columns (total 6 columns):\n",
      " #   Column    Non-Null Count    Dtype \n",
      "---  ------    --------------    ----- \n",
      " 0   track_id  1025340 non-null  int64 \n",
      " 1   albums    1025340 non-null  object\n",
      " 2   artists   1025340 non-null  object\n",
      " 3   genres    1025340 non-null  object\n",
      " 4   type      1025340 non-null  object\n",
      " 5   name      1025340 non-null  object\n",
      "dtypes: int64(1), object(5)\n",
      "memory usage: 46.9+ MB\n"
     ]
    }
   ],
   "source": [
    "#соединяем таблицы tracks и catalog по track_id, из catalog берем данные о треках. \n",
    "items = tracks.merge(catalog, left_on = \"track_id\", right_on=\"id\", how=\"inner\")\n",
    "items = items.drop(columns=\"id\")\n",
    "items.info()"
   ]
  },
  {
   "cell_type": "code",
   "execution_count": 12,
   "id": "bf9da3d2",
   "metadata": {},
   "outputs": [],
   "source": [
    "#переменуем названия столбцов \n",
    "interactions = interactions.rename(columns={\"track_id\": \"item_id\"})\n",
    "items = items.rename(columns={\"track_id\": \"item_id\"})"
   ]
  },
  {
   "cell_type": "markdown",
   "id": "4ab59843",
   "metadata": {},
   "source": [
    "Interactions разобьем на периоды для анализа"
   ]
  },
  {
   "cell_type": "code",
   "execution_count": 13,
   "id": "15d6f6cb",
   "metadata": {},
   "outputs": [],
   "source": [
    "interactions_1  = interactions.query(\"started_at < '2022-12-16'\")"
   ]
  },
  {
   "cell_type": "code",
   "execution_count": 14,
   "id": "40a900f9",
   "metadata": {},
   "outputs": [],
   "source": [
    "interactions_2 = interactions.query(\"started_at >= '2022-12-16'\")"
   ]
  },
  {
   "cell_type": "code",
   "execution_count": 15,
   "id": "6c3e6d6f",
   "metadata": {},
   "outputs": [
    {
     "name": "stdout",
     "output_type": "stream",
     "text": [
      "1342566 783525\n"
     ]
    }
   ],
   "source": [
    "#уникальные пользователи в обоих выборках\n",
    "users_1 = interactions_1[\"user_id\"].drop_duplicates()\n",
    "users_2 = interactions_2[\"user_id\"].drop_duplicates()\n",
    "print(len(users_1), len(users_2))"
   ]
  },
  {
   "cell_type": "code",
   "execution_count": 16,
   "id": "488a62dc",
   "metadata": {},
   "outputs": [
    {
     "data": {
      "text/plain": [
       "589696"
      ]
     },
     "execution_count": 16,
     "metadata": {},
     "output_type": "execute_result"
    }
   ],
   "source": [
    "#пользователи, которые есть только в первой выборке\n",
    "users_not_2 = set(users_1) - set(users_2)\n",
    "len(users_not_2)"
   ]
  },
  {
   "cell_type": "code",
   "execution_count": 17,
   "id": "4c84e02b",
   "metadata": {},
   "outputs": [
    {
     "data": {
      "text/html": [
       "<div>\n",
       "<style scoped>\n",
       "    .dataframe tbody tr th:only-of-type {\n",
       "        vertical-align: middle;\n",
       "    }\n",
       "\n",
       "    .dataframe tbody tr th {\n",
       "        vertical-align: top;\n",
       "    }\n",
       "\n",
       "    .dataframe thead th {\n",
       "        text-align: right;\n",
       "    }\n",
       "</style>\n",
       "<table border=\"1\" class=\"dataframe\">\n",
       "  <thead>\n",
       "    <tr style=\"text-align: right;\">\n",
       "      <th></th>\n",
       "      <th>user_id</th>\n",
       "      <th>item</th>\n",
       "    </tr>\n",
       "  </thead>\n",
       "  <tbody>\n",
       "    <tr>\n",
       "      <th>0</th>\n",
       "      <td>916518</td>\n",
       "      <td>1</td>\n",
       "    </tr>\n",
       "    <tr>\n",
       "      <th>1</th>\n",
       "      <td>1297777</td>\n",
       "      <td>1</td>\n",
       "    </tr>\n",
       "    <tr>\n",
       "      <th>2</th>\n",
       "      <td>1005518</td>\n",
       "      <td>1</td>\n",
       "    </tr>\n",
       "    <tr>\n",
       "      <th>3</th>\n",
       "      <td>1282429</td>\n",
       "      <td>1</td>\n",
       "    </tr>\n",
       "    <tr>\n",
       "      <th>4</th>\n",
       "      <td>1284891</td>\n",
       "      <td>1</td>\n",
       "    </tr>\n",
       "    <tr>\n",
       "      <th>...</th>\n",
       "      <td>...</td>\n",
       "      <td>...</td>\n",
       "    </tr>\n",
       "    <tr>\n",
       "      <th>589691</th>\n",
       "      <td>821048</td>\n",
       "      <td>3264</td>\n",
       "    </tr>\n",
       "    <tr>\n",
       "      <th>589692</th>\n",
       "      <td>453931</td>\n",
       "      <td>3280</td>\n",
       "    </tr>\n",
       "    <tr>\n",
       "      <th>589693</th>\n",
       "      <td>288223</td>\n",
       "      <td>3346</td>\n",
       "    </tr>\n",
       "    <tr>\n",
       "      <th>589694</th>\n",
       "      <td>985024</td>\n",
       "      <td>3356</td>\n",
       "    </tr>\n",
       "    <tr>\n",
       "      <th>589695</th>\n",
       "      <td>500375</td>\n",
       "      <td>3357</td>\n",
       "    </tr>\n",
       "  </tbody>\n",
       "</table>\n",
       "<p>589696 rows × 2 columns</p>\n",
       "</div>"
      ],
      "text/plain": [
       "        user_id  item\n",
       "0        916518     1\n",
       "1       1297777     1\n",
       "2       1005518     1\n",
       "3       1282429     1\n",
       "4       1284891     1\n",
       "...         ...   ...\n",
       "589691   821048  3264\n",
       "589692   453931  3280\n",
       "589693   288223  3346\n",
       "589694   985024  3356\n",
       "589695   500375  3357\n",
       "\n",
       "[589696 rows x 2 columns]"
      ]
     },
     "execution_count": 17,
     "metadata": {},
     "output_type": "execute_result"
    }
   ],
   "source": [
    "#группируем по пользователям, которые есть только в первой выборке, количество прослушанных треков.\n",
    "users_int = interactions_1.query(\"user_id in @users_not_2\").groupby('user_id').agg(item=(\"item_id\", \"nunique\")).sort_values(by=\"item\").reset_index()\n",
    "users_int"
   ]
  },
  {
   "cell_type": "code",
   "execution_count": 18,
   "id": "4e5828cd",
   "metadata": {},
   "outputs": [
    {
     "data": {
      "text/plain": [
       "554107"
      ]
     },
     "execution_count": 18,
     "metadata": {},
     "output_type": "execute_result"
    }
   ],
   "source": [
    "#пользователи, прослушавшие меньше 500 треков\n",
    "users_min = users_int.query('item < 500')\n",
    "users_id = users_min['user_id']\n",
    "len(users_id)\n"
   ]
  },
  {
   "cell_type": "code",
   "execution_count": 19,
   "id": "0fb47c37",
   "metadata": {},
   "outputs": [
    {
     "name": "stdout",
     "output_type": "stream",
     "text": [
      "999695 594326\n"
     ]
    }
   ],
   "source": [
    "#уникальные треки в каждой выборке\n",
    "track_1 = interactions_1[\"item_id\"].drop_duplicates()\n",
    "track_2 = interactions_2[\"item_id\"].drop_duplicates()\n",
    "print(len(track_1), len(track_2))"
   ]
  },
  {
   "cell_type": "code",
   "execution_count": 20,
   "id": "f1aa1f49",
   "metadata": {},
   "outputs": [
    {
     "data": {
      "text/plain": [
       "405674"
      ]
     },
     "execution_count": 20,
     "metadata": {},
     "output_type": "execute_result"
    }
   ],
   "source": [
    "#треки, которые есть только в первой выборке\n",
    "track_not_2 = set(track_1) - set(track_2)\n",
    "len(track_not_2)"
   ]
  },
  {
   "cell_type": "code",
   "execution_count": 21,
   "id": "77cc3c1d",
   "metadata": {},
   "outputs": [
    {
     "data": {
      "text/html": [
       "<div>\n",
       "<style scoped>\n",
       "    .dataframe tbody tr th:only-of-type {\n",
       "        vertical-align: middle;\n",
       "    }\n",
       "\n",
       "    .dataframe tbody tr th {\n",
       "        vertical-align: top;\n",
       "    }\n",
       "\n",
       "    .dataframe thead th {\n",
       "        text-align: right;\n",
       "    }\n",
       "</style>\n",
       "<table border=\"1\" class=\"dataframe\">\n",
       "  <thead>\n",
       "    <tr style=\"text-align: right;\">\n",
       "      <th></th>\n",
       "      <th>item_id</th>\n",
       "      <th>user</th>\n",
       "    </tr>\n",
       "  </thead>\n",
       "  <tbody>\n",
       "    <tr>\n",
       "      <th>0</th>\n",
       "      <td>26</td>\n",
       "      <td>5</td>\n",
       "    </tr>\n",
       "    <tr>\n",
       "      <th>1</th>\n",
       "      <td>17979443</td>\n",
       "      <td>5</td>\n",
       "    </tr>\n",
       "    <tr>\n",
       "      <th>2</th>\n",
       "      <td>17983591</td>\n",
       "      <td>5</td>\n",
       "    </tr>\n",
       "    <tr>\n",
       "      <th>3</th>\n",
       "      <td>17983650</td>\n",
       "      <td>5</td>\n",
       "    </tr>\n",
       "    <tr>\n",
       "      <th>4</th>\n",
       "      <td>17986692</td>\n",
       "      <td>5</td>\n",
       "    </tr>\n",
       "    <tr>\n",
       "      <th>...</th>\n",
       "      <td>...</td>\n",
       "      <td>...</td>\n",
       "    </tr>\n",
       "    <tr>\n",
       "      <th>405669</th>\n",
       "      <td>86213</td>\n",
       "      <td>1395</td>\n",
       "    </tr>\n",
       "    <tr>\n",
       "      <th>405670</th>\n",
       "      <td>293807</td>\n",
       "      <td>1634</td>\n",
       "    </tr>\n",
       "    <tr>\n",
       "      <th>405671</th>\n",
       "      <td>681582</td>\n",
       "      <td>1682</td>\n",
       "    </tr>\n",
       "    <tr>\n",
       "      <th>405672</th>\n",
       "      <td>576964</td>\n",
       "      <td>1742</td>\n",
       "    </tr>\n",
       "    <tr>\n",
       "      <th>405673</th>\n",
       "      <td>23925</td>\n",
       "      <td>2432</td>\n",
       "    </tr>\n",
       "  </tbody>\n",
       "</table>\n",
       "<p>405674 rows × 2 columns</p>\n",
       "</div>"
      ],
      "text/plain": [
       "         item_id  user\n",
       "0             26     5\n",
       "1       17979443     5\n",
       "2       17983591     5\n",
       "3       17983650     5\n",
       "4       17986692     5\n",
       "...          ...   ...\n",
       "405669     86213  1395\n",
       "405670    293807  1634\n",
       "405671    681582  1682\n",
       "405672    576964  1742\n",
       "405673     23925  2432\n",
       "\n",
       "[405674 rows x 2 columns]"
      ]
     },
     "execution_count": 21,
     "metadata": {},
     "output_type": "execute_result"
    }
   ],
   "source": [
    "#группируем по трекам, которые есть только в первой выборке, количество прослушавших их пользователей\n",
    "int_track = interactions_1.query(\"item_id in @track_not_2\").groupby('item_id').agg(user=(\"user_id\", \"nunique\")).sort_values(by=\"user\").reset_index()\n",
    "int_track"
   ]
  },
  {
   "cell_type": "code",
   "execution_count": 22,
   "id": "28df4895",
   "metadata": {},
   "outputs": [
    {
     "data": {
      "text/plain": [
       "405223"
      ]
     },
     "execution_count": 22,
     "metadata": {},
     "output_type": "execute_result"
    }
   ],
   "source": [
    "#треки, которые прослушали меньше 500 раз\n",
    "track_int_min = int_track.query('user < 500')\n",
    "track_id = track_int_min['item_id']\n",
    "len(track_id)"
   ]
  },
  {
   "cell_type": "code",
   "execution_count": 23,
   "id": "93d788a1",
   "metadata": {},
   "outputs": [
    {
     "data": {
      "text/html": [
       "<div>\n",
       "<style scoped>\n",
       "    .dataframe tbody tr th:only-of-type {\n",
       "        vertical-align: middle;\n",
       "    }\n",
       "\n",
       "    .dataframe tbody tr th {\n",
       "        vertical-align: top;\n",
       "    }\n",
       "\n",
       "    .dataframe thead th {\n",
       "        text-align: right;\n",
       "    }\n",
       "</style>\n",
       "<table border=\"1\" class=\"dataframe\">\n",
       "  <thead>\n",
       "    <tr style=\"text-align: right;\">\n",
       "      <th></th>\n",
       "      <th>user_id</th>\n",
       "      <th>item_id</th>\n",
       "      <th>track_seq</th>\n",
       "      <th>started_at</th>\n",
       "      <th>rating</th>\n",
       "    </tr>\n",
       "  </thead>\n",
       "  <tbody>\n",
       "    <tr>\n",
       "      <th>0</th>\n",
       "      <td>3</td>\n",
       "      <td>6006252</td>\n",
       "      <td>1</td>\n",
       "      <td>2022-02-05</td>\n",
       "      <td>16637</td>\n",
       "    </tr>\n",
       "    <tr>\n",
       "      <th>1</th>\n",
       "      <td>3</td>\n",
       "      <td>21642261</td>\n",
       "      <td>2</td>\n",
       "      <td>2022-02-10</td>\n",
       "      <td>16636</td>\n",
       "    </tr>\n",
       "    <tr>\n",
       "      <th>2</th>\n",
       "      <td>3</td>\n",
       "      <td>21642265</td>\n",
       "      <td>3</td>\n",
       "      <td>2022-02-17</td>\n",
       "      <td>16635</td>\n",
       "    </tr>\n",
       "    <tr>\n",
       "      <th>3</th>\n",
       "      <td>3</td>\n",
       "      <td>24692821</td>\n",
       "      <td>4</td>\n",
       "      <td>2022-03-02</td>\n",
       "      <td>16634</td>\n",
       "    </tr>\n",
       "    <tr>\n",
       "      <th>4</th>\n",
       "      <td>3</td>\n",
       "      <td>25995209</td>\n",
       "      <td>5</td>\n",
       "      <td>2022-03-13</td>\n",
       "      <td>16633</td>\n",
       "    </tr>\n",
       "    <tr>\n",
       "      <th>...</th>\n",
       "      <td>...</td>\n",
       "      <td>...</td>\n",
       "      <td>...</td>\n",
       "      <td>...</td>\n",
       "      <td>...</td>\n",
       "    </tr>\n",
       "    <tr>\n",
       "      <th>287</th>\n",
       "      <td>1374582</td>\n",
       "      <td>95514767</td>\n",
       "      <td>288</td>\n",
       "      <td>2022-12-29</td>\n",
       "      <td>16350</td>\n",
       "    </tr>\n",
       "    <tr>\n",
       "      <th>288</th>\n",
       "      <td>1374582</td>\n",
       "      <td>97220301</td>\n",
       "      <td>289</td>\n",
       "      <td>2022-12-29</td>\n",
       "      <td>16349</td>\n",
       "    </tr>\n",
       "    <tr>\n",
       "      <th>289</th>\n",
       "      <td>1374582</td>\n",
       "      <td>97241171</td>\n",
       "      <td>290</td>\n",
       "      <td>2022-12-29</td>\n",
       "      <td>16348</td>\n",
       "    </tr>\n",
       "    <tr>\n",
       "      <th>290</th>\n",
       "      <td>1374582</td>\n",
       "      <td>98542641</td>\n",
       "      <td>291</td>\n",
       "      <td>2022-12-29</td>\n",
       "      <td>16347</td>\n",
       "    </tr>\n",
       "    <tr>\n",
       "      <th>291</th>\n",
       "      <td>1374582</td>\n",
       "      <td>100736375</td>\n",
       "      <td>292</td>\n",
       "      <td>2022-12-30</td>\n",
       "      <td>16346</td>\n",
       "    </tr>\n",
       "  </tbody>\n",
       "</table>\n",
       "<p>165770196 rows × 5 columns</p>\n",
       "</div>"
      ],
      "text/plain": [
       "     user_id    item_id  track_seq started_at  rating\n",
       "0          3    6006252          1 2022-02-05   16637\n",
       "1          3   21642261          2 2022-02-10   16636\n",
       "2          3   21642265          3 2022-02-17   16635\n",
       "3          3   24692821          4 2022-03-02   16634\n",
       "4          3   25995209          5 2022-03-13   16633\n",
       "..       ...        ...        ...        ...     ...\n",
       "287  1374582   95514767        288 2022-12-29   16350\n",
       "288  1374582   97220301        289 2022-12-29   16349\n",
       "289  1374582   97241171        290 2022-12-29   16348\n",
       "290  1374582   98542641        291 2022-12-29   16347\n",
       "291  1374582  100736375        292 2022-12-30   16346\n",
       "\n",
       "[165770196 rows x 5 columns]"
      ]
     },
     "execution_count": 23,
     "metadata": {},
     "output_type": "execute_result"
    }
   ],
   "source": [
    "#удаляем неактивных пользователей и треки, которые мало слушают из обучающей выборки.\n",
    "events = interactions.query(\"item_id not in @track_id and user_id not in @users_id\")\n",
    "events"
   ]
  },
  {
   "cell_type": "markdown",
   "id": "4d1be653-eed8-4fa0-a9c5-3811b080d71d",
   "metadata": {},
   "source": [
    "# Сохранение данных"
   ]
  },
  {
   "cell_type": "markdown",
   "id": "36f1314a-3af3-4faf-a0b1-3045173d1500",
   "metadata": {},
   "source": [
    "Сохраним данные в двух файлах в персональном S3-бакете по пути `recsys/data/`:\n",
    "- `items.parquet` — все данные о музыкальных треках,\n",
    "- `events.parquet` — все данные о взаимодействиях."
   ]
  },
  {
   "cell_type": "code",
   "execution_count": null,
   "id": "ea1fbfff",
   "metadata": {},
   "outputs": [],
   "source": [
    "#items.to_parquet(\"items.parquet\")\n",
    "#events.to_parquet(\"events.parquet\")"
   ]
  },
  {
   "cell_type": "code",
   "execution_count": 11,
   "id": "ca7a1f2e",
   "metadata": {},
   "outputs": [
    {
     "name": "stderr",
     "output_type": "stream",
     "text": [
      "/home/lesya/.local/lib/python3.10/site-packages/pydantic/_internal/_config.py:345: UserWarning: Valid config keys have changed in V2:\n",
      "* 'schema_extra' has been renamed to 'json_schema_extra'\n",
      "  warnings.warn(message, UserWarning)\n"
     ]
    }
   ],
   "source": [
    "#import mlflow\n",
    "#import os\n",
    "#import boto3\n",
    "\n",
    "#TRACKING_SERVER_HOST = \"127.0.0.1\"\n",
    "#TRACKING_SERVER_PORT = 5000"
   ]
  },
  {
   "cell_type": "code",
   "execution_count": 12,
   "id": "17fff4ec",
   "metadata": {},
   "outputs": [],
   "source": [
    "#mlflow.set_tracking_uri(f\"http://127.0.0.1:5000\")\n",
    "#mlflow.set_registry_uri(f\"http://127.0.0.1:5000\") "
   ]
  },
  {
   "cell_type": "code",
   "execution_count": 14,
   "id": "7b14eaa8",
   "metadata": {},
   "outputs": [],
   "source": [
    "EXPERIMENT_NAME = \"rec_sistem\""
   ]
  },
  {
   "cell_type": "code",
   "execution_count": 70,
   "id": "144c02c2",
   "metadata": {},
   "outputs": [],
   "source": [
    "#RUN_NAME = \"info\"\n",
    "\n",
    "#experiment_id = mlflow.create_experiment(EXPERIMENT_NAME) \n",
    "\n",
    "#experiment_id = mlflow.get_experiment_by_name(EXPERIMENT_NAME).experiment_id\n",
    "\n",
    "#with mlflow.start_run(run_name=RUN_NAME, experiment_id=experiment_id) as run:\n",
    " #   run_id = run.info.run_id\n",
    "  #  mlflow.log_artifact('./events.parquet', artifact_path='recsys/data')\n",
    "   # mlflow.log_artifact('./items.parquet', artifact_path='recsys/data')"
   ]
  },
  {
   "cell_type": "markdown",
   "id": "72ecbbed-c560-44d9-9c14-86c7dc76f399",
   "metadata": {},
   "source": [
    "# Очистка памяти"
   ]
  },
  {
   "cell_type": "markdown",
   "id": "b5358ede-ba6e-4c4f-bd73-5b9344f0ba79",
   "metadata": {},
   "source": [
    "Здесь, может понадобится очистка памяти для высвобождения ресурсов для выполнения кода ниже. \n",
    "\n",
    "Приведите соответствующие код, комментарии, например:\n",
    "- код для удаление более ненужных переменных,\n",
    "- комментарий, что следует перезапустить kernel, выполнить такие-то начальные секции и продолжить с этапа 3."
   ]
  },
  {
   "cell_type": "code",
   "execution_count": 25,
   "id": "187a5c0d",
   "metadata": {},
   "outputs": [],
   "source": [
    "#Удаляем ненужные переменные \n",
    "del interactions\n",
    "del interactions_1\n",
    "del interactions_2\n",
    "del catalog\n",
    "del tracks \n"
   ]
  },
  {
   "cell_type": "code",
   "execution_count": null,
   "id": "b918c664",
   "metadata": {},
   "outputs": [],
   "source": [
    "#удаляем переменные, если загружаем их заново\n",
    "del items\n",
    "del events"
   ]
  },
  {
   "cell_type": "code",
   "execution_count": null,
   "id": "5e681338",
   "metadata": {},
   "outputs": [],
   "source": [
    "#удаляем после выполнения EDA\n",
    "del int_track\n",
    "del users_int\n",
    "del track_min\n",
    "del track_pop\n",
    "del user_gr\n",
    "del date_track\n",
    "del popular_genre"
   ]
  },
  {
   "cell_type": "markdown",
   "id": "708503df-ee89-4cf3-8489-093dc478e2a8",
   "metadata": {},
   "source": [
    "# === ЭТАП 3 ==="
   ]
  },
  {
   "cell_type": "markdown",
   "id": "fd77de22-e10f-4b42-85c1-8fb6f805fe68",
   "metadata": {},
   "source": [
    "# Загрузка данных"
   ]
  },
  {
   "cell_type": "markdown",
   "id": "780a4241-1ecd-4a3e-bbb3-fc2f6ca94f68",
   "metadata": {},
   "source": [
    "Если необходимо, то загружаем items.parquet, events.parquet."
   ]
  },
  {
   "cell_type": "code",
   "execution_count": 31,
   "id": "f19fc8a5-bd2c-40d7-864a-ee75aca6d512",
   "metadata": {},
   "outputs": [],
   "source": [
    "items = pd.read_parquet(\"./items.parquet\")"
   ]
  },
  {
   "cell_type": "code",
   "execution_count": 5,
   "id": "c7337dff",
   "metadata": {},
   "outputs": [
    {
     "name": "stdout",
     "output_type": "stream",
     "text": [
      "<class 'pandas.core.frame.DataFrame'>\n",
      "RangeIndex: 1025340 entries, 0 to 1025339\n",
      "Data columns (total 6 columns):\n",
      " #   Column   Non-Null Count    Dtype \n",
      "---  ------   --------------    ----- \n",
      " 0   item_id  1025340 non-null  int64 \n",
      " 1   albums   1025340 non-null  object\n",
      " 2   artists  1025340 non-null  object\n",
      " 3   genres   1025340 non-null  object\n",
      " 4   type     1025340 non-null  object\n",
      " 5   name     1025340 non-null  object\n",
      "dtypes: int64(1), object(5)\n",
      "memory usage: 46.9+ MB\n"
     ]
    }
   ],
   "source": [
    "#items.info()"
   ]
  },
  {
   "cell_type": "code",
   "execution_count": 32,
   "id": "5db1e801-5845-4ce3-86f2-c2fa30f68cc5",
   "metadata": {},
   "outputs": [],
   "source": [
    "events = pd.read_parquet(\"./events.parquet\")"
   ]
  },
  {
   "cell_type": "code",
   "execution_count": 20,
   "id": "f6b882d3",
   "metadata": {},
   "outputs": [
    {
     "name": "stdout",
     "output_type": "stream",
     "text": [
      "<class 'pandas.core.frame.DataFrame'>\n",
      "Index: 165770196 entries, 0 to 291\n",
      "Data columns (total 5 columns):\n",
      " #   Column      Dtype         \n",
      "---  ------      -----         \n",
      " 0   user_id     int32         \n",
      " 1   item_id     int32         \n",
      " 2   track_seq   int16         \n",
      " 3   started_at  datetime64[ns]\n",
      " 4   rating      int64         \n",
      "dtypes: datetime64[ns](1), int16(1), int32(2), int64(1)\n",
      "memory usage: 5.2 GB\n"
     ]
    }
   ],
   "source": [
    "#events.info()"
   ]
  },
  {
   "cell_type": "markdown",
   "id": "a694c023-6477-490b-939d-1cfa6f5f1b72",
   "metadata": {},
   "source": [
    "# Разбиение данных"
   ]
  },
  {
   "cell_type": "markdown",
   "id": "fbd5f6e0-54e7-4428-8678-eabce505d82c",
   "metadata": {},
   "source": [
    "Разбиваем данные на тренировочную, тестовую выборки."
   ]
  },
  {
   "cell_type": "code",
   "execution_count": 4,
   "id": "1b50dcb8",
   "metadata": {},
   "outputs": [],
   "source": [
    "#обучающая выборка\n",
    "events_train = events.query(\"started_at < '2022-12-16'\")"
   ]
  },
  {
   "cell_type": "code",
   "execution_count": 5,
   "id": "c4e01571",
   "metadata": {},
   "outputs": [],
   "source": [
    "#меньшая выборка, для экономии ресурсов, для сопоставления с пользователями похожих рекомендаций    \n",
    "events_sim = events_train.query(\"started_at > '2022-12-08'\")"
   ]
  },
  {
   "cell_type": "code",
   "execution_count": 6,
   "id": "3882097f",
   "metadata": {},
   "outputs": [
    {
     "data": {
      "text/plain": [
       "11     2022-12-16\n",
       "2973   2022-12-16\n",
       "2123   2022-12-16\n",
       "2122   2022-12-16\n",
       "744    2022-12-16\n",
       "          ...    \n",
       "115    2022-12-31\n",
       "41     2022-12-31\n",
       "16     2022-12-31\n",
       "153    2022-12-31\n",
       "165    2022-12-31\n",
       "Name: started_at, Length: 13898646, dtype: datetime64[ns]"
      ]
     },
     "execution_count": 6,
     "metadata": {},
     "output_type": "execute_result"
    }
   ],
   "source": [
    "#тестовая выборка\n",
    "events_test = events.query(\"started_at >= '2022-12-16'\")\n",
    "events_test.started_at.sort_values()"
   ]
  },
  {
   "cell_type": "code",
   "execution_count": 8,
   "id": "c1d67ff9",
   "metadata": {},
   "outputs": [
    {
     "name": "stdout",
     "output_type": "stream",
     "text": [
      "train: (151871550, 5), test: (13898646, 5)\n"
     ]
    }
   ],
   "source": [
    "#размер выборок для получения начальных рекомендаций\n",
    "print(f\"train: {events_train.shape}, test: {events_test.shape}\")"
   ]
  },
  {
   "cell_type": "code",
   "execution_count": 7,
   "id": "af5729c6",
   "metadata": {},
   "outputs": [
    {
     "name": "stdout",
     "output_type": "stream",
     "text": [
      "target: (9287827, 5), test_2: (4610819, 5)\n"
     ]
    }
   ],
   "source": [
    "#для обучения модели ранжирования делим тестовую выборку на 2 части таргет и тест:\n",
    "events_labels = events_test.query(\"started_at <= '2022-12-24'\")\n",
    "events_test_2 = events_test.query(\"started_at > '2022-12-24'\")\n",
    "print(f\"target: {events_labels.shape}, test_2: {events_test_2.shape}\")"
   ]
  },
  {
   "cell_type": "code",
   "execution_count": 8,
   "id": "50f77365",
   "metadata": {},
   "outputs": [
    {
     "name": "stdout",
     "output_type": "stream",
     "text": [
      "inference: (161159377, 5)\n"
     ]
    }
   ],
   "source": [
    "#вторая обучающая выборка со сдвигом в будующее(train+labels) для получения новых рекомендаций\n",
    "events_inference = pd.concat([events_train, events_labels])\n",
    "print(f\"inference: {events_inference.shape}\")"
   ]
  },
  {
   "cell_type": "code",
   "execution_count": 22,
   "id": "26fe3e3c-8c5f-4437-bf13-9191adef08bb",
   "metadata": {},
   "outputs": [
    {
     "name": "stdout",
     "output_type": "stream",
     "text": [
      "Пользователи: train: 787916, test: 783525, холодные: 31198\n"
     ]
    }
   ],
   "source": [
    "#количество пользователей в первоначальных выборках\n",
    "users_train = events_train[\"user_id\"].drop_duplicates()\n",
    "users_test = events_test[\"user_id\"].drop_duplicates()\n",
    "cold_users = set(users_test) - set(users_train)\n",
    "print(f\"Пользователи: train: {len(users_train)}, test: {len(users_test)}, холодные: {len(cold_users)}\")"
   ]
  },
  {
   "cell_type": "code",
   "execution_count": 28,
   "id": "340ce02d",
   "metadata": {},
   "outputs": [
    {
     "name": "stdout",
     "output_type": "stream",
     "text": [
      "Пользователи: train: 526825, test: 534841,холодные: 8016\n"
     ]
    }
   ],
   "source": [
    "#количество пользователей в новых выборках\n",
    "users_inference = events_inference[\"user_id\"].drop_duplicates()\n",
    "users_test_2 = events_test_2[\"user_id\"].drop_duplicates()\n",
    "cold_users_2 = set(users_test_2) - set(users_inference)\n",
    "print(f\"Пользователи: train: {len(users_inference)}, test: {len(users_test_2)},холодные: {len(cold_users_2)}\")"
   ]
  },
  {
   "cell_type": "markdown",
   "id": "9131c7e6-8852-4556-b510-51f7253cc299",
   "metadata": {},
   "source": [
    "# Топ популярных"
   ]
  },
  {
   "cell_type": "markdown",
   "id": "dd70d43a-88cc-4719-b291-feaed7136f30",
   "metadata": {},
   "source": [
    "Рассчитаем рекомендации как топ популярных."
   ]
  },
  {
   "cell_type": "code",
   "execution_count": 48,
   "id": "8918a945",
   "metadata": {},
   "outputs": [],
   "source": [
    "from sklearn.preprocessing import MinMaxScaler\n",
    "scaler = MinMaxScaler()"
   ]
  },
  {
   "cell_type": "markdown",
   "id": "0119e31a",
   "metadata": {},
   "source": [
    "Для расчета возьмем последние четыре месяца"
   ]
  },
  {
   "cell_type": "code",
   "execution_count": 49,
   "id": "48324e4f",
   "metadata": {},
   "outputs": [],
   "source": [
    "#группировка треков по количеству прослушиваний и среднему рейтингу\n",
    "item_popularity = events_train.query(\"started_at >= '2022-07-01' \").groupby([\"item_id\"]).agg(users=(\"user_id\", \"nunique\"), avg_rating=(\"rating\", \"mean\")).reset_index()"
   ]
  },
  {
   "cell_type": "code",
   "execution_count": 52,
   "id": "23eae37f",
   "metadata": {},
   "outputs": [
    {
     "data": {
      "text/html": [
       "<div>\n",
       "<style scoped>\n",
       "    .dataframe tbody tr th:only-of-type {\n",
       "        vertical-align: middle;\n",
       "    }\n",
       "\n",
       "    .dataframe tbody tr th {\n",
       "        vertical-align: top;\n",
       "    }\n",
       "\n",
       "    .dataframe thead th {\n",
       "        text-align: right;\n",
       "    }\n",
       "</style>\n",
       "<table border=\"1\" class=\"dataframe\">\n",
       "  <thead>\n",
       "    <tr style=\"text-align: right;\">\n",
       "      <th></th>\n",
       "      <th>item_id</th>\n",
       "      <th>popularity_score</th>\n",
       "      <th>genres</th>\n",
       "      <th>artists</th>\n",
       "      <th>name</th>\n",
       "    </tr>\n",
       "  </thead>\n",
       "  <tbody>\n",
       "    <tr>\n",
       "      <th>0</th>\n",
       "      <td>33311009</td>\n",
       "      <td>0.980436</td>\n",
       "      <td>[14, 102]</td>\n",
       "      <td>[675068]</td>\n",
       "      <td>Believer</td>\n",
       "    </tr>\n",
       "    <tr>\n",
       "      <th>1</th>\n",
       "      <td>35505245</td>\n",
       "      <td>0.851021</td>\n",
       "      <td>[3, 75]</td>\n",
       "      <td>[4611844, 588511]</td>\n",
       "      <td>I Got Love</td>\n",
       "    </tr>\n",
       "    <tr>\n",
       "      <th>2</th>\n",
       "      <td>60292250</td>\n",
       "      <td>0.837690</td>\n",
       "      <td>[74]</td>\n",
       "      <td>[611169]</td>\n",
       "      <td>Blinding Lights</td>\n",
       "    </tr>\n",
       "    <tr>\n",
       "      <th>3</th>\n",
       "      <td>51241318</td>\n",
       "      <td>0.835422</td>\n",
       "      <td>[74]</td>\n",
       "      <td>[1802873, 3135644, 9012818]</td>\n",
       "      <td>In The End</td>\n",
       "    </tr>\n",
       "    <tr>\n",
       "      <th>4</th>\n",
       "      <td>65851540</td>\n",
       "      <td>0.792178</td>\n",
       "      <td>[11, 20]</td>\n",
       "      <td>[1554548]</td>\n",
       "      <td>Юность</td>\n",
       "    </tr>\n",
       "    <tr>\n",
       "      <th>...</th>\n",
       "      <td>...</td>\n",
       "      <td>...</td>\n",
       "      <td>...</td>\n",
       "      <td>...</td>\n",
       "      <td>...</td>\n",
       "    </tr>\n",
       "    <tr>\n",
       "      <th>95</th>\n",
       "      <td>73376988</td>\n",
       "      <td>0.437382</td>\n",
       "      <td>[11, 20]</td>\n",
       "      <td>[5548288]</td>\n",
       "      <td>Ягода малинка</td>\n",
       "    </tr>\n",
       "    <tr>\n",
       "      <th>96</th>\n",
       "      <td>62244864</td>\n",
       "      <td>0.434017</td>\n",
       "      <td>[11, 20]</td>\n",
       "      <td>[4331814]</td>\n",
       "      <td>Покинула чат</td>\n",
       "    </tr>\n",
       "    <tr>\n",
       "      <th>97</th>\n",
       "      <td>78824202</td>\n",
       "      <td>0.433617</td>\n",
       "      <td>[102]</td>\n",
       "      <td>[5458792]</td>\n",
       "      <td>I WANNA BE YOUR SLAVE</td>\n",
       "    </tr>\n",
       "    <tr>\n",
       "      <th>98</th>\n",
       "      <td>41883693</td>\n",
       "      <td>0.433340</td>\n",
       "      <td>[11, 20]</td>\n",
       "      <td>[3304163]</td>\n",
       "      <td>Малиновый свет</td>\n",
       "    </tr>\n",
       "    <tr>\n",
       "      <th>99</th>\n",
       "      <td>49125069</td>\n",
       "      <td>0.432486</td>\n",
       "      <td>[11, 20]</td>\n",
       "      <td>[6125147]</td>\n",
       "      <td>Витаминка</td>\n",
       "    </tr>\n",
       "  </tbody>\n",
       "</table>\n",
       "<p>100 rows × 5 columns</p>\n",
       "</div>"
      ],
      "text/plain": [
       "     item_id  popularity_score     genres                      artists  \\\n",
       "0   33311009          0.980436  [14, 102]                     [675068]   \n",
       "1   35505245          0.851021    [3, 75]            [4611844, 588511]   \n",
       "2   60292250          0.837690       [74]                     [611169]   \n",
       "3   51241318          0.835422       [74]  [1802873, 3135644, 9012818]   \n",
       "4   65851540          0.792178   [11, 20]                    [1554548]   \n",
       "..       ...               ...        ...                          ...   \n",
       "95  73376988          0.437382   [11, 20]                    [5548288]   \n",
       "96  62244864          0.434017   [11, 20]                    [4331814]   \n",
       "97  78824202          0.433617      [102]                    [5458792]   \n",
       "98  41883693          0.433340   [11, 20]                    [3304163]   \n",
       "99  49125069          0.432486   [11, 20]                    [6125147]   \n",
       "\n",
       "                     name  \n",
       "0                Believer  \n",
       "1              I Got Love  \n",
       "2         Blinding Lights  \n",
       "3              In The End  \n",
       "4                  Юность  \n",
       "..                    ...  \n",
       "95          Ягода малинка  \n",
       "96           Покинула чат  \n",
       "97  I WANNA BE YOUR SLAVE  \n",
       "98         Малиновый свет  \n",
       "99              Витаминка  \n",
       "\n",
       "[100 rows x 5 columns]"
      ]
     },
     "metadata": {},
     "output_type": "display_data"
    }
   ],
   "source": [
    "#нормализация пользователей и среднего рейтинга трека\n",
    "item_popularity[[\"users_norm\", \"avg_rating_norm\"]] = scaler.fit_transform(item_popularity[[\"users\", \"avg_rating\"]])\n",
    "\n",
    "#выбираем первые 100 треков\n",
    "item_popularity[\"popularity_score\"] = item_popularity[\"users_norm\"] * item_popularity[\"avg_rating_norm\"]\n",
    "item_popularity = item_popularity.sort_values(by=\"popularity_score\", ascending=False)\n",
    "top_100_pop = item_popularity.nlargest(100, \"popularity_score\")\n",
    "\n",
    "#добавим к топу информацию о треках\n",
    "top_100_pop = top_100_pop.merge(items.set_index(\"item_id\")[[\"genres\", \"artists\", \"name\"]], on=\"item_id\") \n",
    "with pd.option_context('display.max_rows', 20):\n",
    "    display(top_100_pop[[\"item_id\", \"popularity_score\", \"genres\", \"artists\", \"name\"]])"
   ]
  },
  {
   "cell_type": "code",
   "execution_count": 23,
   "id": "ff7bd1f0",
   "metadata": {},
   "outputs": [],
   "source": [
    "#анализируем взаимодейтвие холодных пользовотелей в тестовой выборке с популярными треками\n",
    "cold_users_events_with_recs = events_test[events_test[\"user_id\"].isin(cold_users)].merge(top_100_pop, on=\"item_id\", how=\"left\")\n",
    "#оставляем только тех холодных пользователей, для которых сопоставилсоь среднее значение рейтинга\n",
    "cold_user_items_no_avg_rating_idx = cold_users_events_with_recs[\"avg_rating\"].isnull()\n",
    "#сравниваем соответствие рейтинга пользователя и среднего рейтинга\n",
    "cold_users_rec = cold_users_events_with_recs[~cold_user_items_no_avg_rating_idx][[\"user_id\", \"item_id\", \"rating\", \"avg_rating\", \"popularity_score\"]]\n",
    "cold_users_rec.reset_index(drop=True, inplace=True)"
   ]
  },
  {
   "cell_type": "code",
   "execution_count": null,
   "id": "1a04982b",
   "metadata": {},
   "outputs": [],
   "source": [
    "print(f\"Холодные пользователи, для котоpых рекомендации соответствуют: {cold_users_rec['user_id'].nunique()}\")\n",
    "cold_users_hit_ratio = cold_users_events_with_recs.groupby(\"user_id\").agg(hits=(\"avg_rating\", lambda x: (~x.isnull()).mean()))\n",
    "print(f\"Доля холодных пользователей без релевантных рекомендаций: {(cold_users_hit_ratio == 0).mean().iat[0]: .2f}\")\n",
    "print(f\"Среднее покрытие холодных пользователей рекомендациями: {(cold_users_hit_ratio !=0).mean().iat[0]: .2f}\")"
   ]
  },
  {
   "cell_type": "code",
   "execution_count": 33,
   "id": "6d5fff26",
   "metadata": {},
   "outputs": [],
   "source": [
    "#для холодных\n",
    "top_popular = cold_users_rec[[\"user_id\", \"item_id\", \"popularity_score\"]]\n",
    "#top_popular.to_parquet(\"top_popular.parquet\")"
   ]
  },
  {
   "cell_type": "code",
   "execution_count": 24,
   "id": "9cadfed3",
   "metadata": {},
   "outputs": [],
   "source": [
    "#cold_users_events_with_recs.to_parquet(\"cold_users_with_recs.parquet\")"
   ]
  },
  {
   "cell_type": "code",
   "execution_count": 25,
   "id": "65b13155",
   "metadata": {},
   "outputs": [],
   "source": [
    "#по свежей выборке\n",
    "item_popularity_2 = events_inference.query(\"started_at >= '2022-08-01' \").groupby([\"item_id\"]).agg(users=(\"user_id\", \"nunique\"), avg_rating=(\"rating\", \"mean\")).reset_index()"
   ]
  },
  {
   "cell_type": "code",
   "execution_count": 26,
   "id": "43785dfb",
   "metadata": {},
   "outputs": [
    {
     "data": {
      "text/html": [
       "<div>\n",
       "<style scoped>\n",
       "    .dataframe tbody tr th:only-of-type {\n",
       "        vertical-align: middle;\n",
       "    }\n",
       "\n",
       "    .dataframe tbody tr th {\n",
       "        vertical-align: top;\n",
       "    }\n",
       "\n",
       "    .dataframe thead th {\n",
       "        text-align: right;\n",
       "    }\n",
       "</style>\n",
       "<table border=\"1\" class=\"dataframe\">\n",
       "  <thead>\n",
       "    <tr style=\"text-align: right;\">\n",
       "      <th></th>\n",
       "      <th>item_id</th>\n",
       "      <th>popularity_score</th>\n",
       "      <th>genres</th>\n",
       "      <th>artists</th>\n",
       "      <th>name</th>\n",
       "    </tr>\n",
       "  </thead>\n",
       "  <tbody>\n",
       "    <tr>\n",
       "      <th>0</th>\n",
       "      <td>33311009</td>\n",
       "      <td>0.982605</td>\n",
       "      <td>[14, 102]</td>\n",
       "      <td>[675068]</td>\n",
       "      <td>Believer</td>\n",
       "    </tr>\n",
       "    <tr>\n",
       "      <th>1</th>\n",
       "      <td>60292250</td>\n",
       "      <td>0.879727</td>\n",
       "      <td>[74]</td>\n",
       "      <td>[611169]</td>\n",
       "      <td>Blinding Lights</td>\n",
       "    </tr>\n",
       "    <tr>\n",
       "      <th>2</th>\n",
       "      <td>65851540</td>\n",
       "      <td>0.867972</td>\n",
       "      <td>[11, 20]</td>\n",
       "      <td>[1554548]</td>\n",
       "      <td>Юность</td>\n",
       "    </tr>\n",
       "    <tr>\n",
       "      <th>3</th>\n",
       "      <td>51241318</td>\n",
       "      <td>0.853286</td>\n",
       "      <td>[74]</td>\n",
       "      <td>[1802873, 3135644, 9012818]</td>\n",
       "      <td>In The End</td>\n",
       "    </tr>\n",
       "    <tr>\n",
       "      <th>4</th>\n",
       "      <td>35505245</td>\n",
       "      <td>0.850184</td>\n",
       "      <td>[3, 75]</td>\n",
       "      <td>[4611844, 588511]</td>\n",
       "      <td>I Got Love</td>\n",
       "    </tr>\n",
       "    <tr>\n",
       "      <th>...</th>\n",
       "      <td>...</td>\n",
       "      <td>...</td>\n",
       "      <td>...</td>\n",
       "      <td>...</td>\n",
       "      <td>...</td>\n",
       "    </tr>\n",
       "    <tr>\n",
       "      <th>95</th>\n",
       "      <td>44209075</td>\n",
       "      <td>0.440574</td>\n",
       "      <td>[16]</td>\n",
       "      <td>[5706302, 4888541]</td>\n",
       "      <td>Freed from Desire</td>\n",
       "    </tr>\n",
       "    <tr>\n",
       "      <th>96</th>\n",
       "      <td>694683</td>\n",
       "      <td>0.439362</td>\n",
       "      <td>[59, 102]</td>\n",
       "      <td>[191175]</td>\n",
       "      <td>Highway to Hell</td>\n",
       "    </tr>\n",
       "    <tr>\n",
       "      <th>97</th>\n",
       "      <td>732401</td>\n",
       "      <td>0.439183</td>\n",
       "      <td>[2, 102]</td>\n",
       "      <td>[218099]</td>\n",
       "      <td>ИСКАЛА</td>\n",
       "    </tr>\n",
       "    <tr>\n",
       "      <th>98</th>\n",
       "      <td>41883693</td>\n",
       "      <td>0.436728</td>\n",
       "      <td>[11, 20]</td>\n",
       "      <td>[3304163]</td>\n",
       "      <td>Малиновый свет</td>\n",
       "    </tr>\n",
       "    <tr>\n",
       "      <th>99</th>\n",
       "      <td>3703085</td>\n",
       "      <td>0.432618</td>\n",
       "      <td>[13, 14, 17, 25, 102]</td>\n",
       "      <td>[675068]</td>\n",
       "      <td>Radioactive</td>\n",
       "    </tr>\n",
       "  </tbody>\n",
       "</table>\n",
       "<p>100 rows × 5 columns</p>\n",
       "</div>"
      ],
      "text/plain": [
       "     item_id  popularity_score                 genres  \\\n",
       "0   33311009          0.982605              [14, 102]   \n",
       "1   60292250          0.879727                   [74]   \n",
       "2   65851540          0.867972               [11, 20]   \n",
       "3   51241318          0.853286                   [74]   \n",
       "4   35505245          0.850184                [3, 75]   \n",
       "..       ...               ...                    ...   \n",
       "95  44209075          0.440574                   [16]   \n",
       "96    694683          0.439362              [59, 102]   \n",
       "97    732401          0.439183               [2, 102]   \n",
       "98  41883693          0.436728               [11, 20]   \n",
       "99   3703085          0.432618  [13, 14, 17, 25, 102]   \n",
       "\n",
       "                        artists               name  \n",
       "0                      [675068]           Believer  \n",
       "1                      [611169]    Blinding Lights  \n",
       "2                     [1554548]             Юность  \n",
       "3   [1802873, 3135644, 9012818]         In The End  \n",
       "4             [4611844, 588511]         I Got Love  \n",
       "..                          ...                ...  \n",
       "95           [5706302, 4888541]  Freed from Desire  \n",
       "96                     [191175]    Highway to Hell  \n",
       "97                     [218099]             ИСКАЛА  \n",
       "98                    [3304163]     Малиновый свет  \n",
       "99                     [675068]        Radioactive  \n",
       "\n",
       "[100 rows x 5 columns]"
      ]
     },
     "metadata": {},
     "output_type": "display_data"
    }
   ],
   "source": [
    "item_popularity_2[[\"users_norm\", \"avg_rating_norm\"]] = scaler.fit_transform(item_popularity_2[[\"users\", \"avg_rating\"]])\n",
    "\n",
    "item_popularity_2[\"popularity_score\"] = item_popularity_2[\"users_norm\"] * item_popularity_2[\"avg_rating_norm\"]\n",
    "item_popularity_2 = item_popularity_2.sort_values(by=\"popularity_score\", ascending=False)\n",
    "top_100_pop_2 = item_popularity_2.nlargest(100, \"popularity_score\")\n",
    "\n",
    "top_100_pop_2 = top_100_pop_2.merge(items.set_index(\"item_id\")[[\"genres\", \"artists\", \"name\"]], on=\"item_id\") \n",
    "with pd.option_context('display.max_rows', 20):\n",
    "    display(top_100_pop_2[[\"item_id\", \"popularity_score\", \"genres\", \"artists\", \"name\"]])"
   ]
  },
  {
   "cell_type": "code",
   "execution_count": 29,
   "id": "476d02e7",
   "metadata": {},
   "outputs": [],
   "source": [
    "cold_users_events_with_recs_2 = events_test_2[events_test_2[\"user_id\"].isin(cold_users_2)].merge(top_100_pop_2, on=\"item_id\", how=\"left\")\n",
    "cold_user_items_no_avg_rating_idx_2 = cold_users_events_with_recs_2[\"avg_rating\"].isnull()\n",
    "cold_users_rec_2 = cold_users_events_with_recs_2[~cold_user_items_no_avg_rating_idx_2][[\"user_id\", \"item_id\", \"rating\", \"avg_rating\", \"popularity_score\"]]\n",
    "cold_users_rec_2.reset_index(drop=True, inplace=True)"
   ]
  },
  {
   "cell_type": "code",
   "execution_count": null,
   "id": "fce51505",
   "metadata": {},
   "outputs": [],
   "source": [
    "print(f\"Холодные пользователи, для котоpых рекомендации соответствуют: {cold_users_rec_2['user_id'].nunique()}\")\n",
    "cold_users_hit_ratio = cold_users_events_with_recs_2.groupby(\"user_id\").agg(hits=(\"avg_rating\", lambda x: (~x.isnull()).mean()))\n",
    "print(f\"Доля холодных пользователей без релевантных рекомендаций: {(cold_users_hit_ratio == 0).mean().iat[0]: .2f}\")\n",
    "print(f\"Среднее покрытие холодных пользователей рекомендациями: {(cold_users_hit_ratio !=0).mean().iat[0]: .2f}\")"
   ]
  },
  {
   "cell_type": "code",
   "execution_count": 26,
   "id": "b60247d0",
   "metadata": {},
   "outputs": [],
   "source": [
    "#сохраняем рекомендации популярных треков на новой выборке\n",
    "top_popular_2 = cold_users_rec_2[[\"user_id\", \"item_id\", \"popularity_score\"]]\n",
    "#top_popular_2.to_parquet(\"top_popular_2.parquet\")"
   ]
  },
  {
   "cell_type": "code",
   "execution_count": 30,
   "id": "da6ea3e3",
   "metadata": {},
   "outputs": [],
   "source": [
    "#cold_users_events_with_recs_2.to_parquet(\"cold_users_with_recs_2.parquet\")"
   ]
  },
  {
   "cell_type": "markdown",
   "id": "8d1f12ac-5490-408f-b709-ba2e2d2d7730",
   "metadata": {},
   "source": [
    "### Рассчитаем персональные рекомендации."
   ]
  },
  {
   "cell_type": "markdown",
   "id": "213ac1ef",
   "metadata": {},
   "source": [
    "#### ALS алгоритм"
   ]
  },
  {
   "cell_type": "markdown",
   "id": "da481da5",
   "metadata": {},
   "source": [
    "##### 1. Перекодируем идентификаторы пользователей и объектов:"
   ]
  },
  {
   "cell_type": "code",
   "execution_count": 11,
   "id": "d2944822-569c-4f9b-82dc-70a7fa2d542e",
   "metadata": {},
   "outputs": [
    {
     "data": {
      "text/html": [
       "<style>#sk-container-id-1 {color: black;}#sk-container-id-1 pre{padding: 0;}#sk-container-id-1 div.sk-toggleable {background-color: white;}#sk-container-id-1 label.sk-toggleable__label {cursor: pointer;display: block;width: 100%;margin-bottom: 0;padding: 0.3em;box-sizing: border-box;text-align: center;}#sk-container-id-1 label.sk-toggleable__label-arrow:before {content: \"▸\";float: left;margin-right: 0.25em;color: #696969;}#sk-container-id-1 label.sk-toggleable__label-arrow:hover:before {color: black;}#sk-container-id-1 div.sk-estimator:hover label.sk-toggleable__label-arrow:before {color: black;}#sk-container-id-1 div.sk-toggleable__content {max-height: 0;max-width: 0;overflow: hidden;text-align: left;background-color: #f0f8ff;}#sk-container-id-1 div.sk-toggleable__content pre {margin: 0.2em;color: black;border-radius: 0.25em;background-color: #f0f8ff;}#sk-container-id-1 input.sk-toggleable__control:checked~div.sk-toggleable__content {max-height: 200px;max-width: 100%;overflow: auto;}#sk-container-id-1 input.sk-toggleable__control:checked~label.sk-toggleable__label-arrow:before {content: \"▾\";}#sk-container-id-1 div.sk-estimator input.sk-toggleable__control:checked~label.sk-toggleable__label {background-color: #d4ebff;}#sk-container-id-1 div.sk-label input.sk-toggleable__control:checked~label.sk-toggleable__label {background-color: #d4ebff;}#sk-container-id-1 input.sk-hidden--visually {border: 0;clip: rect(1px 1px 1px 1px);clip: rect(1px, 1px, 1px, 1px);height: 1px;margin: -1px;overflow: hidden;padding: 0;position: absolute;width: 1px;}#sk-container-id-1 div.sk-estimator {font-family: monospace;background-color: #f0f8ff;border: 1px dotted black;border-radius: 0.25em;box-sizing: border-box;margin-bottom: 0.5em;}#sk-container-id-1 div.sk-estimator:hover {background-color: #d4ebff;}#sk-container-id-1 div.sk-parallel-item::after {content: \"\";width: 100%;border-bottom: 1px solid gray;flex-grow: 1;}#sk-container-id-1 div.sk-label:hover label.sk-toggleable__label {background-color: #d4ebff;}#sk-container-id-1 div.sk-serial::before {content: \"\";position: absolute;border-left: 1px solid gray;box-sizing: border-box;top: 0;bottom: 0;left: 50%;z-index: 0;}#sk-container-id-1 div.sk-serial {display: flex;flex-direction: column;align-items: center;background-color: white;padding-right: 0.2em;padding-left: 0.2em;position: relative;}#sk-container-id-1 div.sk-item {position: relative;z-index: 1;}#sk-container-id-1 div.sk-parallel {display: flex;align-items: stretch;justify-content: center;background-color: white;position: relative;}#sk-container-id-1 div.sk-item::before, #sk-container-id-1 div.sk-parallel-item::before {content: \"\";position: absolute;border-left: 1px solid gray;box-sizing: border-box;top: 0;bottom: 0;left: 50%;z-index: -1;}#sk-container-id-1 div.sk-parallel-item {display: flex;flex-direction: column;z-index: 1;position: relative;background-color: white;}#sk-container-id-1 div.sk-parallel-item:first-child::after {align-self: flex-end;width: 50%;}#sk-container-id-1 div.sk-parallel-item:last-child::after {align-self: flex-start;width: 50%;}#sk-container-id-1 div.sk-parallel-item:only-child::after {width: 0;}#sk-container-id-1 div.sk-dashed-wrapped {border: 1px dashed gray;margin: 0 0.4em 0.5em 0.4em;box-sizing: border-box;padding-bottom: 0.4em;background-color: white;}#sk-container-id-1 div.sk-label label {font-family: monospace;font-weight: bold;display: inline-block;line-height: 1.2em;}#sk-container-id-1 div.sk-label-container {text-align: center;}#sk-container-id-1 div.sk-container {/* jupyter's `normalize.less` sets `[hidden] { display: none; }` but bootstrap.min.css set `[hidden] { display: none !important; }` so we also need the `!important` here to be able to override the default hidden behavior on the sphinx rendered scikit-learn.org. See: https://github.com/scikit-learn/scikit-learn/issues/21755 */display: inline-block !important;position: relative;}#sk-container-id-1 div.sk-text-repr-fallback {display: none;}</style><div id=\"sk-container-id-1\" class=\"sk-top-container\"><div class=\"sk-text-repr-fallback\"><pre>LabelEncoder()</pre><b>In a Jupyter environment, please rerun this cell to show the HTML representation or trust the notebook. <br />On GitHub, the HTML representation is unable to render, please try loading this page with nbviewer.org.</b></div><div class=\"sk-container\" hidden><div class=\"sk-item\"><div class=\"sk-estimator sk-toggleable\"><input class=\"sk-toggleable__control sk-hidden--visually\" id=\"sk-estimator-id-1\" type=\"checkbox\" checked><label for=\"sk-estimator-id-1\" class=\"sk-toggleable__label sk-toggleable__label-arrow\">LabelEncoder</label><div class=\"sk-toggleable__content\"><pre>LabelEncoder()</pre></div></div></div></div></div>"
      ],
      "text/plain": [
       "LabelEncoder()"
      ]
     },
     "execution_count": 11,
     "metadata": {},
     "output_type": "execute_result"
    }
   ],
   "source": [
    "import scipy\n",
    "import sklearn.preprocessing\n",
    "\n",
    "# перекодируем индентификаторы пользователей:\n",
    "user_encoder = sklearn.preprocessing.LabelEncoder()\n",
    "user_encoder.fit(events[\"user_id\"])"
   ]
  },
  {
   "cell_type": "code",
   "execution_count": 12,
   "id": "2a7a3496",
   "metadata": {},
   "outputs": [],
   "source": [
    "# перекодируем идентификаторы объектов\n",
    "item_encoder = sklearn.preprocessing.LabelEncoder()\n",
    "item_encoder.fit(items[\"item_id\"])\n",
    "items[\"item_id_enc\"] = item_encoder.transform(items[\"item_id\"])"
   ]
  },
  {
   "cell_type": "markdown",
   "id": "2c24a4cc",
   "metadata": {},
   "source": [
    "Для первых рекомендаций"
   ]
  },
  {
   "cell_type": "code",
   "execution_count": 13,
   "id": "1616e071",
   "metadata": {},
   "outputs": [
    {
     "name": "stderr",
     "output_type": "stream",
     "text": [
      "/tmp/ipykernel_5047/4073530557.py:1: SettingWithCopyWarning: \n",
      "A value is trying to be set on a copy of a slice from a DataFrame.\n",
      "Try using .loc[row_indexer,col_indexer] = value instead\n",
      "\n",
      "See the caveats in the documentation: https://pandas.pydata.org/pandas-docs/stable/user_guide/indexing.html#returning-a-view-versus-a-copy\n",
      "  events_train[\"user_id_enc\"] = user_encoder.transform(events_train[\"user_id\"])\n",
      "/tmp/ipykernel_5047/4073530557.py:2: SettingWithCopyWarning: \n",
      "A value is trying to be set on a copy of a slice from a DataFrame.\n",
      "Try using .loc[row_indexer,col_indexer] = value instead\n",
      "\n",
      "See the caveats in the documentation: https://pandas.pydata.org/pandas-docs/stable/user_guide/indexing.html#returning-a-view-versus-a-copy\n",
      "  events_test[\"user_id_enc\"] = user_encoder.transform(events_test[\"user_id\"])\n"
     ]
    }
   ],
   "source": [
    "events_train[\"user_id_enc\"] = user_encoder.transform(events_train[\"user_id\"])\n",
    "events_test[\"user_id_enc\"] = user_encoder.transform(events_test[\"user_id\"])"
   ]
  },
  {
   "cell_type": "code",
   "execution_count": 14,
   "id": "67571c74",
   "metadata": {},
   "outputs": [
    {
     "name": "stderr",
     "output_type": "stream",
     "text": [
      "/tmp/ipykernel_5047/150670037.py:1: SettingWithCopyWarning: \n",
      "A value is trying to be set on a copy of a slice from a DataFrame.\n",
      "Try using .loc[row_indexer,col_indexer] = value instead\n",
      "\n",
      "See the caveats in the documentation: https://pandas.pydata.org/pandas-docs/stable/user_guide/indexing.html#returning-a-view-versus-a-copy\n",
      "  events_train[\"item_id_enc\"] = item_encoder.transform(events_train[\"item_id\"])\n",
      "/tmp/ipykernel_5047/150670037.py:2: SettingWithCopyWarning: \n",
      "A value is trying to be set on a copy of a slice from a DataFrame.\n",
      "Try using .loc[row_indexer,col_indexer] = value instead\n",
      "\n",
      "See the caveats in the documentation: https://pandas.pydata.org/pandas-docs/stable/user_guide/indexing.html#returning-a-view-versus-a-copy\n",
      "  events_test[\"item_id_enc\"] = item_encoder.transform(events_test[\"item_id\"])\n"
     ]
    }
   ],
   "source": [
    "events_train[\"item_id_enc\"] = item_encoder.transform(events_train[\"item_id\"])\n",
    "events_test[\"item_id_enc\"] = item_encoder.transform(events_test[\"item_id\"])"
   ]
  },
  {
   "cell_type": "markdown",
   "id": "f9625b6f",
   "metadata": {},
   "source": [
    "Для новых рекомендаций"
   ]
  },
  {
   "cell_type": "code",
   "execution_count": 63,
   "id": "b25fa49b",
   "metadata": {},
   "outputs": [
    {
     "name": "stderr",
     "output_type": "stream",
     "text": [
      "/tmp/ipykernel_12187/1072496576.py:2: SettingWithCopyWarning: \n",
      "A value is trying to be set on a copy of a slice from a DataFrame.\n",
      "Try using .loc[row_indexer,col_indexer] = value instead\n",
      "\n",
      "See the caveats in the documentation: https://pandas.pydata.org/pandas-docs/stable/user_guide/indexing.html#returning-a-view-versus-a-copy\n",
      "  events_test_2[\"user_id_enc\"] = user_encoder.transform(events_test_2[\"user_id\"])\n"
     ]
    }
   ],
   "source": [
    "events_inference[\"user_id_enc\"] = user_encoder.transform(events_inference[\"user_id\"])\n",
    "events_test_2[\"user_id_enc\"] = user_encoder.transform(events_test_2[\"user_id\"])"
   ]
  },
  {
   "cell_type": "code",
   "execution_count": 62,
   "id": "23cac77c",
   "metadata": {},
   "outputs": [
    {
     "name": "stderr",
     "output_type": "stream",
     "text": [
      "/tmp/ipykernel_12187/1656603227.py:2: SettingWithCopyWarning: \n",
      "A value is trying to be set on a copy of a slice from a DataFrame.\n",
      "Try using .loc[row_indexer,col_indexer] = value instead\n",
      "\n",
      "See the caveats in the documentation: https://pandas.pydata.org/pandas-docs/stable/user_guide/indexing.html#returning-a-view-versus-a-copy\n",
      "  events_test_2[\"item_id_enc\"] = item_encoder.transform(events_test_2[\"item_id\"])\n"
     ]
    }
   ],
   "source": [
    "events_inference[\"item_id_enc\"] = item_encoder.transform(events_inference[\"item_id\"])\n",
    "events_test_2[\"item_id_enc\"] = item_encoder.transform(events_test_2[\"item_id\"])"
   ]
  },
  {
   "cell_type": "markdown",
   "id": "8842d022",
   "metadata": {},
   "source": [
    "##### 2. Создаем sparse-матрицу формата CSR:"
   ]
  },
  {
   "cell_type": "code",
   "execution_count": 15,
   "id": "1e8cdb58-3a8c-45ad-8e5f-7f950314aa56",
   "metadata": {},
   "outputs": [],
   "source": [
    "#для первой выборки\n",
    "user_item_matrix_train = scipy.sparse.csr_matrix((events_train[\"rating\"], (events_train[\"user_id_enc\"], events_train[\"item_id_enc\"])), dtype=np.int8)"
   ]
  },
  {
   "cell_type": "code",
   "execution_count": 14,
   "id": "f41a9029",
   "metadata": {},
   "outputs": [
    {
     "data": {
      "text/plain": [
       "3.5360350739210844"
      ]
     },
     "execution_count": 14,
     "metadata": {},
     "output_type": "execute_result"
    }
   ],
   "source": [
    "#размер, полученной матрицы\n",
    "import sys \n",
    "sum([sys.getsizeof(i) for i in user_item_matrix_train.data])/1024**3"
   ]
  },
  {
   "cell_type": "code",
   "execution_count": 64,
   "id": "b71e75f0",
   "metadata": {},
   "outputs": [],
   "source": [
    "# матрица для второй выборки\n",
    "user_item_matrix_inference = scipy.sparse.csr_matrix((events_inference[\"rating\"], (events_inference[\"user_id_enc\"], events_inference[\"item_id_enc\"])), dtype=np.int8)"
   ]
  },
  {
   "cell_type": "code",
   "execution_count": 33,
   "id": "bd1bd086",
   "metadata": {},
   "outputs": [
    {
     "data": {
      "text/plain": [
       "3.7522841477766633"
      ]
     },
     "execution_count": 33,
     "metadata": {},
     "output_type": "execute_result"
    }
   ],
   "source": [
    "\n",
    "import sys \n",
    "sum([sys.getsizeof(i) for i in user_item_matrix_inference.data])/1024**3"
   ]
  },
  {
   "cell_type": "markdown",
   "id": "c5ebcdc1",
   "metadata": {},
   "source": [
    "##### 3.Инициализируем и обучим модели"
   ]
  },
  {
   "cell_type": "code",
   "execution_count": 18,
   "id": "f4948ac0",
   "metadata": {},
   "outputs": [
    {
     "name": "stderr",
     "output_type": "stream",
     "text": [
      "100%|██████████| 50/50 [23:12<00:00, 27.84s/it]\n"
     ]
    }
   ],
   "source": [
    "#1-я модель\n",
    "from implicit.als import AlternatingLeastSquares\n",
    "\n",
    "als_model = AlternatingLeastSquares(factors=50, iterations=50, regularization=0.05, random_state=0)\n",
    "als_model.fit(user_item_matrix_train)"
   ]
  },
  {
   "cell_type": "code",
   "execution_count": 19,
   "id": "3c7d3ef6",
   "metadata": {},
   "outputs": [
    {
     "data": {
      "text/plain": [
       "['als_model.joblib']"
      ]
     },
     "execution_count": 19,
     "metadata": {},
     "output_type": "execute_result"
    }
   ],
   "source": [
    "#сохраняем модель\n",
    "#joblib.dump(als_model, \"als_model.joblib\")"
   ]
  },
  {
   "cell_type": "code",
   "execution_count": 21,
   "id": "0e81cd83",
   "metadata": {},
   "outputs": [
    {
     "name": "stderr",
     "output_type": "stream",
     "text": [
      "/home/lesya/.local/lib/python3.10/site-packages/tqdm/auto.py:21: TqdmWarning: IProgress not found. Please update jupyter and ipywidgets. See https://ipywidgets.readthedocs.io/en/stable/user_install.html\n",
      "  from .autonotebook import tqdm as notebook_tqdm\n"
     ]
    }
   ],
   "source": [
    "#als_model = joblib.load('./als_model.joblib')"
   ]
  },
  {
   "cell_type": "markdown",
   "id": "868facaf",
   "metadata": {},
   "source": [
    "### Персональные рекомендации"
   ]
  },
  {
   "cell_type": "code",
   "execution_count": 15,
   "id": "a5bedfd3",
   "metadata": {},
   "outputs": [
    {
     "data": {
      "text/plain": [
       "range(0, 819114)"
      ]
     },
     "execution_count": 15,
     "metadata": {},
     "output_type": "execute_result"
    }
   ],
   "source": [
    "#получаем список всех возможных user_id (перекодированных)\n",
    "user_ids_encoded = range(len(user_encoder.classes_))\n",
    "user_ids_encoded"
   ]
  },
  {
   "cell_type": "code",
   "execution_count": 20,
   "id": "d689195f",
   "metadata": {},
   "outputs": [],
   "source": [
    "#получаем 50 рекомендаций для каждого пользователя \n",
    "als_recommendations = als_model.recommend(\n",
    "    user_ids_encoded,\n",
    "    user_item_matrix_train[user_ids_encoded],\n",
    "    filter_already_liked_items=False, N=50)\n"
   ]
  },
  {
   "cell_type": "code",
   "execution_count": 21,
   "id": "a90dc88e",
   "metadata": {},
   "outputs": [],
   "source": [
    "#преобразуем полученные рекомендации в табличный формат\n",
    "item_ids_enc = als_recommendations[0]\n",
    "als_scores = als_recommendations[1]\n",
    "\n",
    "als_recommendations = pd.DataFrame({\n",
    "    \"user_id_enc\": user_ids_encoded,\n",
    "    \"item_id_enc\": item_ids_enc.tolist(),\n",
    "    \"score\": als_scores.tolist()})"
   ]
  },
  {
   "cell_type": "code",
   "execution_count": 22,
   "id": "67b549a8",
   "metadata": {},
   "outputs": [],
   "source": [
    "als_recommendations = als_recommendations.explode([\"item_id_enc\", \"score\"], ignore_index=True)"
   ]
  },
  {
   "cell_type": "code",
   "execution_count": 23,
   "id": "6952aa66",
   "metadata": {},
   "outputs": [],
   "source": [
    "#приводим типы данных \n",
    "als_recommendations[\"item_id_enc\"] = als_recommendations[\"item_id_enc\"].astype(\"int\")\n",
    "als_recommendations[\"score\"] = round(als_recommendations[\"score\"].astype(\"float\"), 6)\n",
    "#получаем изначальные идентификаторы\n",
    "als_recommendations[\"user_id\"] = user_encoder.inverse_transform(als_recommendations[\"user_id_enc\"])\n",
    "als_recommendations[\"item_id\"] = item_encoder.inverse_transform(als_recommendations[\"item_id_enc\"])\n",
    "als_recommendations = als_recommendations.drop(columns=[\"user_id_enc\", \"item_id_enc\"])"
   ]
  },
  {
   "cell_type": "code",
   "execution_count": 92,
   "id": "4e846d35",
   "metadata": {},
   "outputs": [],
   "source": [
    "als_recommendations = als_recommendations.query(\"score > 0\")"
   ]
  },
  {
   "cell_type": "code",
   "execution_count": 93,
   "id": "fbd4129d",
   "metadata": {},
   "outputs": [],
   "source": [
    "#сохраняем рекомендации\n",
    "als_recommendations = als_recommendations[[\"user_id\", \"item_id\", \"score\"]]\n",
    "als_recommendations.to_parquet(\"personal_als.parquet\")"
   ]
  },
  {
   "cell_type": "code",
   "execution_count": 65,
   "id": "e73d022b",
   "metadata": {},
   "outputs": [
    {
     "name": "stderr",
     "output_type": "stream",
     "text": [
      "/home/lesya/.local/lib/python3.10/site-packages/tqdm/auto.py:21: TqdmWarning: IProgress not found. Please update jupyter and ipywidgets. See https://ipywidgets.readthedocs.io/en/stable/user_install.html\n",
      "  from .autonotebook import tqdm as notebook_tqdm\n",
      "/home/lesya/.local/lib/python3.10/site-packages/implicit/cpu/als.py:95: RuntimeWarning: OpenBLAS is configured to use 8 threads. It is highly recommended to disable its internal threadpool by setting the environment variable 'OPENBLAS_NUM_THREADS=1' or by calling 'threadpoolctl.threadpool_limits(1, \"blas\")'. Having OpenBLAS use a threadpool can lead to severe performance issues here.\n",
      "  check_blas_config()\n",
      "100%|██████████| 30/30 [17:03<00:00, 34.13s/it]\n"
     ]
    }
   ],
   "source": [
    "#2-я модель\n",
    "als_model_2 = AlternatingLeastSquares(factors=50, iterations=30, regularization=0.05, random_state=0)\n",
    "als_model_2.fit(user_item_matrix_inference)"
   ]
  },
  {
   "cell_type": "code",
   "execution_count": 67,
   "id": "2524655d",
   "metadata": {},
   "outputs": [
    {
     "data": {
      "text/plain": [
       "['als_model_2.joblib']"
      ]
     },
     "execution_count": 67,
     "metadata": {},
     "output_type": "execute_result"
    }
   ],
   "source": [
    "\n",
    "#joblib.dump(als_model_2, \"als_model_2.joblib\")"
   ]
  },
  {
   "cell_type": "code",
   "execution_count": 14,
   "id": "bf5e04bb",
   "metadata": {},
   "outputs": [],
   "source": [
    "#als_model_2 = joblib.load('./als_model_2.joblib')"
   ]
  },
  {
   "cell_type": "code",
   "execution_count": 15,
   "id": "c1f73bb7",
   "metadata": {},
   "outputs": [],
   "source": [
    "#получаем 50 новых рекомендаций для каждого пользователя \n",
    "als_recommendations_2 = als_model_2.recommend(\n",
    "    user_ids_encoded,\n",
    "    user_item_matrix_inference[user_ids_encoded],\n",
    "    filter_already_liked_items=False, N=50)"
   ]
  },
  {
   "cell_type": "code",
   "execution_count": 17,
   "id": "2bdd4851",
   "metadata": {},
   "outputs": [],
   "source": [
    "#преобразуем полученные рекомендации в табличный формат\n",
    "item_ids_enc = als_recommendations_2[0]\n",
    "als_scores = als_recommendations_2[1]\n",
    "\n",
    "als_recommendations_2 = pd.DataFrame({\n",
    "    \"user_id_enc\": user_ids_encoded,\n",
    "    \"item_id_enc\": item_ids_enc.tolist(),\n",
    "    \"als_score\": als_scores.tolist()})"
   ]
  },
  {
   "cell_type": "code",
   "execution_count": 19,
   "id": "1e3a2e0c",
   "metadata": {},
   "outputs": [],
   "source": [
    "als_recommendations_2 = als_recommendations_2.explode([\"item_id_enc\", \"als_score\"], ignore_index=True)"
   ]
  },
  {
   "cell_type": "code",
   "execution_count": 45,
   "id": "a5a7538a",
   "metadata": {},
   "outputs": [],
   "source": [
    "#приводим типы данных \n",
    "als_recommendations_2[\"item_id_enc\"] = als_recommendations_2[\"item_id_enc\"].astype(\"int\")\n",
    "als_recommendations_2[\"als_score\"] = round(als_recommendations_2[\"als_score\"].astype(\"float\"), 6)\n",
    "#получаем изначальные идентификаторы\n",
    "als_recommendations_2[\"user_id\"] = user_encoder.inverse_transform(als_recommendations_2[\"user_id_enc\"])\n",
    "als_recommendations_2[\"item_id\"] = item_encoder.inverse_transform(als_recommendations_2[\"item_id_enc\"])\n",
    "als_recommendations_2 = als_recommendations_2.drop(columns=[\"user_id_enc\", \"item_id_enc\"])"
   ]
  },
  {
   "cell_type": "code",
   "execution_count": 94,
   "id": "882d2fca",
   "metadata": {},
   "outputs": [],
   "source": [
    "als_recommendations_2 = als_recommendations_2.query(\"score > 0\")"
   ]
  },
  {
   "cell_type": "code",
   "execution_count": 96,
   "id": "6bfe0ceb",
   "metadata": {},
   "outputs": [],
   "source": [
    "#сохраняем новые рекомендации\n",
    "#als_recommendations_2 = als_recommendations_2[[\"user_id\", \"item_id\", \"score\"]]\n",
    "#als_recommendations_2.to_parquet(\"personal_als_2.parquet\")"
   ]
  },
  {
   "cell_type": "markdown",
   "id": "5f09dc7e-7c91-4355-860a-b9cfb9f33f15",
   "metadata": {},
   "source": [
    "# Похожие"
   ]
  },
  {
   "cell_type": "markdown",
   "id": "1dfcb683-b440-40a8-9975-894156a53872",
   "metadata": {},
   "source": [
    "Рассчитаем похожие, они позже пригодятся для онлайн-рекомендаций."
   ]
  },
  {
   "cell_type": "code",
   "execution_count": 15,
   "id": "d1688e92",
   "metadata": {},
   "outputs": [
    {
     "data": {
      "text/plain": [
       "range(0, 1000000)"
      ]
     },
     "execution_count": 15,
     "metadata": {},
     "output_type": "execute_result"
    }
   ],
   "source": [
    "#получаем список всех возможных item_id (перекодированных)\n",
    "item_ids_encoded = range(len(item_encoder.classes_))\n",
    "item_ids_encoded"
   ]
  },
  {
   "cell_type": "code",
   "execution_count": 25,
   "id": "a75d07ee-4b12-4ce5-aa85-e45cb7a7a4f0",
   "metadata": {},
   "outputs": [],
   "source": [
    "#10 похожих рекомендаций объектов для первой выборки\n",
    "similar_rec = als_model.similar_items(item_ids_encoded, N=10)"
   ]
  },
  {
   "cell_type": "code",
   "execution_count": 28,
   "id": "1f71fd85",
   "metadata": {},
   "outputs": [],
   "source": [
    "#преобразуем полученные рекомендации в табличный формат\n",
    "item_ids_enc = similar_rec[0]\n",
    "similar_scores = similar_rec[1]\n",
    "\n",
    "similar = pd.DataFrame({\n",
    "    \"item_ids_encoded\": item_ids_encoded,\n",
    "    \"item_id_enc\": item_ids_enc.tolist(),\n",
    "    \"similar_score\": similar_scores.tolist()})"
   ]
  },
  {
   "cell_type": "code",
   "execution_count": 58,
   "id": "639b6d01",
   "metadata": {},
   "outputs": [],
   "source": [
    "similar = similar.explode([\"item_id_enc\", \"similar_score\"], ignore_index=True)"
   ]
  },
  {
   "cell_type": "code",
   "execution_count": 15,
   "id": "34130900",
   "metadata": {},
   "outputs": [],
   "source": [
    "#приводим типы данных \n",
    "similar[\"item_id_enc\"] = similar[\"item_id_enc\"].astype(\"int\")\n",
    "similar[\"similar_score\"] = similar[\"similar_score\"].astype(\"float\")"
   ]
  },
  {
   "cell_type": "code",
   "execution_count": 20,
   "id": "d56bd315",
   "metadata": {},
   "outputs": [],
   "source": [
    "#уберем 0 и одинаковые рекомендации\n",
    "similar = similar.query(\"similar_score > 0 and item_ids_encoded != item_id_enc\")"
   ]
  },
  {
   "cell_type": "code",
   "execution_count": 21,
   "id": "93eb319f",
   "metadata": {},
   "outputs": [
    {
     "name": "stderr",
     "output_type": "stream",
     "text": [
      "/tmp/ipykernel_5047/2850662714.py:2: SettingWithCopyWarning: \n",
      "A value is trying to be set on a copy of a slice from a DataFrame.\n",
      "Try using .loc[row_indexer,col_indexer] = value instead\n",
      "\n",
      "See the caveats in the documentation: https://pandas.pydata.org/pandas-docs/stable/user_guide/indexing.html#returning-a-view-versus-a-copy\n",
      "  similar[\"item_ids\"] = item_encoder.inverse_transform(similar[\"item_ids_encoded\"])\n",
      "/tmp/ipykernel_5047/2850662714.py:3: SettingWithCopyWarning: \n",
      "A value is trying to be set on a copy of a slice from a DataFrame.\n",
      "Try using .loc[row_indexer,col_indexer] = value instead\n",
      "\n",
      "See the caveats in the documentation: https://pandas.pydata.org/pandas-docs/stable/user_guide/indexing.html#returning-a-view-versus-a-copy\n",
      "  similar[\"item_id\"] = item_encoder.inverse_transform(similar[\"item_id_enc\"])\n"
     ]
    }
   ],
   "source": [
    "#получаем изначальные идентификаторы\n",
    "similar[\"item_ids\"] = item_encoder.inverse_transform(similar[\"item_ids_encoded\"])\n",
    "similar[\"item_id\"] = item_encoder.inverse_transform(similar[\"item_id_enc\"])\n",
    "similar = similar.drop(columns=[\"item_ids_encoded\", \"item_id_enc\"])"
   ]
  },
  {
   "cell_type": "code",
   "execution_count": 15,
   "id": "9fc81c47",
   "metadata": {},
   "outputs": [
    {
     "data": {
      "text/plain": [
       "7279146"
      ]
     },
     "execution_count": 15,
     "metadata": {},
     "output_type": "execute_result"
    }
   ],
   "source": [
    "#оставляем пользователей, которые есть только в тесте, для экономии ресурсов\n",
    "events_sim = events_sim[events_sim[\"user_id\"].isin(events_test[\"user_id\"].drop_duplicates())]\n",
    "len(events_sim)"
   ]
  },
  {
   "cell_type": "code",
   "execution_count": 23,
   "id": "e5d96d72",
   "metadata": {},
   "outputs": [],
   "source": [
    "#объединяем предсказания с пользователями \n",
    "similar = similar.merge(events_sim[[\"user_id\", \"item_id\"]], on=\"item_id\", how=\"left\")"
   ]
  },
  {
   "cell_type": "code",
   "execution_count": 24,
   "id": "f1a345bb",
   "metadata": {},
   "outputs": [
    {
     "data": {
      "text/plain": [
       "similar_score          0\n",
       "item_ids               0\n",
       "item_id                0\n",
       "user_id          1429848\n",
       "dtype: int64"
      ]
     },
     "execution_count": 24,
     "metadata": {},
     "output_type": "execute_result"
    }
   ],
   "source": [
    "#пропуски\n",
    "similar.isna().sum()"
   ]
  },
  {
   "cell_type": "code",
   "execution_count": 25,
   "id": "5684803c",
   "metadata": {},
   "outputs": [],
   "source": [
    "#удаляем пропуски в пользователях\n",
    "similar = similar.dropna()"
   ]
  },
  {
   "cell_type": "code",
   "execution_count": 27,
   "id": "8834e392",
   "metadata": {},
   "outputs": [],
   "source": [
    "#приводим тип данных \n",
    "similar[\"user_id\"] = similar[\"user_id\"].astype(\"int\")\n",
    "similar = similar.drop(columns=[\"item_id\"])"
   ]
  },
  {
   "cell_type": "code",
   "execution_count": 28,
   "id": "fb8c6f97",
   "metadata": {},
   "outputs": [],
   "source": [
    "similar = similar.rename(columns={\"item_ids\": \"item_id\"})"
   ]
  },
  {
   "cell_type": "code",
   "execution_count": 29,
   "id": "ce370904-4c49-4152-8706-416074ea9b9a",
   "metadata": {},
   "outputs": [],
   "source": [
    "#сохраняем похожие рекомендации\n",
    "similar = similar[[\"user_id\", \"item_id\", \"similar_score\"]]\n",
    "#similar.to_parquet(\"similar.parquet\")"
   ]
  },
  {
   "cell_type": "code",
   "execution_count": 68,
   "id": "71a4c015",
   "metadata": {},
   "outputs": [],
   "source": [
    "#5 похожих рекомендаций на свежей выборке\n",
    "similar_rec_2 = als_model_2.similar_items(item_ids_encoded, N=5)"
   ]
  },
  {
   "cell_type": "code",
   "execution_count": 69,
   "id": "bc4ab3b1",
   "metadata": {},
   "outputs": [],
   "source": [
    "#преобразуем полученные рекомендации в табличный формат\n",
    "item_ids_enc = similar_rec_2[0]\n",
    "similar_scores = similar_rec_2[1]\n",
    "\n",
    "similar_2 = pd.DataFrame({\n",
    "    \"item_ids_encoded\": item_ids_encoded,\n",
    "    \"item_id_enc\": item_ids_enc.tolist(),\n",
    "    \"similar_score\": similar_scores.tolist()})"
   ]
  },
  {
   "cell_type": "code",
   "execution_count": 70,
   "id": "243b0bce",
   "metadata": {},
   "outputs": [],
   "source": [
    "similar_2 = similar_2.explode([\"item_id_enc\", \"similar_score\"], ignore_index=True)"
   ]
  },
  {
   "cell_type": "code",
   "execution_count": 73,
   "id": "970d334c",
   "metadata": {},
   "outputs": [],
   "source": [
    "#приводим типы данных \n",
    "similar_2[\"item_id_enc\"] = similar_2[\"item_id_enc\"].astype(\"int\")\n",
    "similar_2[\"similar_score\"] = similar_2[\"similar_score\"].astype(\"float\")"
   ]
  },
  {
   "cell_type": "code",
   "execution_count": 33,
   "id": "c68facb2",
   "metadata": {},
   "outputs": [],
   "source": [
    "#уберем 0 и одинаковые рекомендации\n",
    "similar_2 = similar_2.query(\"similar_score > 0 and item_ids_encoded != item_id_enc\")"
   ]
  },
  {
   "cell_type": "code",
   "execution_count": 35,
   "id": "4a28b70b",
   "metadata": {},
   "outputs": [
    {
     "name": "stderr",
     "output_type": "stream",
     "text": [
      "/tmp/ipykernel_5047/2884434950.py:2: SettingWithCopyWarning: \n",
      "A value is trying to be set on a copy of a slice from a DataFrame.\n",
      "Try using .loc[row_indexer,col_indexer] = value instead\n",
      "\n",
      "See the caveats in the documentation: https://pandas.pydata.org/pandas-docs/stable/user_guide/indexing.html#returning-a-view-versus-a-copy\n",
      "  similar_2[\"item_ids\"] = item_encoder.inverse_transform(similar_2[\"item_ids_encoded\"])\n",
      "/tmp/ipykernel_5047/2884434950.py:3: SettingWithCopyWarning: \n",
      "A value is trying to be set on a copy of a slice from a DataFrame.\n",
      "Try using .loc[row_indexer,col_indexer] = value instead\n",
      "\n",
      "See the caveats in the documentation: https://pandas.pydata.org/pandas-docs/stable/user_guide/indexing.html#returning-a-view-versus-a-copy\n",
      "  similar_2[\"item_id\"] = item_encoder.inverse_transform(similar_2[\"item_id_enc\"])\n"
     ]
    }
   ],
   "source": [
    "#получаем изначальные идентификаторы\n",
    "similar_2[\"item_ids\"] = item_encoder.inverse_transform(similar_2[\"item_ids_encoded\"])\n",
    "similar_2[\"item_id\"] = item_encoder.inverse_transform(similar_2[\"item_id_enc\"])\n",
    "similar_2 = similar_2.drop(columns=[\"item_ids_encoded\", \"item_id_enc\"])"
   ]
  },
  {
   "cell_type": "code",
   "execution_count": 37,
   "id": "f3a48ede",
   "metadata": {},
   "outputs": [
    {
     "data": {
      "text/plain": [
       "7800245"
      ]
     },
     "execution_count": 37,
     "metadata": {},
     "output_type": "execute_result"
    }
   ],
   "source": [
    "#оставляем только пользователей, которые есть в тесте\n",
    "events_sim_2 = events_labels[events_labels[\"user_id\"].isin(events_test_2[\"user_id\"].drop_duplicates())]\n",
    "len(events_sim_2)"
   ]
  },
  {
   "cell_type": "code",
   "execution_count": 38,
   "id": "07fdc2d9",
   "metadata": {},
   "outputs": [],
   "source": [
    "#объединяем предсказания с пользователями\n",
    "similar_2 = similar_2.merge(events_sim_2[[\"user_id\", \"item_id\"]], on=\"item_id\", how=\"left\")"
   ]
  },
  {
   "cell_type": "code",
   "execution_count": 39,
   "id": "16282899",
   "metadata": {},
   "outputs": [
    {
     "data": {
      "text/plain": [
       "similar_score         0\n",
       "item_ids              0\n",
       "item_id               0\n",
       "user_id          324675\n",
       "dtype: int64"
      ]
     },
     "execution_count": 39,
     "metadata": {},
     "output_type": "execute_result"
    }
   ],
   "source": [
    "#пропуски\n",
    "similar_2.isna().sum()"
   ]
  },
  {
   "cell_type": "code",
   "execution_count": 43,
   "id": "ef2d1463",
   "metadata": {},
   "outputs": [],
   "source": [
    "similar_2 = similar_2.dropna()"
   ]
  },
  {
   "cell_type": "code",
   "execution_count": 46,
   "id": "debce94a",
   "metadata": {},
   "outputs": [
    {
     "name": "stderr",
     "output_type": "stream",
     "text": [
      "/tmp/ipykernel_5047/1117592022.py:2: SettingWithCopyWarning: \n",
      "A value is trying to be set on a copy of a slice from a DataFrame.\n",
      "Try using .loc[row_indexer,col_indexer] = value instead\n",
      "\n",
      "See the caveats in the documentation: https://pandas.pydata.org/pandas-docs/stable/user_guide/indexing.html#returning-a-view-versus-a-copy\n",
      "  similar_2[\"user_id\"] = similar_2[\"user_id\"].astype(\"int\")\n"
     ]
    }
   ],
   "source": [
    "#приводим тип данных \n",
    "similar_2[\"user_id\"] = similar_2[\"user_id\"].astype(\"int\")\n",
    "similar_2 = similar_2.drop(columns=[\"item_id\"])"
   ]
  },
  {
   "cell_type": "code",
   "execution_count": 47,
   "id": "c9598e7f",
   "metadata": {},
   "outputs": [],
   "source": [
    "similar_2 = similar_2.rename(columns={\"item_ids\": \"item_id\"})"
   ]
  },
  {
   "cell_type": "code",
   "execution_count": 49,
   "id": "3c557e17",
   "metadata": {},
   "outputs": [],
   "source": [
    "#сохраняем похожие рекомендации 2\n",
    "similar_2 = similar_2[[\"user_id\", \"item_id\", \"similar_score\"]]\n",
    "#similar_2.to_parquet(\"similar_2.parquet\")"
   ]
  },
  {
   "cell_type": "code",
   "execution_count": 15,
   "id": "50e4a111",
   "metadata": {},
   "outputs": [
    {
     "name": "stderr",
     "output_type": "stream",
     "text": [
      "2025/01/08 20:55:16 WARNING mlflow.utils.git_utils: Failed to import Git (the Git executable is probably not on your PATH), so Git SHA is not available. Error: Failed to initialize: Bad git executable.\n",
      "The git executable must be specified in one of the following ways:\n",
      "    - be included in your $PATH\n",
      "    - be set via $GIT_PYTHON_GIT_EXECUTABLE\n",
      "    - explicitly set via git.refresh(<full-path-to-git-executable>)\n",
      "\n",
      "All git commands will error until this is rectified.\n",
      "\n",
      "This initial message can be silenced or aggravated in the future by setting the\n",
      "$GIT_PYTHON_REFRESH environment variable. Use one of the following values:\n",
      "    - quiet|q|silence|s|silent|none|n|0: for no message or exception\n",
      "    - warn|w|warning|log|l|1: for a warning message (logging level CRITICAL, displayed by default)\n",
      "    - error|e|exception|raise|r|2: for a raised exception\n",
      "\n",
      "Example:\n",
      "    export GIT_PYTHON_REFRESH=quiet\n",
      "\n"
     ]
    }
   ],
   "source": [
    "# логируем полученные рекомендации\n",
    "#RUN_NAME = \"candidedts\"\n",
    "\n",
    "#experiment_id = mlflow.create_experiment(EXPERIMENT_NAME) \n",
    "\n",
    "#experiment_id = mlflow.get_experiment_by_name(EXPERIMENT_NAME).experiment_id\n",
    "\n",
    "#with mlflow.start_run(run_name=RUN_NAME, experiment_id=experiment_id) as run:\n",
    " #   run_id = run.info.run_id\n",
    "  #  mlflow.log_artifact('./top_popular.parquet', artifact_path='recsys/recommendations')\n",
    "   # mlflow.log_artifact('./top_popular_2.parquet', artifact_path='recsys/recommendations')\n",
    "    #mlflow.log_artifact('./personal_als.parquet', artifact_path='recsys/recommendations')\n",
    "    #mlflow.log_artifact('./personal_als_2.parquet', artifact_path='recsys/recommendations')\n",
    "   # mlflow.log_artifact('./similar.parquet', artifact_path='recsys/recommendations')\n",
    "   # mlflow.log_artifact('./similar_2.parquet', artifact_path='recsys/recommendations')"
   ]
  },
  {
   "cell_type": "markdown",
   "id": "43500c70",
   "metadata": {},
   "source": [
    "#### Получим кандидатов: cоединим все рекомендации по user_id, item_id и добавим к ним таргет"
   ]
  },
  {
   "cell_type": "code",
   "execution_count": 122,
   "id": "27f1522e",
   "metadata": {},
   "outputs": [],
   "source": [
    "#объединяем начальные рекомендации\n",
    "candidates = pd.merge(als_recommendations[[\"user_id\", \"item_id\", \"score\"]].rename(columns={\"score\": \"als_score\"}),\n",
    "    similar[[\"user_id\", \"item_id\", \"similar_score\"]], on=[\"user_id\", \"item_id\"], how=\"outer\")"
   ]
  },
  {
   "cell_type": "code",
   "execution_count": 14,
   "id": "063185e6",
   "metadata": {},
   "outputs": [],
   "source": [
    "#объединяем рекомендации с топ \n",
    "candidates = candidates.merge(top_popular, on=[\"user_id\", \"item_id\"], how=\"outer\")"
   ]
  },
  {
   "cell_type": "code",
   "execution_count": 16,
   "id": "6852a456",
   "metadata": {},
   "outputs": [
    {
     "name": "stderr",
     "output_type": "stream",
     "text": [
      "/tmp/ipykernel_5900/3599988144.py:2: SettingWithCopyWarning: \n",
      "A value is trying to be set on a copy of a slice from a DataFrame.\n",
      "Try using .loc[row_indexer,col_indexer] = value instead\n",
      "\n",
      "See the caveats in the documentation: https://pandas.pydata.org/pandas-docs/stable/user_guide/indexing.html#returning-a-view-versus-a-copy\n",
      "  events_labels[\"target\"] = 1\n"
     ]
    }
   ],
   "source": [
    "#добавляем к кандидатам, которые есть в отложенной выборке, таргет\n",
    "events_labels[\"target\"] = 1\n",
    "candidates = candidates.merge(events_labels[[\"user_id\", \"item_id\", \"target\"]],\n",
    "on=[\"user_id\", \"item_id\"], how=\"outer\")"
   ]
  },
  {
   "cell_type": "code",
   "execution_count": 17,
   "id": "6eac363f",
   "metadata": {},
   "outputs": [],
   "source": [
    "#в таргете пропуски заполянем 0\n",
    "candidates[\"target\"] = candidates[\"target\"].fillna(0).astype(\"int\")"
   ]
  },
  {
   "cell_type": "code",
   "execution_count": 19,
   "id": "f6a03834",
   "metadata": {},
   "outputs": [],
   "source": [
    "#оставляем пользователей, у которых есть хотя бы один положительный таргет\n",
    "candidates_to_sample = candidates.groupby(\"user_id\").filter(lambda x: x[\"target\"].sum() > 0)"
   ]
  },
  {
   "cell_type": "code",
   "execution_count": 21,
   "id": "e6965997",
   "metadata": {},
   "outputs": [
    {
     "data": {
      "text/plain": [
       "target\n",
       "0    102332621\n",
       "1      9493247\n",
       "Name: count, dtype: int64"
      ]
     },
     "execution_count": 21,
     "metadata": {},
     "output_type": "execute_result"
    }
   ],
   "source": [
    "#соотношение в таргете\n",
    "candidates_to_sample[\"target\"].value_counts()"
   ]
  },
  {
   "cell_type": "code",
   "execution_count": 28,
   "id": "399482fc",
   "metadata": {},
   "outputs": [],
   "source": [
    "#регулируем соотношение в тагрете\n",
    "negatives_per_user = 16\n",
    "candidates_for_train= pd.concat([candidates_to_sample.query(\"target > 0\"), candidates_to_sample.query(\"target==0\").groupby(\"user_id\").apply(lambda x: x.sample(negatives_per_user, replace=True, random_state=0))])"
   ]
  },
  {
   "cell_type": "code",
   "execution_count": 29,
   "id": "bbb37d19",
   "metadata": {},
   "outputs": [
    {
     "data": {
      "text/plain": [
       "target\n",
       "0    9678688\n",
       "1    9493247\n",
       "Name: count, dtype: int64"
      ]
     },
     "execution_count": 29,
     "metadata": {},
     "output_type": "execute_result"
    }
   ],
   "source": [
    "#проверяем соотношение в таргете\n",
    "candidates_for_train[\"target\"].value_counts()"
   ]
  },
  {
   "cell_type": "code",
   "execution_count": 32,
   "id": "2395e2bf",
   "metadata": {},
   "outputs": [],
   "source": [
    "candidates_for_train.reset_index(drop=True, inplace=True)"
   ]
  },
  {
   "cell_type": "code",
   "execution_count": 34,
   "id": "810c1dc1",
   "metadata": {},
   "outputs": [
    {
     "data": {
      "text/html": [
       "<div>\n",
       "<style scoped>\n",
       "    .dataframe tbody tr th:only-of-type {\n",
       "        vertical-align: middle;\n",
       "    }\n",
       "\n",
       "    .dataframe tbody tr th {\n",
       "        vertical-align: top;\n",
       "    }\n",
       "\n",
       "    .dataframe thead th {\n",
       "        text-align: right;\n",
       "    }\n",
       "</style>\n",
       "<table border=\"1\" class=\"dataframe\">\n",
       "  <thead>\n",
       "    <tr style=\"text-align: right;\">\n",
       "      <th></th>\n",
       "      <th>user_id</th>\n",
       "      <th>item_id</th>\n",
       "      <th>als_score</th>\n",
       "      <th>similar_score</th>\n",
       "      <th>popularity_score</th>\n",
       "      <th>target</th>\n",
       "    </tr>\n",
       "  </thead>\n",
       "  <tbody>\n",
       "    <tr>\n",
       "      <th>0</th>\n",
       "      <td>95</td>\n",
       "      <td>75944934</td>\n",
       "      <td>0.864452</td>\n",
       "      <td>0.974775</td>\n",
       "      <td>NaN</td>\n",
       "      <td>1</td>\n",
       "    </tr>\n",
       "    <tr>\n",
       "      <th>1</th>\n",
       "      <td>121</td>\n",
       "      <td>60292250</td>\n",
       "      <td>0.266332</td>\n",
       "      <td>NaN</td>\n",
       "      <td>NaN</td>\n",
       "      <td>1</td>\n",
       "    </tr>\n",
       "    <tr>\n",
       "      <th>2</th>\n",
       "      <td>192</td>\n",
       "      <td>99246251</td>\n",
       "      <td>0.127613</td>\n",
       "      <td>NaN</td>\n",
       "      <td>NaN</td>\n",
       "      <td>1</td>\n",
       "    </tr>\n",
       "    <tr>\n",
       "      <th>3</th>\n",
       "      <td>367</td>\n",
       "      <td>85192958</td>\n",
       "      <td>0.210788</td>\n",
       "      <td>0.956022</td>\n",
       "      <td>NaN</td>\n",
       "      <td>1</td>\n",
       "    </tr>\n",
       "    <tr>\n",
       "      <th>4</th>\n",
       "      <td>367</td>\n",
       "      <td>84894425</td>\n",
       "      <td>0.166551</td>\n",
       "      <td>NaN</td>\n",
       "      <td>NaN</td>\n",
       "      <td>1</td>\n",
       "    </tr>\n",
       "  </tbody>\n",
       "</table>\n",
       "</div>"
      ],
      "text/plain": [
       "   user_id   item_id  als_score  similar_score  popularity_score  target\n",
       "0       95  75944934   0.864452       0.974775               NaN       1\n",
       "1      121  60292250   0.266332            NaN               NaN       1\n",
       "2      192  99246251   0.127613            NaN               NaN       1\n",
       "3      367  85192958   0.210788       0.956022               NaN       1\n",
       "4      367  84894425   0.166551            NaN               NaN       1"
      ]
     },
     "execution_count": 34,
     "metadata": {},
     "output_type": "execute_result"
    }
   ],
   "source": [
    "candidates_for_train.head()"
   ]
  },
  {
   "cell_type": "markdown",
   "id": "10b620fb",
   "metadata": {},
   "source": [
    "### Новые рекомендации"
   ]
  },
  {
   "cell_type": "code",
   "execution_count": 40,
   "id": "ee769c61",
   "metadata": {},
   "outputs": [],
   "source": [
    "#объединяем рекомендации\n",
    "candidates_to_rank = pd.merge(\n",
    "    als_recommendations_2[[\"user_id\", \"item_id\", \"als_score\"]].rename(columns={\"score\": \"als_score\"}),\n",
    "    similar_2[[\"user_id\", \"item_id\", \"similar_score\"]], on=[\"user_id\", \"item_id\"], how=\"outer\")"
   ]
  },
  {
   "cell_type": "code",
   "execution_count": 41,
   "id": "1c94384a",
   "metadata": {},
   "outputs": [],
   "source": [
    "#с топ\n",
    "candidates_to_rank = candidates_to_rank.merge(top_popular_2, on=[\"user_id\", \"item_id\"], how=\"outer\")"
   ]
  },
  {
   "cell_type": "code",
   "execution_count": 43,
   "id": "b08c0220",
   "metadata": {},
   "outputs": [
    {
     "data": {
      "text/plain": [
       "49957250"
      ]
     },
     "execution_count": 43,
     "metadata": {},
     "output_type": "execute_result"
    }
   ],
   "source": [
    "#оставляем только тех пользователей, что есть в тестовой выборке\n",
    "candidates_to_rank = candidates_to_rank[candidates_to_rank[\"user_id\"].isin(events_test_2[\"user_id\"].drop_duplicates())]\n",
    "len(candidates_to_rank)"
   ]
  },
  {
   "cell_type": "markdown",
   "id": "0087a3e7-ca9f-42cd-944c-944222c1baef",
   "metadata": {},
   "source": [
    "# Построение признаков"
   ]
  },
  {
   "cell_type": "markdown",
   "id": "e82a32e1-b90b-4eaf-9439-fc8deab9f34b",
   "metadata": {},
   "source": [
    "Построим три признака, можно больше, для ранжирующей модели."
   ]
  },
  {
   "cell_type": "code",
   "execution_count": 46,
   "id": "eccaf277",
   "metadata": {},
   "outputs": [],
   "source": [
    "#функция для создания признаков пользователя\n",
    "def get_user_features(events):\n",
    "    user_features = events.groupby(\"user_id\").agg(user_days=(\"started_at\", lambda x: (x.max() - x.min()).days),\n",
    "    user_track =(\"item_id\", \"nunique\"),\n",
    "    rating_avg =(\"rating\", \"mean\"),\n",
    "    rating_std =(\"rating\", \"std\"))\n",
    "    user_features[\"user_track_days\"] = user_features[\"user_track\"] / user_features[\"user_days\"]\n",
    "\n",
    "    return user_features"
   ]
  },
  {
   "cell_type": "code",
   "execution_count": 47,
   "id": "64bddd0c",
   "metadata": {},
   "outputs": [],
   "source": [
    "#формируем новые признаки для обучающей выборки\n",
    "user_features_for_train = get_user_features(events_train)"
   ]
  },
  {
   "cell_type": "code",
   "execution_count": null,
   "id": "e6deed8b",
   "metadata": {},
   "outputs": [],
   "source": [
    "#добавляем новые признаки к первым кандидатам \n",
    "candidates_for_train = candidates_for_train.merge(user_features_for_train, on=\"user_id\", how=\"left\")"
   ]
  },
  {
   "cell_type": "code",
   "execution_count": 49,
   "id": "d0267fd2",
   "metadata": {},
   "outputs": [],
   "source": [
    "#candidates_for_train.to_parquet(\"candidates_for_train.parquet\")"
   ]
  },
  {
   "cell_type": "code",
   "execution_count": 63,
   "id": "4cc82bda",
   "metadata": {},
   "outputs": [],
   "source": [
    "#candidates_for_train = pd.read_parquet(\"./candidates_for_train.parquet\")"
   ]
  },
  {
   "cell_type": "code",
   "execution_count": 65,
   "id": "05e46c25",
   "metadata": {},
   "outputs": [
    {
     "data": {
      "text/html": [
       "<div>\n",
       "<style scoped>\n",
       "    .dataframe tbody tr th:only-of-type {\n",
       "        vertical-align: middle;\n",
       "    }\n",
       "\n",
       "    .dataframe tbody tr th {\n",
       "        vertical-align: top;\n",
       "    }\n",
       "\n",
       "    .dataframe thead th {\n",
       "        text-align: right;\n",
       "    }\n",
       "</style>\n",
       "<table border=\"1\" class=\"dataframe\">\n",
       "  <thead>\n",
       "    <tr style=\"text-align: right;\">\n",
       "      <th></th>\n",
       "      <th>user_id</th>\n",
       "      <th>item_id</th>\n",
       "      <th>als_score</th>\n",
       "      <th>similar_score</th>\n",
       "      <th>popularity_score</th>\n",
       "      <th>target</th>\n",
       "      <th>user_days</th>\n",
       "      <th>user_track</th>\n",
       "      <th>rating_avg</th>\n",
       "      <th>rating_std</th>\n",
       "      <th>user_track_days</th>\n",
       "    </tr>\n",
       "  </thead>\n",
       "  <tbody>\n",
       "    <tr>\n",
       "      <th>0</th>\n",
       "      <td>95</td>\n",
       "      <td>75944934</td>\n",
       "      <td>0.864452</td>\n",
       "      <td>0.974775</td>\n",
       "      <td>NaN</td>\n",
       "      <td>1</td>\n",
       "      <td>20.0</td>\n",
       "      <td>170.0</td>\n",
       "      <td>16551.229412</td>\n",
       "      <td>49.885790</td>\n",
       "      <td>8.500000</td>\n",
       "    </tr>\n",
       "    <tr>\n",
       "      <th>1</th>\n",
       "      <td>121</td>\n",
       "      <td>60292250</td>\n",
       "      <td>0.266332</td>\n",
       "      <td>NaN</td>\n",
       "      <td>NaN</td>\n",
       "      <td>1</td>\n",
       "      <td>300.0</td>\n",
       "      <td>111.0</td>\n",
       "      <td>16567.783784</td>\n",
       "      <td>37.202983</td>\n",
       "      <td>0.370000</td>\n",
       "    </tr>\n",
       "    <tr>\n",
       "      <th>2</th>\n",
       "      <td>192</td>\n",
       "      <td>99246251</td>\n",
       "      <td>0.127613</td>\n",
       "      <td>NaN</td>\n",
       "      <td>NaN</td>\n",
       "      <td>1</td>\n",
       "      <td>222.0</td>\n",
       "      <td>135.0</td>\n",
       "      <td>16562.000000</td>\n",
       "      <td>39.115214</td>\n",
       "      <td>0.608108</td>\n",
       "    </tr>\n",
       "    <tr>\n",
       "      <th>3</th>\n",
       "      <td>367</td>\n",
       "      <td>85192958</td>\n",
       "      <td>0.210788</td>\n",
       "      <td>0.956022</td>\n",
       "      <td>NaN</td>\n",
       "      <td>1</td>\n",
       "      <td>161.0</td>\n",
       "      <td>128.0</td>\n",
       "      <td>16573.500000</td>\n",
       "      <td>37.094474</td>\n",
       "      <td>0.795031</td>\n",
       "    </tr>\n",
       "    <tr>\n",
       "      <th>4</th>\n",
       "      <td>367</td>\n",
       "      <td>84894425</td>\n",
       "      <td>0.166551</td>\n",
       "      <td>NaN</td>\n",
       "      <td>NaN</td>\n",
       "      <td>1</td>\n",
       "      <td>161.0</td>\n",
       "      <td>128.0</td>\n",
       "      <td>16573.500000</td>\n",
       "      <td>37.094474</td>\n",
       "      <td>0.795031</td>\n",
       "    </tr>\n",
       "    <tr>\n",
       "      <th>...</th>\n",
       "      <td>...</td>\n",
       "      <td>...</td>\n",
       "      <td>...</td>\n",
       "      <td>...</td>\n",
       "      <td>...</td>\n",
       "      <td>...</td>\n",
       "      <td>...</td>\n",
       "      <td>...</td>\n",
       "      <td>...</td>\n",
       "      <td>...</td>\n",
       "      <td>...</td>\n",
       "    </tr>\n",
       "    <tr>\n",
       "      <th>19171930</th>\n",
       "      <td>1374582</td>\n",
       "      <td>70769061</td>\n",
       "      <td>NaN</td>\n",
       "      <td>0.956522</td>\n",
       "      <td>NaN</td>\n",
       "      <td>0</td>\n",
       "      <td>38.0</td>\n",
       "      <td>206.0</td>\n",
       "      <td>16533.995146</td>\n",
       "      <td>60.045795</td>\n",
       "      <td>5.421053</td>\n",
       "    </tr>\n",
       "    <tr>\n",
       "      <th>19171931</th>\n",
       "      <td>1374582</td>\n",
       "      <td>78039370</td>\n",
       "      <td>NaN</td>\n",
       "      <td>0.905815</td>\n",
       "      <td>NaN</td>\n",
       "      <td>0</td>\n",
       "      <td>38.0</td>\n",
       "      <td>206.0</td>\n",
       "      <td>16533.995146</td>\n",
       "      <td>60.045795</td>\n",
       "      <td>5.421053</td>\n",
       "    </tr>\n",
       "    <tr>\n",
       "      <th>19171932</th>\n",
       "      <td>1374582</td>\n",
       "      <td>69260400</td>\n",
       "      <td>NaN</td>\n",
       "      <td>0.893131</td>\n",
       "      <td>NaN</td>\n",
       "      <td>0</td>\n",
       "      <td>38.0</td>\n",
       "      <td>206.0</td>\n",
       "      <td>16533.995146</td>\n",
       "      <td>60.045795</td>\n",
       "      <td>5.421053</td>\n",
       "    </tr>\n",
       "    <tr>\n",
       "      <th>19171933</th>\n",
       "      <td>1374582</td>\n",
       "      <td>69748414</td>\n",
       "      <td>NaN</td>\n",
       "      <td>0.942653</td>\n",
       "      <td>NaN</td>\n",
       "      <td>0</td>\n",
       "      <td>38.0</td>\n",
       "      <td>206.0</td>\n",
       "      <td>16533.995146</td>\n",
       "      <td>60.045795</td>\n",
       "      <td>5.421053</td>\n",
       "    </tr>\n",
       "    <tr>\n",
       "      <th>19171934</th>\n",
       "      <td>1374582</td>\n",
       "      <td>75589971</td>\n",
       "      <td>NaN</td>\n",
       "      <td>0.905183</td>\n",
       "      <td>NaN</td>\n",
       "      <td>0</td>\n",
       "      <td>38.0</td>\n",
       "      <td>206.0</td>\n",
       "      <td>16533.995146</td>\n",
       "      <td>60.045795</td>\n",
       "      <td>5.421053</td>\n",
       "    </tr>\n",
       "  </tbody>\n",
       "</table>\n",
       "<p>19171935 rows × 11 columns</p>\n",
       "</div>"
      ],
      "text/plain": [
       "          user_id   item_id  als_score  similar_score  popularity_score  \\\n",
       "0              95  75944934   0.864452       0.974775               NaN   \n",
       "1             121  60292250   0.266332            NaN               NaN   \n",
       "2             192  99246251   0.127613            NaN               NaN   \n",
       "3             367  85192958   0.210788       0.956022               NaN   \n",
       "4             367  84894425   0.166551            NaN               NaN   \n",
       "...           ...       ...        ...            ...               ...   \n",
       "19171930  1374582  70769061        NaN       0.956522               NaN   \n",
       "19171931  1374582  78039370        NaN       0.905815               NaN   \n",
       "19171932  1374582  69260400        NaN       0.893131               NaN   \n",
       "19171933  1374582  69748414        NaN       0.942653               NaN   \n",
       "19171934  1374582  75589971        NaN       0.905183               NaN   \n",
       "\n",
       "          target  user_days  user_track    rating_avg  rating_std  \\\n",
       "0              1       20.0       170.0  16551.229412   49.885790   \n",
       "1              1      300.0       111.0  16567.783784   37.202983   \n",
       "2              1      222.0       135.0  16562.000000   39.115214   \n",
       "3              1      161.0       128.0  16573.500000   37.094474   \n",
       "4              1      161.0       128.0  16573.500000   37.094474   \n",
       "...          ...        ...         ...           ...         ...   \n",
       "19171930       0       38.0       206.0  16533.995146   60.045795   \n",
       "19171931       0       38.0       206.0  16533.995146   60.045795   \n",
       "19171932       0       38.0       206.0  16533.995146   60.045795   \n",
       "19171933       0       38.0       206.0  16533.995146   60.045795   \n",
       "19171934       0       38.0       206.0  16533.995146   60.045795   \n",
       "\n",
       "          user_track_days  \n",
       "0                8.500000  \n",
       "1                0.370000  \n",
       "2                0.608108  \n",
       "3                0.795031  \n",
       "4                0.795031  \n",
       "...                   ...  \n",
       "19171930         5.421053  \n",
       "19171931         5.421053  \n",
       "19171932         5.421053  \n",
       "19171933         5.421053  \n",
       "19171934         5.421053  \n",
       "\n",
       "[19171935 rows x 11 columns]"
      ]
     },
     "execution_count": 65,
     "metadata": {},
     "output_type": "execute_result"
    }
   ],
   "source": [
    "candidates_for_train"
   ]
  },
  {
   "cell_type": "code",
   "execution_count": 61,
   "id": "907ce612",
   "metadata": {},
   "outputs": [],
   "source": [
    "#в новой выборке оставляем только пользователей, которые есть в тесте\n",
    "events_inference = events_inference[events_inference[\"user_id\"].isin(events_test[\"user_id\"].drop_duplicates())]"
   ]
  },
  {
   "cell_type": "code",
   "execution_count": 66,
   "id": "2092ab69",
   "metadata": {},
   "outputs": [],
   "source": [
    "#формируем новые признаки для свежей выборки\n",
    "user_features_for_rank = get_user_features(events_inference)"
   ]
  },
  {
   "cell_type": "code",
   "execution_count": 67,
   "id": "326ba9f0",
   "metadata": {},
   "outputs": [],
   "source": [
    "#добавляем признаки ко вторым кандидатам\n",
    "candidates_to_rank = candidates_to_rank.merge(user_features_for_rank, on=\"user_id\", how=\"left\")"
   ]
  },
  {
   "cell_type": "code",
   "execution_count": 69,
   "id": "fdc05085",
   "metadata": {},
   "outputs": [
    {
     "data": {
      "text/html": [
       "<div>\n",
       "<style scoped>\n",
       "    .dataframe tbody tr th:only-of-type {\n",
       "        vertical-align: middle;\n",
       "    }\n",
       "\n",
       "    .dataframe tbody tr th {\n",
       "        vertical-align: top;\n",
       "    }\n",
       "\n",
       "    .dataframe thead th {\n",
       "        text-align: right;\n",
       "    }\n",
       "</style>\n",
       "<table border=\"1\" class=\"dataframe\">\n",
       "  <thead>\n",
       "    <tr style=\"text-align: right;\">\n",
       "      <th></th>\n",
       "      <th>user_id</th>\n",
       "      <th>item_id</th>\n",
       "      <th>als_score</th>\n",
       "      <th>similar_score</th>\n",
       "      <th>popularity_score</th>\n",
       "      <th>user_days</th>\n",
       "      <th>user_track</th>\n",
       "      <th>rating_avg</th>\n",
       "      <th>rating_std</th>\n",
       "      <th>user_track_days</th>\n",
       "    </tr>\n",
       "  </thead>\n",
       "  <tbody>\n",
       "    <tr>\n",
       "      <th>0</th>\n",
       "      <td>4</td>\n",
       "      <td>46086345</td>\n",
       "      <td>0.866512</td>\n",
       "      <td>NaN</td>\n",
       "      <td>NaN</td>\n",
       "      <td>269.0</td>\n",
       "      <td>230.0</td>\n",
       "      <td>16510.204348</td>\n",
       "      <td>72.797602</td>\n",
       "      <td>0.855019</td>\n",
       "    </tr>\n",
       "    <tr>\n",
       "      <th>1</th>\n",
       "      <td>4</td>\n",
       "      <td>46409994</td>\n",
       "      <td>0.860966</td>\n",
       "      <td>NaN</td>\n",
       "      <td>NaN</td>\n",
       "      <td>269.0</td>\n",
       "      <td>230.0</td>\n",
       "      <td>16510.204348</td>\n",
       "      <td>72.797602</td>\n",
       "      <td>0.855019</td>\n",
       "    </tr>\n",
       "    <tr>\n",
       "      <th>2</th>\n",
       "      <td>4</td>\n",
       "      <td>54516116</td>\n",
       "      <td>0.849259</td>\n",
       "      <td>NaN</td>\n",
       "      <td>NaN</td>\n",
       "      <td>269.0</td>\n",
       "      <td>230.0</td>\n",
       "      <td>16510.204348</td>\n",
       "      <td>72.797602</td>\n",
       "      <td>0.855019</td>\n",
       "    </tr>\n",
       "    <tr>\n",
       "      <th>3</th>\n",
       "      <td>4</td>\n",
       "      <td>44137831</td>\n",
       "      <td>0.837695</td>\n",
       "      <td>NaN</td>\n",
       "      <td>NaN</td>\n",
       "      <td>269.0</td>\n",
       "      <td>230.0</td>\n",
       "      <td>16510.204348</td>\n",
       "      <td>72.797602</td>\n",
       "      <td>0.855019</td>\n",
       "    </tr>\n",
       "    <tr>\n",
       "      <th>4</th>\n",
       "      <td>4</td>\n",
       "      <td>51975785</td>\n",
       "      <td>0.831188</td>\n",
       "      <td>NaN</td>\n",
       "      <td>NaN</td>\n",
       "      <td>269.0</td>\n",
       "      <td>230.0</td>\n",
       "      <td>16510.204348</td>\n",
       "      <td>72.797602</td>\n",
       "      <td>0.855019</td>\n",
       "    </tr>\n",
       "    <tr>\n",
       "      <th>...</th>\n",
       "      <td>...</td>\n",
       "      <td>...</td>\n",
       "      <td>...</td>\n",
       "      <td>...</td>\n",
       "      <td>...</td>\n",
       "      <td>...</td>\n",
       "      <td>...</td>\n",
       "      <td>...</td>\n",
       "      <td>...</td>\n",
       "      <td>...</td>\n",
       "    </tr>\n",
       "    <tr>\n",
       "      <th>49957245</th>\n",
       "      <td>1373991</td>\n",
       "      <td>75642961</td>\n",
       "      <td>NaN</td>\n",
       "      <td>NaN</td>\n",
       "      <td>0.612453</td>\n",
       "      <td>NaN</td>\n",
       "      <td>NaN</td>\n",
       "      <td>NaN</td>\n",
       "      <td>NaN</td>\n",
       "      <td>NaN</td>\n",
       "    </tr>\n",
       "    <tr>\n",
       "      <th>49957246</th>\n",
       "      <td>1373991</td>\n",
       "      <td>81848875</td>\n",
       "      <td>NaN</td>\n",
       "      <td>NaN</td>\n",
       "      <td>0.664913</td>\n",
       "      <td>NaN</td>\n",
       "      <td>NaN</td>\n",
       "      <td>NaN</td>\n",
       "      <td>NaN</td>\n",
       "      <td>NaN</td>\n",
       "    </tr>\n",
       "    <tr>\n",
       "      <th>49957247</th>\n",
       "      <td>1373991</td>\n",
       "      <td>83063895</td>\n",
       "      <td>NaN</td>\n",
       "      <td>NaN</td>\n",
       "      <td>0.693151</td>\n",
       "      <td>NaN</td>\n",
       "      <td>NaN</td>\n",
       "      <td>NaN</td>\n",
       "      <td>NaN</td>\n",
       "      <td>NaN</td>\n",
       "    </tr>\n",
       "    <tr>\n",
       "      <th>49957248</th>\n",
       "      <td>1373991</td>\n",
       "      <td>84382282</td>\n",
       "      <td>NaN</td>\n",
       "      <td>NaN</td>\n",
       "      <td>0.631275</td>\n",
       "      <td>NaN</td>\n",
       "      <td>NaN</td>\n",
       "      <td>NaN</td>\n",
       "      <td>NaN</td>\n",
       "      <td>NaN</td>\n",
       "    </tr>\n",
       "    <tr>\n",
       "      <th>49957249</th>\n",
       "      <td>1373991</td>\n",
       "      <td>84382287</td>\n",
       "      <td>NaN</td>\n",
       "      <td>NaN</td>\n",
       "      <td>0.447323</td>\n",
       "      <td>NaN</td>\n",
       "      <td>NaN</td>\n",
       "      <td>NaN</td>\n",
       "      <td>NaN</td>\n",
       "      <td>NaN</td>\n",
       "    </tr>\n",
       "  </tbody>\n",
       "</table>\n",
       "<p>49957250 rows × 10 columns</p>\n",
       "</div>"
      ],
      "text/plain": [
       "          user_id   item_id  als_score  similar_score  popularity_score  \\\n",
       "0               4  46086345   0.866512            NaN               NaN   \n",
       "1               4  46409994   0.860966            NaN               NaN   \n",
       "2               4  54516116   0.849259            NaN               NaN   \n",
       "3               4  44137831   0.837695            NaN               NaN   \n",
       "4               4  51975785   0.831188            NaN               NaN   \n",
       "...           ...       ...        ...            ...               ...   \n",
       "49957245  1373991  75642961        NaN            NaN          0.612453   \n",
       "49957246  1373991  81848875        NaN            NaN          0.664913   \n",
       "49957247  1373991  83063895        NaN            NaN          0.693151   \n",
       "49957248  1373991  84382282        NaN            NaN          0.631275   \n",
       "49957249  1373991  84382287        NaN            NaN          0.447323   \n",
       "\n",
       "          user_days  user_track    rating_avg  rating_std  user_track_days  \n",
       "0             269.0       230.0  16510.204348   72.797602         0.855019  \n",
       "1             269.0       230.0  16510.204348   72.797602         0.855019  \n",
       "2             269.0       230.0  16510.204348   72.797602         0.855019  \n",
       "3             269.0       230.0  16510.204348   72.797602         0.855019  \n",
       "4             269.0       230.0  16510.204348   72.797602         0.855019  \n",
       "...             ...         ...           ...         ...              ...  \n",
       "49957245        NaN         NaN           NaN         NaN              NaN  \n",
       "49957246        NaN         NaN           NaN         NaN              NaN  \n",
       "49957247        NaN         NaN           NaN         NaN              NaN  \n",
       "49957248        NaN         NaN           NaN         NaN              NaN  \n",
       "49957249        NaN         NaN           NaN         NaN              NaN  \n",
       "\n",
       "[49957250 rows x 10 columns]"
      ]
     },
     "execution_count": 69,
     "metadata": {},
     "output_type": "execute_result"
    }
   ],
   "source": [
    "candidates_to_rank"
   ]
  },
  {
   "cell_type": "code",
   "execution_count": 70,
   "id": "954953f8",
   "metadata": {},
   "outputs": [],
   "source": [
    "#candidates_to_rank.to_parquet(\"candidates_to_rank.parquet\")"
   ]
  },
  {
   "cell_type": "code",
   "execution_count": 22,
   "id": "59a44a0a",
   "metadata": {},
   "outputs": [],
   "source": [
    "#candidates_to_rank = pd.read_parquet(\"candidates_to_rank.parquet\")"
   ]
  },
  {
   "cell_type": "markdown",
   "id": "47bcf88d-b236-46f0-a6f3-38ddd64895fe",
   "metadata": {},
   "source": [
    "# Ранжирование рекомендаций"
   ]
  },
  {
   "cell_type": "markdown",
   "id": "e8cd8223-3418-4493-8c87-1f76286ebda0",
   "metadata": {},
   "source": [
    "Построим ранжирующую модель, чтобы сделать рекомендации более точными. Отранжируем рекомендации."
   ]
  },
  {
   "cell_type": "code",
   "execution_count": 25,
   "id": "79f1dd92-32a9-463d-827e-8bb9ee5bbb54",
   "metadata": {},
   "outputs": [],
   "source": [
    "from catboost import CatBoostClassifier, Pool\n",
    "\n",
    "#задаем признаки и таргет\n",
    "features = ['popularity_score', 'als_score', 'similar_score', 'user_days', 'user_track', 'rating_avg', 'rating_std', 'user_track_days']\n",
    "target = 'target'"
   ]
  },
  {
   "cell_type": "code",
   "execution_count": 72,
   "id": "6dbe4db4-1ac5-44da-a13c-8e7f9768ab73",
   "metadata": {},
   "outputs": [
    {
     "name": "stdout",
     "output_type": "stream",
     "text": [
      "0:\tlearn: 0.4357139\ttotal: 2.73s\tremaining: 45m 29s\n",
      "100:\tlearn: 0.1066682\ttotal: 3m 38s\tremaining: 32m 25s\n",
      "200:\tlearn: 0.1059837\ttotal: 7m 3s\tremaining: 28m 3s\n",
      "300:\tlearn: 0.1056756\ttotal: 10m 5s\tremaining: 23m 25s\n",
      "400:\tlearn: 0.1054732\ttotal: 13m\tremaining: 19m 25s\n",
      "500:\tlearn: 0.1053519\ttotal: 15m 55s\tremaining: 15m 52s\n",
      "600:\tlearn: 0.1052270\ttotal: 19m 21s\tremaining: 12m 51s\n",
      "700:\tlearn: 0.1051339\ttotal: 22m 39s\tremaining: 9m 39s\n",
      "800:\tlearn: 0.1050290\ttotal: 25m 59s\tremaining: 6m 27s\n",
      "900:\tlearn: 0.1049471\ttotal: 29m 21s\tremaining: 3m 13s\n",
      "999:\tlearn: 0.1048681\ttotal: 32m 43s\tremaining: 0us\n"
     ]
    },
    {
     "data": {
      "text/plain": [
       "<catboost.core.CatBoostClassifier at 0x7f4380999e40>"
      ]
     },
     "execution_count": 72,
     "metadata": {},
     "output_type": "execute_result"
    }
   ],
   "source": [
    "#инициализируем и обучаем модель\n",
    "train_data = Pool(data=candidates_for_train[features], label=candidates_for_train[target])\n",
    "\n",
    "cb_model = CatBoostClassifier(\n",
    "    iterations=1000,\n",
    "    learning_rate=0.1,\n",
    "    depth=6,\n",
    "    loss_function='Logloss',\n",
    "    verbose=100,\n",
    "    random_seed=0  \n",
    ")\n",
    "cb_model.fit(train_data)"
   ]
  },
  {
   "cell_type": "code",
   "execution_count": 74,
   "id": "fd9f7c2d",
   "metadata": {},
   "outputs": [
    {
     "data": {
      "text/plain": [
       "['cb_model.joblib']"
      ]
     },
     "execution_count": 74,
     "metadata": {},
     "output_type": "execute_result"
    }
   ],
   "source": [
    "#joblib.dump(cb_model, \"cb_model.joblib\")"
   ]
  },
  {
   "cell_type": "code",
   "execution_count": 23,
   "id": "ba24dee6",
   "metadata": {},
   "outputs": [],
   "source": [
    "#cb_model = joblib.load('./cb_model.joblib')"
   ]
  },
  {
   "cell_type": "code",
   "execution_count": 26,
   "id": "d3178be7",
   "metadata": {},
   "outputs": [],
   "source": [
    "#используем обученную модель для получения предсказаний для новых рекомендаций\n",
    "inference_data = Pool(data=candidates_to_rank[features])\n",
    "predictions = cb_model.predict_proba(inference_data)"
   ]
  },
  {
   "cell_type": "code",
   "execution_count": 30,
   "id": "2440721e",
   "metadata": {},
   "outputs": [],
   "source": [
    "#добавляем предсказания к кандидатам\n",
    "candidates_to_rank[\"cb_score\"] = predictions[:, 1]\n",
    "#сортируем по убыванию cb_score\n",
    "candidates_to_rank = candidates_to_rank.sort_values([\"user_id\", \"cb_score\"], ascending=[True, False])"
   ]
  },
  {
   "cell_type": "code",
   "execution_count": 31,
   "id": "a2eb7405",
   "metadata": {},
   "outputs": [],
   "source": [
    "#проставим ранги\n",
    "candidates_to_rank[\"rank\"] = candidates_to_rank.groupby(\"user_id\").cumcount() + 1"
   ]
  },
  {
   "cell_type": "code",
   "execution_count": null,
   "id": "b99d8bf3",
   "metadata": {},
   "outputs": [],
   "source": [
    "#оставляем макс 100 рекомендаций для каждого пользователя\n",
    "max_recommendations_per_user = 100\n",
    "final_rec = candidates_to_rank.query(\"rank <= @max_recommendations_per_user\") "
   ]
  },
  {
   "cell_type": "code",
   "execution_count": 17,
   "id": "dae9c45c",
   "metadata": {},
   "outputs": [
    {
     "data": {
      "text/html": [
       "<div>\n",
       "<style scoped>\n",
       "    .dataframe tbody tr th:only-of-type {\n",
       "        vertical-align: middle;\n",
       "    }\n",
       "\n",
       "    .dataframe tbody tr th {\n",
       "        vertical-align: top;\n",
       "    }\n",
       "\n",
       "    .dataframe thead th {\n",
       "        text-align: right;\n",
       "    }\n",
       "</style>\n",
       "<table border=\"1\" class=\"dataframe\">\n",
       "  <thead>\n",
       "    <tr style=\"text-align: right;\">\n",
       "      <th></th>\n",
       "      <th>user_id</th>\n",
       "      <th>item_id</th>\n",
       "      <th>als_score</th>\n",
       "      <th>similar_score</th>\n",
       "      <th>popularity_score</th>\n",
       "      <th>user_days</th>\n",
       "      <th>user_track</th>\n",
       "      <th>rating_avg</th>\n",
       "      <th>rating_std</th>\n",
       "      <th>user_track_days</th>\n",
       "      <th>cb_score</th>\n",
       "      <th>rank</th>\n",
       "    </tr>\n",
       "  </thead>\n",
       "  <tbody>\n",
       "    <tr>\n",
       "      <th>41695017</th>\n",
       "      <td>4</td>\n",
       "      <td>84868935</td>\n",
       "      <td>NaN</td>\n",
       "      <td>0.941437</td>\n",
       "      <td>NaN</td>\n",
       "      <td>269.0</td>\n",
       "      <td>230.0</td>\n",
       "      <td>16510.204348</td>\n",
       "      <td>72.797602</td>\n",
       "      <td>0.855019</td>\n",
       "      <td>0.089639</td>\n",
       "      <td>1</td>\n",
       "    </tr>\n",
       "    <tr>\n",
       "      <th>42033116</th>\n",
       "      <td>4</td>\n",
       "      <td>85327144</td>\n",
       "      <td>NaN</td>\n",
       "      <td>0.927344</td>\n",
       "      <td>NaN</td>\n",
       "      <td>269.0</td>\n",
       "      <td>230.0</td>\n",
       "      <td>16510.204348</td>\n",
       "      <td>72.797602</td>\n",
       "      <td>0.855019</td>\n",
       "      <td>0.071722</td>\n",
       "      <td>2</td>\n",
       "    </tr>\n",
       "    <tr>\n",
       "      <th>40798687</th>\n",
       "      <td>4</td>\n",
       "      <td>83785522</td>\n",
       "      <td>NaN</td>\n",
       "      <td>0.919326</td>\n",
       "      <td>NaN</td>\n",
       "      <td>269.0</td>\n",
       "      <td>230.0</td>\n",
       "      <td>16510.204348</td>\n",
       "      <td>72.797602</td>\n",
       "      <td>0.855019</td>\n",
       "      <td>0.064718</td>\n",
       "      <td>3</td>\n",
       "    </tr>\n",
       "    <tr>\n",
       "      <th>40449289</th>\n",
       "      <td>4</td>\n",
       "      <td>83375864</td>\n",
       "      <td>NaN</td>\n",
       "      <td>0.910500</td>\n",
       "      <td>NaN</td>\n",
       "      <td>269.0</td>\n",
       "      <td>230.0</td>\n",
       "      <td>16510.204348</td>\n",
       "      <td>72.797602</td>\n",
       "      <td>0.855019</td>\n",
       "      <td>0.062505</td>\n",
       "      <td>4</td>\n",
       "    </tr>\n",
       "    <tr>\n",
       "      <th>40449083</th>\n",
       "      <td>4</td>\n",
       "      <td>83375862</td>\n",
       "      <td>NaN</td>\n",
       "      <td>0.883550</td>\n",
       "      <td>NaN</td>\n",
       "      <td>269.0</td>\n",
       "      <td>230.0</td>\n",
       "      <td>16510.204348</td>\n",
       "      <td>72.797602</td>\n",
       "      <td>0.855019</td>\n",
       "      <td>0.052290</td>\n",
       "      <td>5</td>\n",
       "    </tr>\n",
       "    <tr>\n",
       "      <th>...</th>\n",
       "      <td>...</td>\n",
       "      <td>...</td>\n",
       "      <td>...</td>\n",
       "      <td>...</td>\n",
       "      <td>...</td>\n",
       "      <td>...</td>\n",
       "      <td>...</td>\n",
       "      <td>...</td>\n",
       "      <td>...</td>\n",
       "      <td>...</td>\n",
       "      <td>...</td>\n",
       "      <td>...</td>\n",
       "    </tr>\n",
       "    <tr>\n",
       "      <th>37796289</th>\n",
       "      <td>1374582</td>\n",
       "      <td>79648905</td>\n",
       "      <td>NaN</td>\n",
       "      <td>0.949043</td>\n",
       "      <td>NaN</td>\n",
       "      <td>47.0</td>\n",
       "      <td>257.0</td>\n",
       "      <td>16508.396887</td>\n",
       "      <td>74.749569</td>\n",
       "      <td>5.468085</td>\n",
       "      <td>0.140119</td>\n",
       "      <td>96</td>\n",
       "    </tr>\n",
       "    <tr>\n",
       "      <th>43137973</th>\n",
       "      <td>1374582</td>\n",
       "      <td>86767291</td>\n",
       "      <td>NaN</td>\n",
       "      <td>0.949353</td>\n",
       "      <td>NaN</td>\n",
       "      <td>47.0</td>\n",
       "      <td>257.0</td>\n",
       "      <td>16508.396887</td>\n",
       "      <td>74.749569</td>\n",
       "      <td>5.468085</td>\n",
       "      <td>0.140119</td>\n",
       "      <td>97</td>\n",
       "    </tr>\n",
       "    <tr>\n",
       "      <th>38665650</th>\n",
       "      <td>1374582</td>\n",
       "      <td>80806844</td>\n",
       "      <td>NaN</td>\n",
       "      <td>0.948879</td>\n",
       "      <td>NaN</td>\n",
       "      <td>47.0</td>\n",
       "      <td>257.0</td>\n",
       "      <td>16508.396887</td>\n",
       "      <td>74.749569</td>\n",
       "      <td>5.468085</td>\n",
       "      <td>0.139004</td>\n",
       "      <td>98</td>\n",
       "    </tr>\n",
       "    <tr>\n",
       "      <th>39581937</th>\n",
       "      <td>1374582</td>\n",
       "      <td>82096839</td>\n",
       "      <td>NaN</td>\n",
       "      <td>0.948940</td>\n",
       "      <td>NaN</td>\n",
       "      <td>47.0</td>\n",
       "      <td>257.0</td>\n",
       "      <td>16508.396887</td>\n",
       "      <td>74.749569</td>\n",
       "      <td>5.468085</td>\n",
       "      <td>0.139004</td>\n",
       "      <td>99</td>\n",
       "    </tr>\n",
       "    <tr>\n",
       "      <th>41386510</th>\n",
       "      <td>1374582</td>\n",
       "      <td>84543069</td>\n",
       "      <td>NaN</td>\n",
       "      <td>0.948718</td>\n",
       "      <td>NaN</td>\n",
       "      <td>47.0</td>\n",
       "      <td>257.0</td>\n",
       "      <td>16508.396887</td>\n",
       "      <td>74.749569</td>\n",
       "      <td>5.468085</td>\n",
       "      <td>0.139004</td>\n",
       "      <td>100</td>\n",
       "    </tr>\n",
       "  </tbody>\n",
       "</table>\n",
       "<p>25778419 rows × 12 columns</p>\n",
       "</div>"
      ],
      "text/plain": [
       "          user_id   item_id  als_score  similar_score  popularity_score  \\\n",
       "41695017        4  84868935        NaN       0.941437               NaN   \n",
       "42033116        4  85327144        NaN       0.927344               NaN   \n",
       "40798687        4  83785522        NaN       0.919326               NaN   \n",
       "40449289        4  83375864        NaN       0.910500               NaN   \n",
       "40449083        4  83375862        NaN       0.883550               NaN   \n",
       "...           ...       ...        ...            ...               ...   \n",
       "37796289  1374582  79648905        NaN       0.949043               NaN   \n",
       "43137973  1374582  86767291        NaN       0.949353               NaN   \n",
       "38665650  1374582  80806844        NaN       0.948879               NaN   \n",
       "39581937  1374582  82096839        NaN       0.948940               NaN   \n",
       "41386510  1374582  84543069        NaN       0.948718               NaN   \n",
       "\n",
       "          user_days  user_track    rating_avg  rating_std  user_track_days  \\\n",
       "41695017      269.0       230.0  16510.204348   72.797602         0.855019   \n",
       "42033116      269.0       230.0  16510.204348   72.797602         0.855019   \n",
       "40798687      269.0       230.0  16510.204348   72.797602         0.855019   \n",
       "40449289      269.0       230.0  16510.204348   72.797602         0.855019   \n",
       "40449083      269.0       230.0  16510.204348   72.797602         0.855019   \n",
       "...             ...         ...           ...         ...              ...   \n",
       "37796289       47.0       257.0  16508.396887   74.749569         5.468085   \n",
       "43137973       47.0       257.0  16508.396887   74.749569         5.468085   \n",
       "38665650       47.0       257.0  16508.396887   74.749569         5.468085   \n",
       "39581937       47.0       257.0  16508.396887   74.749569         5.468085   \n",
       "41386510       47.0       257.0  16508.396887   74.749569         5.468085   \n",
       "\n",
       "          cb_score  rank  \n",
       "41695017  0.089639     1  \n",
       "42033116  0.071722     2  \n",
       "40798687  0.064718     3  \n",
       "40449289  0.062505     4  \n",
       "40449083  0.052290     5  \n",
       "...            ...   ...  \n",
       "37796289  0.140119    96  \n",
       "43137973  0.140119    97  \n",
       "38665650  0.139004    98  \n",
       "39581937  0.139004    99  \n",
       "41386510  0.139004   100  \n",
       "\n",
       "[25778419 rows x 12 columns]"
      ]
     },
     "execution_count": 17,
     "metadata": {},
     "output_type": "execute_result"
    }
   ],
   "source": [
    "final_rec"
   ]
  },
  {
   "cell_type": "code",
   "execution_count": 16,
   "id": "40ec3791",
   "metadata": {},
   "outputs": [],
   "source": [
    "# логируем полученные рекомендации\n",
    "#RUN_NAME = \"final_rec\"\n",
    "\n",
    "#experiment_id = mlflow.create_experiment(EXPERIMENT_NAME) \n",
    "\n",
    "#experiment_id = mlflow.get_experiment_by_name(EXPERIMENT_NAME).experiment_id\n",
    "\n",
    "#with mlflow.start_run(run_name=RUN_NAME, experiment_id=experiment_id) as run:\n",
    " #   run_id = run.info.run_id\n",
    "  #  mlflow.log_artifact('./recommendations.parquet', artifact_path='recsys/recommendations')"
   ]
  },
  {
   "cell_type": "code",
   "execution_count": 4,
   "id": "2809a38e",
   "metadata": {},
   "outputs": [],
   "source": [
    "#сохранаяем финальные рекомендации\n",
    "#final_rec.to_parquet(\"recommendations.parquet\")"
   ]
  },
  {
   "cell_type": "code",
   "execution_count": 40,
   "id": "91eb3063",
   "metadata": {},
   "outputs": [],
   "source": [
    "#важность признаков\n",
    "feature_importance = pd.DataFrame(cb_model.get_feature_importance(), \n",
    "    index=features, \n",
    "    columns=[\"fi\"])\n"
   ]
  },
  {
   "cell_type": "code",
   "execution_count": 42,
   "id": "2cd41a5b",
   "metadata": {},
   "outputs": [
    {
     "name": "stdout",
     "output_type": "stream",
     "text": [
      "similar_score       69.355273\n",
      "als_score           16.659086\n",
      "rating_avg           5.057136\n",
      "popularity_score     2.614688\n",
      "rating_std           2.156911\n",
      "user_track_days      2.002724\n",
      "user_track           1.315178\n",
      "user_days            0.839005\n",
      "Name: fi, dtype: float64\n"
     ]
    }
   ],
   "source": [
    "feature_importance = feature_importance.fi.sort_values(ascending=False)\n",
    "print(feature_importance ) "
   ]
  },
  {
   "cell_type": "markdown",
   "id": "b3c84071-45b5-4a15-a683-e0ab034a3128",
   "metadata": {},
   "source": [
    "# Оценка качества"
   ]
  },
  {
   "cell_type": "markdown",
   "id": "1b107fe4-554e-42b1-87d9-c435a52bb77a",
   "metadata": {},
   "source": [
    "Проверим оценку качества трёх типов рекомендаций: \n",
    "\n",
    "- топ популярных,\n",
    "- персональных, полученных при помощи ALS,\n",
    "- итоговых\n",
    "  \n",
    "по четырем метрикам: recall, precision, coverage, novelty."
   ]
  },
  {
   "cell_type": "markdown",
   "id": "52b564e5",
   "metadata": {},
   "source": [
    "### Загружаем рекомендации"
   ]
  },
  {
   "cell_type": "code",
   "execution_count": 6,
   "id": "291e6301",
   "metadata": {},
   "outputs": [],
   "source": [
    "#для первой выборки\n",
    "als_recommendations = pd.read_parquet(\"personal_als.parquet\")\n",
    "top_popular = pd.read_parquet(\"top_popular.parquet\")"
   ]
  },
  {
   "cell_type": "code",
   "execution_count": 7,
   "id": "7d8b9dad",
   "metadata": {},
   "outputs": [],
   "source": [
    "similar = pd.read_parquet(\"similar.parquet\")"
   ]
  },
  {
   "cell_type": "code",
   "execution_count": 8,
   "id": "36eac65e",
   "metadata": {},
   "outputs": [],
   "source": [
    "#для второй выборки\n",
    "als_recommendations_2 = pd.read_parquet(\"personal_als_2.parquet\")\n",
    "top_popular_2 = pd.read_parquet(\"top_popular_2.parquet\")"
   ]
  },
  {
   "cell_type": "code",
   "execution_count": 9,
   "id": "dca52b0d",
   "metadata": {},
   "outputs": [],
   "source": [
    "similar_2 = pd.read_parquet(\"similar_2.parquet\")"
   ]
  },
  {
   "cell_type": "code",
   "execution_count": 10,
   "id": "8e617465",
   "metadata": {},
   "outputs": [],
   "source": [
    "#финальные рекомендации\n",
    "final_rec = pd.read_parquet(\"recommendations.parquet\")"
   ]
  },
  {
   "cell_type": "markdown",
   "id": "ccc39bec",
   "metadata": {},
   "source": [
    "## Покрытие(coverage)"
   ]
  },
  {
   "cell_type": "code",
   "execution_count": 13,
   "id": "52c94738",
   "metadata": {},
   "outputs": [
    {
     "data": {
      "text/plain": [
       "594777"
      ]
     },
     "execution_count": 13,
     "metadata": {},
     "output_type": "execute_result"
    }
   ],
   "source": [
    "#уникальные объекты в выборке\n",
    "item_events = events.item_id.nunique()\n",
    "item_events"
   ]
  },
  {
   "cell_type": "markdown",
   "id": "9a724a61",
   "metadata": {},
   "source": [
    "#### Популярные рекомендации"
   ]
  },
  {
   "cell_type": "code",
   "execution_count": null,
   "id": "8f9eb82b",
   "metadata": {},
   "outputs": [
    {
     "data": {
      "text/plain": [
       "0.00016813024040943076"
      ]
     },
     "execution_count": 59,
     "metadata": {},
     "output_type": "execute_result"
    }
   ],
   "source": [
    "item_pop = top_popular.item_id.nunique()\n",
    "#покрытие объектами\n",
    "item_cov_pop = item_pop / item_events\n",
    "item_cov_pop "
   ]
  },
  {
   "cell_type": "markdown",
   "id": "acb7f5cd",
   "metadata": {},
   "source": [
    "#### Персональные рекомендации"
   ]
  },
  {
   "cell_type": "code",
   "execution_count": 15,
   "id": "eeb83b48",
   "metadata": {},
   "outputs": [
    {
     "data": {
      "text/plain": [
       "0.0410843055464485"
      ]
     },
     "execution_count": 15,
     "metadata": {},
     "output_type": "execute_result"
    }
   ],
   "source": [
    "#уникальные объекты в рекомендациях\n",
    "item_all = als_recommendations.item_id.nunique()\n",
    "#покрытие объектами\n",
    "item_cov_als = item_all / item_events\n",
    "item_cov_als"
   ]
  },
  {
   "cell_type": "markdown",
   "id": "e96fcc3f",
   "metadata": {},
   "source": [
    "#### Финальные рекомендации"
   ]
  },
  {
   "cell_type": "code",
   "execution_count": 16,
   "id": "eb319427",
   "metadata": {},
   "outputs": [
    {
     "data": {
      "text/plain": [
       "0.9254191066567806"
      ]
     },
     "execution_count": 16,
     "metadata": {},
     "output_type": "execute_result"
    }
   ],
   "source": [
    "#уникальные объекты в финальных рекомендациях\n",
    "item_fin = final_rec.item_id.nunique()\n",
    "#покрытие объектами\n",
    "item_cov_fin = item_fin / item_events\n",
    "item_cov_fin "
   ]
  },
  {
   "cell_type": "markdown",
   "id": "bc9fe0e8",
   "metadata": {},
   "source": [
    "## Метрика NDCG (оценка релевантности для каждого рекомендованного элемента)"
   ]
  },
  {
   "cell_type": "code",
   "execution_count": 17,
   "id": "a6c2ba8b",
   "metadata": {},
   "outputs": [],
   "source": [
    "#реализация\n",
    "import sklearn.metrics\n",
    "\n",
    "def compute_ndcg(rating: pd.Series, score: pd.Series, k):\n",
    "    \"\"\"подсчет ndcg\n",
    "    rating: истинные оценки\n",
    "    score: оценки модели\n",
    "    k: количество айтемов(по убыванию score) для оценки, остальные отбрасываются\"\"\"\n",
    "\n",
    "    # если кол-во объектов меньше 2, то NDCG - не определена\n",
    "    if len(rating) < 2:\n",
    "        return np.nan\n",
    "\n",
    "    ndcg = sklearn.metrics.ndcg_score(np.asarray([rating.to_numpy()]), np.asarray([score.to_numpy()]), k=k)\n",
    "\n",
    "    return ndcg "
   ]
  },
  {
   "cell_type": "markdown",
   "id": "922f391c",
   "metadata": {},
   "source": [
    "#### Популярные рекомендации"
   ]
  },
  {
   "cell_type": "code",
   "execution_count": 60,
   "id": "35e91290",
   "metadata": {},
   "outputs": [],
   "source": [
    "#добавим в рекомендации истинные оценки из тестовой выборки\n",
    "pop_rec = top_popular.merge(events_test[[\"user_id\", \"item_id\", \"rating\"]].rename(columns={\"rating\": \"rating_test\"}),\n",
    "on=[\"user_id\", \"item_id\"], how=\"left\")"
   ]
  },
  {
   "cell_type": "code",
   "execution_count": 61,
   "id": "66f7378b",
   "metadata": {},
   "outputs": [
    {
     "name": "stdout",
     "output_type": "stream",
     "text": [
      "0.9998153199648154\n"
     ]
    }
   ],
   "source": [
    "#посчитаем NDCG для 7 объектов\n",
    "rating_test_idx_pop = ~pop_rec[\"rating_test\"].isnull()\n",
    "ndcg_7_pop = pop_rec[rating_test_idx_pop].groupby(\"user_id\").apply(lambda x: compute_ndcg(x[\"rating_test\"], x[\"popularity_score\"], k=7)) \n",
    "#среднее значение по всем пользователям\n",
    "print(ndcg_7_pop.mean())"
   ]
  },
  {
   "cell_type": "markdown",
   "id": "b84b985b",
   "metadata": {},
   "source": [
    "#### Персональные рекомендации"
   ]
  },
  {
   "cell_type": "code",
   "execution_count": 20,
   "id": "c8fe3160",
   "metadata": {},
   "outputs": [],
   "source": [
    "#добавим в рекомендации истинные оценки из тестовой выборки\n",
    "als_rec = als_recommendations.merge(events_test[[\"user_id\", \"item_id\", \"rating\"]].rename(columns={\"rating\": \"rating_test\"}),\n",
    "on=[\"user_id\", \"item_id\"], how=\"left\")"
   ]
  },
  {
   "cell_type": "code",
   "execution_count": 21,
   "id": "db3fd184",
   "metadata": {},
   "outputs": [
    {
     "name": "stdout",
     "output_type": "stream",
     "text": [
      "0.9998860587533984\n"
     ]
    }
   ],
   "source": [
    "#посчитаем NDCG для 10 объектов\n",
    "rating_test_idx = ~als_rec[\"rating_test\"].isnull()\n",
    "ndcg_7_als = als_rec[rating_test_idx].groupby(\"user_id\").apply(lambda x: compute_ndcg(x[\"rating_test\"], x[\"score\"], k=7)) \n",
    "#среднее значение по всем пользователям\n",
    "print(ndcg_7_als.mean())"
   ]
  },
  {
   "cell_type": "code",
   "execution_count": 22,
   "id": "b46c3b1e",
   "metadata": {},
   "outputs": [],
   "source": [
    "#добавим в рекомендации истинные оценки из тестовой выборки\n",
    "als_rec_2 = als_recommendations_2.merge(events_test_2[[\"user_id\", \"item_id\", \"rating\"]].rename(columns={\"rating\": \"rating_test\"}),\n",
    "on=[\"user_id\", \"item_id\"], how=\"left\")"
   ]
  },
  {
   "cell_type": "code",
   "execution_count": 23,
   "id": "686dda4e",
   "metadata": {},
   "outputs": [
    {
     "name": "stdout",
     "output_type": "stream",
     "text": [
      "0.9999263061017614\n"
     ]
    }
   ],
   "source": [
    "#посчитаем NDCG для 20 объектов\n",
    "rating_test_idx = ~als_rec_2[\"rating_test\"].isnull()\n",
    "ndcg_7_als_2 = als_rec_2[rating_test_idx].groupby(\"user_id\").apply(lambda x: compute_ndcg(x[\"rating_test\"], x[\"score\"], k=7)) \n",
    "#среднее значение по всем пользователям\n",
    "print(ndcg_7_als_2.mean())"
   ]
  },
  {
   "cell_type": "markdown",
   "id": "ace33d32",
   "metadata": {},
   "source": [
    "#### Похожие рекомендации"
   ]
  },
  {
   "cell_type": "code",
   "execution_count": 24,
   "id": "f1dddffb",
   "metadata": {},
   "outputs": [],
   "source": [
    "#добавим в рекомендации истинные оценки из тестовой выборки\n",
    "similar_rec = (similar.merge(events_test[[\"user_id\", \"item_id\", \"rating\"]].rename(columns={\"rating\": \"rating_test\"}),\n",
    "on=[\"user_id\", \"item_id\"], how=\"left\"))"
   ]
  },
  {
   "cell_type": "code",
   "execution_count": 25,
   "id": "1d8bef58",
   "metadata": {},
   "outputs": [
    {
     "name": "stdout",
     "output_type": "stream",
     "text": [
      "0.9999438356483735\n"
     ]
    }
   ],
   "source": [
    "#посчитаем NDCG для 5 объектов\n",
    "rating_test_idx = ~similar_rec[\"rating_test\"].isnull()\n",
    "ndcg_7_sim = similar_rec[rating_test_idx].groupby(\"user_id\").apply(lambda x: compute_ndcg(x[\"rating_test\"], x[\"similar_score\"], k=7)) \n",
    "#среднее значение по всем пользователям\n",
    "print(ndcg_7_sim.mean())"
   ]
  },
  {
   "cell_type": "markdown",
   "id": "5da6b785",
   "metadata": {},
   "source": [
    "#### Финальные рекомендации"
   ]
  },
  {
   "cell_type": "code",
   "execution_count": 26,
   "id": "9e0c65d9",
   "metadata": {},
   "outputs": [],
   "source": [
    "#добавим в рекомендации истинные оценки из тестовой выборки\n",
    "fin_rec = (final_rec.merge(events_test_2[[\"user_id\", \"item_id\", \"rating\"]].rename(columns={\"rating\": \"rating_test\"}),\n",
    "on=[\"user_id\", \"item_id\"], how=\"left\"))"
   ]
  },
  {
   "cell_type": "code",
   "execution_count": 27,
   "id": "765762b9",
   "metadata": {},
   "outputs": [
    {
     "name": "stdout",
     "output_type": "stream",
     "text": [
      "0.9999661030312338\n"
     ]
    }
   ],
   "source": [
    "#посчитаем NDCG для 5 объектов\n",
    "rating_test_idx_fin = ~fin_rec[\"rating_test\"].isnull()\n",
    "ndcg_7_fin = fin_rec[rating_test_idx_fin].groupby(\"user_id\").apply(lambda x: compute_ndcg(x[\"rating_test\"], x[\"cb_score\"], k=7)) \n",
    "#среднее значение по всем пользователям\n",
    "print(ndcg_7_fin.mean())"
   ]
  },
  {
   "cell_type": "markdown",
   "id": "ee87fad9",
   "metadata": {},
   "source": [
    "## Метрики recall и precision"
   ]
  },
  {
   "cell_type": "code",
   "execution_count": 28,
   "id": "329808eb",
   "metadata": {},
   "outputs": [],
   "source": [
    "# разметкa случившихся в будущем событий (events_test) и рекомендаций \n",
    "def process_events_recs_for_binary_metrics(events_train, events_test, recs, top_k=None):\n",
    "\n",
    "    \"\"\"\n",
    "    размечает пары <user_id, item_id> для общего множества пользователей признаками\n",
    "    - gt (ground truth)\n",
    "    - pr (prediction)\n",
    "    top_k: расчёт ведётся только для top k-рекомендаций\n",
    "    \"\"\"\n",
    "\n",
    "    events_test[\"gt\"] = True\n",
    "    common_users = set(events_test[\"user_id\"]) & set(recs[\"user_id\"])\n",
    "\n",
    "    print(f\"Common users: {len(common_users)}\")\n",
    "    \n",
    "    events_for_common_users = events_test[events_test[\"user_id\"].isin(common_users)].copy()\n",
    "    recs_for_common_users = recs[recs[\"user_id\"].isin(common_users)].copy()\n",
    "\n",
    "    recs_for_common_users = recs_for_common_users.sort_values([\"user_id\", \"score\"], ascending=[True, False])\n",
    "\n",
    "    # оставляет только те item_id, которые были в events_train, \n",
    "    # т. к. модель не имела никакой возможности давать рекомендации для новых айтемов\n",
    "    events_for_common_users = events_for_common_users[events_for_common_users[\"item_id\"].isin(events_train[\"item_id\"].unique())]\n",
    "\n",
    "    if top_k is not None:\n",
    "        recs_for_common_users = recs_for_common_users.groupby(\"user_id\").head(top_k)\n",
    "    \n",
    "    events_recs_common = events_for_common_users[[\"user_id\", \"item_id\", \"gt\"]].merge(\n",
    "        recs_for_common_users[[\"user_id\", \"item_id\", \"score\"]], \n",
    "        on=[\"user_id\", \"item_id\"], how=\"outer\")    \n",
    "\n",
    "    events_recs_common[\"gt\"] = events_recs_common[\"gt\"].fillna(False)\n",
    "    events_recs_common[\"pr\"] = ~events_recs_common[\"score\"].isnull()\n",
    "    \n",
    "    events_recs_common[\"tp\"] = events_recs_common[\"gt\"] & events_recs_common[\"pr\"]\n",
    "    events_recs_common[\"fp\"] = ~events_recs_common[\"gt\"] & events_recs_common[\"pr\"]\n",
    "    events_recs_common[\"fn\"] = events_recs_common[\"gt\"] & ~events_recs_common[\"pr\"]\n",
    "\n",
    "    return events_recs_common"
   ]
  },
  {
   "cell_type": "code",
   "execution_count": 29,
   "id": "5e4caa2f",
   "metadata": {},
   "outputs": [],
   "source": [
    "#значения метрик precision, recall.\n",
    "def compute_cls_metrics(events_recs_for_binary_metric):\n",
    "    \n",
    "    groupper = events_recs_for_binary_metric.groupby(\"user_id\")\n",
    "\n",
    "    # precision = tp / (tp + fp)\n",
    "    precision = groupper[\"tp\"].sum()/(groupper[\"tp\"].sum()+groupper[\"fp\"].sum())\n",
    "    precision = precision.fillna(0).mean()\n",
    "    \n",
    "    # recall = tp / (tp + fn)\n",
    "    recall = groupper[\"tp\"].sum()/(groupper[\"tp\"].sum()+groupper[\"fn\"].sum())\n",
    "    recall = recall.fillna(0).mean()\n",
    "    \n",
    "\n",
    "    return precision, recall "
   ]
  },
  {
   "cell_type": "markdown",
   "id": "22bf9c8c",
   "metadata": {},
   "source": [
    "#### Популярные рекомендации"
   ]
  },
  {
   "cell_type": "code",
   "execution_count": null,
   "id": "bf344ac2",
   "metadata": {},
   "outputs": [
    {
     "name": "stderr",
     "output_type": "stream",
     "text": [
      "/tmp/ipykernel_4826/1348394553.py:11: SettingWithCopyWarning: \n",
      "A value is trying to be set on a copy of a slice from a DataFrame.\n",
      "Try using .loc[row_indexer,col_indexer] = value instead\n",
      "\n",
      "See the caveats in the documentation: https://pandas.pydata.org/pandas-docs/stable/user_guide/indexing.html#returning-a-view-versus-a-copy\n",
      "  events_test[\"gt\"] = True\n"
     ]
    },
    {
     "name": "stdout",
     "output_type": "stream",
     "text": [
      "Common users: 194423\n",
      "precision: 1.000, recall: 0.170\n"
     ]
    }
   ],
   "source": [
    "#обработаем pop-рекомендации для подсчёта метрик для 5 лучших рекомендаций\n",
    "events_recs_for_binary_metrics_pop = process_events_recs_for_binary_metrics(\n",
    "  events_train,\n",
    "    events_test, \n",
    "    top_popular.rename(columns={\"popularity_score\": \"score\"}), \n",
    "    top_k=5\n",
    ")\n",
    "pop_precision_5, pop_recall_5 = compute_cls_metrics(events_recs_for_binary_metrics_pop)\n",
    "\n",
    "print(f\"precision: {pop_precision_5:.3f}, recall: {pop_recall_5:.3f}\")"
   ]
  },
  {
   "cell_type": "markdown",
   "id": "87a6b3d5",
   "metadata": {},
   "source": [
    "#### Персональные рекомендации"
   ]
  },
  {
   "cell_type": "code",
   "execution_count": 31,
   "id": "c0af30b5",
   "metadata": {},
   "outputs": [
    {
     "name": "stderr",
     "output_type": "stream",
     "text": [
      "/tmp/ipykernel_4826/1348394553.py:11: SettingWithCopyWarning: \n",
      "A value is trying to be set on a copy of a slice from a DataFrame.\n",
      "Try using .loc[row_indexer,col_indexer] = value instead\n",
      "\n",
      "See the caveats in the documentation: https://pandas.pydata.org/pandas-docs/stable/user_guide/indexing.html#returning-a-view-versus-a-copy\n",
      "  events_test[\"gt\"] = True\n"
     ]
    },
    {
     "name": "stdout",
     "output_type": "stream",
     "text": [
      "Common users: 211870\n",
      "precision: 0.003, recall: 0.001\n"
     ]
    }
   ],
   "source": [
    "#обработаем ALS-рекомендации для подсчёта метрик для 5 лучших рекомендаций\n",
    "events_recs_for_binary_metrics_als = process_events_recs_for_binary_metrics(\n",
    "  events_train,\n",
    "    events_test, \n",
    "    als_recommendations, \n",
    "    top_k=5)\n",
    "als_precision_5, als_recall_5 = compute_cls_metrics(events_recs_for_binary_metrics_als)\n",
    "\n",
    "print(f\"precision: {als_precision_5:.3f}, recall: {als_recall_5:.3f}\")"
   ]
  },
  {
   "cell_type": "markdown",
   "id": "509375f4",
   "metadata": {},
   "source": [
    "#### Похожие рекомендации"
   ]
  },
  {
   "cell_type": "code",
   "execution_count": 32,
   "id": "574fc009",
   "metadata": {},
   "outputs": [
    {
     "name": "stderr",
     "output_type": "stream",
     "text": [
      "/tmp/ipykernel_4826/1348394553.py:11: SettingWithCopyWarning: \n",
      "A value is trying to be set on a copy of a slice from a DataFrame.\n",
      "Try using .loc[row_indexer,col_indexer] = value instead\n",
      "\n",
      "See the caveats in the documentation: https://pandas.pydata.org/pandas-docs/stable/user_guide/indexing.html#returning-a-view-versus-a-copy\n",
      "  events_test[\"gt\"] = True\n"
     ]
    },
    {
     "name": "stdout",
     "output_type": "stream",
     "text": [
      "Common users: 623229\n",
      "precision: 0.021, recall: 0.024\n"
     ]
    }
   ],
   "source": [
    "events_recs_for_binary_metrics_sim = process_events_recs_for_binary_metrics(\n",
    "  events_train,\n",
    "    events_test, \n",
    "    similar.rename(columns={\"similar_score\": \"score\"}), \n",
    "    top_k=5)\n",
    "\n",
    "sim_precision_5, sim_recall_5 = compute_cls_metrics(events_recs_for_binary_metrics_sim)\n",
    "\n",
    "print(f\"precision: {sim_precision_5:.3f}, recall: {sim_recall_5:.3f}\")"
   ]
  },
  {
   "cell_type": "markdown",
   "id": "1f3508ab",
   "metadata": {},
   "source": [
    "#### Финальные рекомендации"
   ]
  },
  {
   "cell_type": "code",
   "execution_count": 33,
   "id": "b5ef9927",
   "metadata": {},
   "outputs": [
    {
     "name": "stderr",
     "output_type": "stream",
     "text": [
      "/tmp/ipykernel_4826/1348394553.py:11: SettingWithCopyWarning: \n",
      "A value is trying to be set on a copy of a slice from a DataFrame.\n",
      "Try using .loc[row_indexer,col_indexer] = value instead\n",
      "\n",
      "See the caveats in the documentation: https://pandas.pydata.org/pandas-docs/stable/user_guide/indexing.html#returning-a-view-versus-a-copy\n",
      "  events_test[\"gt\"] = True\n"
     ]
    },
    {
     "name": "stdout",
     "output_type": "stream",
     "text": [
      "Common users: 467833\n",
      "precision: 0.022, recall: 0.026\n"
     ]
    }
   ],
   "source": [
    "# для экономии ресурсов оставим события только тех пользователей, \n",
    "# для которых следует оценить рекомендации\n",
    "events_inference = events_inference[events_inference[\"user_id\"].isin(events_test_2[\"user_id\"].drop_duplicates())]\n",
    "\n",
    "events_recs_for_binary_metrics_cb = process_events_recs_for_binary_metrics(\n",
    "    events_inference,\n",
    "    events_test_2,\n",
    "    final_rec.rename(columns={\"cb_score\": \"score\"}), \n",
    "    top_k=5)\n",
    "\n",
    "cb_precision_5, cb_recall_5 = compute_cls_metrics(events_recs_for_binary_metrics_cb)\n",
    "\n",
    "print(f\"precision: {cb_precision_5:.3f}, recall: {cb_recall_5:.3f}\")"
   ]
  },
  {
   "cell_type": "markdown",
   "id": "1ae81276",
   "metadata": {},
   "source": [
    "## Новизна (англ. novelty)"
   ]
  },
  {
   "cell_type": "markdown",
   "id": "1e62c0b4",
   "metadata": {},
   "source": [
    "#### Финальные рекомендации"
   ]
  },
  {
   "cell_type": "code",
   "execution_count": 34,
   "id": "aee01db0",
   "metadata": {},
   "outputs": [],
   "source": [
    "# разметим каждую рекомендацию признаком list\n",
    "events_inference[\"list\"] = True\n",
    "final_rec = final_rec.merge(events_inference, on=[\"user_id\", \"item_id\"], how=\"left\")"
   ]
  },
  {
   "cell_type": "code",
   "execution_count": 35,
   "id": "3201349f",
   "metadata": {},
   "outputs": [
    {
     "name": "stdout",
     "output_type": "stream",
     "text": [
      "0.8809291278440528\n"
     ]
    }
   ],
   "source": [
    "final_rec[\"list\"] = final_rec[\"list\"].fillna(False).astype(\"bool\")\n",
    "# посчитаем novelty по пользователям\n",
    "novelty_10 = (1-final_rec.query(\"rank <= 10\").groupby(\"user_id\")[\"list\"].mean())\n",
    "novelty_10_cb = novelty_10.mean()\n",
    "print(novelty_10_cb )"
   ]
  },
  {
   "cell_type": "markdown",
   "id": "b817117a",
   "metadata": {},
   "source": [
    "#### Персональные рекомендации"
   ]
  },
  {
   "cell_type": "code",
   "execution_count": 36,
   "id": "7d786253",
   "metadata": {},
   "outputs": [
    {
     "name": "stderr",
     "output_type": "stream",
     "text": [
      "/tmp/ipykernel_4826/522831081.py:1: SettingWithCopyWarning: \n",
      "A value is trying to be set on a copy of a slice from a DataFrame.\n",
      "Try using .loc[row_indexer,col_indexer] = value instead\n",
      "\n",
      "See the caveats in the documentation: https://pandas.pydata.org/pandas-docs/stable/user_guide/indexing.html#returning-a-view-versus-a-copy\n",
      "  events_train[\"list\"] = True\n"
     ]
    }
   ],
   "source": [
    "events_train[\"list\"] = True\n",
    "als_recommendations = als_recommendations.merge(events_train, on=[\"user_id\", \"item_id\"], how=\"left\")"
   ]
  },
  {
   "cell_type": "code",
   "execution_count": 37,
   "id": "f9e46c36",
   "metadata": {},
   "outputs": [
    {
     "name": "stdout",
     "output_type": "stream",
     "text": [
      "0.7270327609826276\n"
     ]
    }
   ],
   "source": [
    "als_recommendations[\"list\"] = als_recommendations[\"list\"].fillna(False).astype(\"bool\")\n",
    "# проставим ранги\n",
    "als_recommendations = als_recommendations.sort_values(by=\"score\", ascending=False)\n",
    "als_recommendations[\"rank\"] = als_recommendations.groupby(\"user_id\").cumcount() + 1\n",
    "# посчитаем novelty по пользователям\n",
    "novelty_10 = (1-als_recommendations.query(\"rank <= 10\").groupby(\"user_id\")[\"list\"].mean())\n",
    "# посчитаем средний novelty\n",
    "novelty_10_als = novelty_10.mean()\n",
    "print(novelty_10_als)"
   ]
  },
  {
   "cell_type": "markdown",
   "id": "51210064",
   "metadata": {},
   "source": [
    "#### Топ популярных"
   ]
  },
  {
   "cell_type": "code",
   "execution_count": 38,
   "id": "65551b3b",
   "metadata": {},
   "outputs": [
    {
     "name": "stderr",
     "output_type": "stream",
     "text": [
      "/tmp/ipykernel_4826/878219141.py:1: SettingWithCopyWarning: \n",
      "A value is trying to be set on a copy of a slice from a DataFrame.\n",
      "Try using .loc[row_indexer,col_indexer] = value instead\n",
      "\n",
      "See the caveats in the documentation: https://pandas.pydata.org/pandas-docs/stable/user_guide/indexing.html#returning-a-view-versus-a-copy\n",
      "  events_train[\"list\"] = True\n"
     ]
    }
   ],
   "source": [
    "events_train[\"list\"] = True\n",
    "top_popular = top_popular.merge(events_train, on=[\"user_id\", \"item_id\"], how=\"left\")"
   ]
  },
  {
   "cell_type": "code",
   "execution_count": 39,
   "id": "b2dfeffd",
   "metadata": {},
   "outputs": [
    {
     "name": "stdout",
     "output_type": "stream",
     "text": [
      "1.0\n"
     ]
    }
   ],
   "source": [
    "top_popular[\"list\"] = top_popular[\"list\"].fillna(False).astype(\"bool\")\n",
    "# проставим ранги\n",
    "top_popular = top_popular.sort_values(by=\"popularity_score\", ascending=False)\n",
    "top_popular[\"rank\"] = top_popular.groupby(\"user_id\").cumcount() + 1\n",
    "# посчитаем novelty по пользователям\n",
    "novelty_10 = (1-top_popular.query(\"rank <= 10\").groupby(\"user_id\")[\"list\"].mean())\n",
    "#посчитаем средний novelty\n",
    "novelty_10_pop = novelty_10.mean()\n",
    "print(novelty_10_pop)"
   ]
  },
  {
   "cell_type": "markdown",
   "id": "626eaced",
   "metadata": {},
   "source": [
    "#### Похожие"
   ]
  },
  {
   "cell_type": "code",
   "execution_count": 40,
   "id": "3d4abfa7",
   "metadata": {},
   "outputs": [],
   "source": [
    "similar = similar.merge(events_train, on=[\"user_id\", \"item_id\"], how=\"left\")"
   ]
  },
  {
   "cell_type": "code",
   "execution_count": 43,
   "id": "d9d0fc8a",
   "metadata": {},
   "outputs": [
    {
     "name": "stdout",
     "output_type": "stream",
     "text": [
      "0.8820690620052093\n"
     ]
    }
   ],
   "source": [
    "similar[\"list\"] = similar[\"list\"].fillna(False).astype(\"bool\")\n",
    "# проставим ранги\n",
    "similar = similar.sort_values(by=\"similar_score\", ascending=False)\n",
    "similar[\"rank\"] = similar.groupby(\"user_id\").cumcount() + 1\n",
    "# посчитаем novelty по пользователям\n",
    "novelty_10 = (1-similar.query(\"rank <= 10\").groupby(\"user_id\")[\"list\"].mean())\n",
    "#посчитаем средний novelty\n",
    "novelty_10_sim = novelty_10.mean()\n",
    "print(novelty_10_sim)"
   ]
  },
  {
   "cell_type": "markdown",
   "id": "f1c8d38c-32b0-46a4-96f0-cd01dac708bc",
   "metadata": {},
   "source": [
    "# === Выводы, метрики ==="
   ]
  },
  {
   "cell_type": "markdown",
   "id": "f7d7d5d8-7d1e-4fdf-a6cd-83e5ce92c684",
   "metadata": {},
   "source": [
    "Основные выводы при работе над расчётом рекомендаций, рассчитанные метрики."
   ]
  },
  {
   "cell_type": "markdown",
   "id": "6403097d-db36-46d9-8952-613c9bd51b05",
   "metadata": {},
   "source": [
    "#### Были рассчитаны рекомендации нескольких типов:\n",
    "- топ популярных \n",
    "- персональные (при помощи ALS)\n",
    "- похожие треки(i2i при помощи ALS)\n",
    "##### На основе рекомендаций построены кандидаты для обученимя ранжирующей модели. К кандидатам добавили сгенерированные на основании датасета признаки пользователя. Ранжирующая модель CatBoostClassifier обучена на первых рекомендациях. Наиболее важным признаком при обучении модели оказались похожие рекомендации. Получены финальные рекомендации ранжирующей модели на новых кандидатах. \n",
    "Далее проведена офлайн  валидация рекомендацительной системы. Расчитаны метрики NDCG, recall, precision, coverage, novelty."
   ]
  },
  {
   "cell_type": "code",
   "execution_count": 46,
   "id": "986cfdd5-6f2e-4de6-8666-85804c87d04b",
   "metadata": {},
   "outputs": [
    {
     "name": "stdout",
     "output_type": "stream",
     "text": [
      "NDCG@7: Топ-популярные: 0.999763336300312, Персональные рекомендации: 0.9998860587533984, Похожие рекомендации: 0.9999438356483735, Финальные рекомендации: 0.9999661030312338\n",
      "PRECISION@5: Топ-популярные: 1.000, Персональные рекомендации: 0.003, Похожие рекомендации: 0.021, Финальные рекомендации: 0.022\n",
      "RECALL@5: Топ-популярные: 0.092, Персональные рекомендации: 0.001, Похожие рекомендации: 0.024, Финальные рекомендации: 0.026\n",
      "COVERAGE: Топ-популярные: 0.00016813024040943076, Персональные рекомендации: 0.0410843055464485, Финальные рекомендации: 0.9254191066567806\n",
      "NOVELTY@10: Топ-популярные: 1.0, Персональные рекомендации: 0.7270327609826276, Похожие рекомендации: 0.8820690620052093, Финальные рекомендации: 0.8809291278440528\n"
     ]
    }
   ],
   "source": [
    "print(f\"NDCG@7: Топ-популярные: {ndcg_7_pop.mean()}, Персональные рекомендации: {ndcg_7_als.mean()}, Похожие рекомендации: {ndcg_7_sim.mean()}, Финальные рекомендации: {ndcg_7_fin.mean()}\")\n",
    "print(f\"PRECISION@5: Топ-популярные: {pop_precision_5:.3f}, Персональные рекомендации: {als_precision_5:.3f}, Похожие рекомендации: {sim_precision_5:.3f}, Финальные рекомендации: {cb_precision_5:.3f}\")\n",
    "print(f\"RECALL@5: Топ-популярные: {pop_recall_5:.3f}, Персональные рекомендации: {als_recall_5:.3f}, Похожие рекомендации: {sim_recall_5:.3f}, Финальные рекомендации: {cb_recall_5:.3f}\")\n",
    "print(f\"COVERAGE: Топ-популярные: {item_cov_pop}, Персональные рекомендации: {item_cov_als}, Финальные рекомендации: {item_cov_fin}\")\n",
    "print(f\"NOVELTY@10: Топ-популярные: {novelty_10_pop}, Персональные рекомендации: {novelty_10_als}, Похожие рекомендации: {novelty_10_sim}, Финальные рекомендации: {novelty_10_cb}\")"
   ]
  }
 ],
 "metadata": {
  "kernelspec": {
   "display_name": "Python 3",
   "language": "python",
   "name": "python3"
  },
  "language_info": {
   "codemirror_mode": {
    "name": "ipython",
    "version": 3
   },
   "file_extension": ".py",
   "mimetype": "text/x-python",
   "name": "python",
   "nbconvert_exporter": "python",
   "pygments_lexer": "ipython3",
   "version": "3.10.12"
  }
 },
 "nbformat": 4,
 "nbformat_minor": 5
}
